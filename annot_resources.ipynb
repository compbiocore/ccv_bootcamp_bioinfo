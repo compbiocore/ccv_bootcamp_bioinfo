{
 "cells": [
  {
   "cell_type": "markdown",
   "id": "regional-sequence",
   "metadata": {},
   "source": [
    "# What is BioConductor?\n",
    "Bioconductor is an ecosystem of R packages for analysing genomics data. According to bioconductor.org:\n",
    "\n",
    "```\n",
    "\"Bioconductor provides tools for the analysis and comprehension of high-throughput genomic data. Bioconductor uses the R statistical programming language, and is open source and open development. It has two releases each year, and an active user community.\"\n",
    "```\n",
    "\n",
    "Bioconductor is an excellent source for annotation resources. I'll walk through using two of the most popular packages here -- `AnnotationHub` and `biomaRt`. `AnnotationHub` is a convenient interface to annotations from different resources and in many different formats. This includes annotations that are gene-centric (like OrgDbs) or genome-centric (like TxDbs), while `biomaRt` is mostly geared toward annotations from Ensembl. We will dig into these packages in more detail and these distinctions might make a little more sense as we move along.\n",
    "\n",
    "For the purposes of this tutorial, we will be using the `airway` data. Four human airway smooth muscle cell lines were left untreated or treatreated with dexamethasone for 18 hours (Himes et al. 2014). I have already started procesing this data using DESeq2, we will load these objects and use them to look at a few different ways to query public annotation data and run some downstream analyses.\n",
    "\n",
    "Much of this workshop is pulled from these resources:\n",
    "\n",
    "https://www.bioconductor.org/packages/release/workflows/vignettes/annotation/inst/doc/Annotation_Resources.html                   \n",
    "http://yulab-smu.top/clusterProfiler-book/           \n",
    "https://bioconductor.org/packages/release/bioc/vignettes/AnnotationDbi/inst/doc/IntroToAnnotationPackages.pdf     \n",
    "https://bioconductor.org/packages/release/bioc/vignettes/GenomicFeatures/inst/doc/GenomicFeatures.pdf            \n"
   ]
  },
  {
   "cell_type": "markdown",
   "id": "global-trade",
   "metadata": {},
   "source": [
    "Let's load some packages:"
   ]
  },
  {
   "cell_type": "code",
   "execution_count": null,
   "id": "postal-internet",
   "metadata": {},
   "outputs": [],
   "source": [
    "\n",
    "suppressPackageStartupMessages(library(\"tidyverse\"))\n",
    "suppressPackageStartupMessages(library(\"ggplot2\"))\n",
    "suppressPackageStartupMessages(library(\"BiocManager\"))\n",
    "suppressPackageStartupMessages(library(\"gridExtra\"))\n",
    "suppressPackageStartupMessages(library(\"ggrepel\"))\n",
    "suppressPackageStartupMessages(library(\"airway\"))\n",
    "suppressPackageStartupMessages(library(\"AnnotationHub\"))\n",
    "suppressPackageStartupMessages(library(\"clusterProfiler\"))\n",
    "suppressPackageStartupMessages(library(\"enrichplot\"))\n",
    "suppressPackageStartupMessages(library(\"biomaRt\"))\n",
    "suppressPackageStartupMessages(library(\"DESeq2\"))\n",
    "suppressPackageStartupMessages(library(\"dplyr\"))\n",
    "suppressPackageStartupMessages(library(\"tidyr\"))\n",
    "suppressPackageStartupMessages(library(\"GenomicRanges\"))\n",
    "suppressPackageStartupMessages(library(\"GenomicFeatures\"))\n",
    "#suppressPackageStartupMessages(library(\"BSgenome\"))\n",
    "#suppressPackageStartupMessages(library(\"BSgenome.Hsapiens.UCSC.hg19\"))\n",
    "\n",
    "#BiocManager::install(\"GenomicRanges\")\n",
    "#BiocManager::install(\"GenomicFeatures\")\n",
    "#BiocManager::install(\"BSgenome.Hsapiens.UCSC.hg19\")\n",
    "#BiocManager::install(\"BSgenome\")\n",
    "\n"
   ]
  },
  {
   "cell_type": "code",
   "execution_count": null,
   "id": "conservative-despite",
   "metadata": {},
   "outputs": [],
   "source": [
    "#BiocManager::install(c('GenomicFeatures','Rhtslib', 'Rsamtools', 'GenomicAlignments', 'Biostrings', 'rtracklayer'))"
   ]
  },
  {
   "cell_type": "markdown",
   "id": "funny-district",
   "metadata": {},
   "source": [
    "Lets import some data to work with -- `res` is the `results` object and `rld` is the rlog transformed counts from DESeq2 differential expression analysis run on the `airway` data. We are comparing the dexamethasone treatment conditions, comparing treated to untreated.\n"
   ]
  },
  {
   "cell_type": "code",
   "execution_count": null,
   "id": "industrial-apartment",
   "metadata": {},
   "outputs": [],
   "source": [
    "res <- readRDS(\"res.rds\")"
   ]
  },
  {
   "cell_type": "code",
   "execution_count": null,
   "id": "specified-elevation",
   "metadata": {},
   "outputs": [],
   "source": [
    "res"
   ]
  },
  {
   "cell_type": "code",
   "execution_count": null,
   "id": "sexual-archive",
   "metadata": {},
   "outputs": [],
   "source": [
    "rld <- readRDS(\"rld.rds\")"
   ]
  },
  {
   "cell_type": "code",
   "execution_count": null,
   "id": "center-alexandria",
   "metadata": {},
   "outputs": [],
   "source": [
    "rld"
   ]
  },
  {
   "cell_type": "markdown",
   "id": "endless-flooring",
   "metadata": {},
   "source": [
    "Let's work with the `res` results table. We can see that each row is a gene (`ENSG...`) and each column gives us some information about the differential expression analysis. These gene IDs are not particularly informative, but we can use biomaRt to fix that."
   ]
  },
  {
   "cell_type": "markdown",
   "id": "recent-transportation",
   "metadata": {},
   "source": [
    "# Using biomaRt\n",
    "\n",
    "The [biomaRt](https://bioconductor.org/packages/release/bioc/html/biomaRt.html) package makes it easy to query public repositories of biological data. We can use biomaRt to query Ensembl for annotations so that we can look for 'housekeeping genes' which are typically considered to be stably expressed and shouldn't show large variations across different samples. We have selected a list of genes based on two publications that queried public cancer genome data to find housekeeping genes for use with RNA-seq from cancer cell lines (https://doi.org/10.1186/s12859-019-2809-2, https://doi.org/10.3389/fgene.2019.00097). "
   ]
  },
  {
   "cell_type": "markdown",
   "id": "metallic-plymouth",
   "metadata": {},
   "source": [
    "First, let's load biomaRt and make a vector of the gene symbols from the published data:"
   ]
  },
  {
   "cell_type": "code",
   "execution_count": null,
   "id": "martial-vampire",
   "metadata": {},
   "outputs": [],
   "source": [
    "housekeeping <- c('PCBP1','RER1', 'RPN1', 'PUM1', 'IPO8')"
   ]
  },
  {
   "cell_type": "markdown",
   "id": "friendly-ribbon",
   "metadata": {},
   "source": [
    "Then we can see what BioMarts are available:"
   ]
  },
  {
   "cell_type": "code",
   "execution_count": null,
   "id": "protected-nursery",
   "metadata": {},
   "outputs": [],
   "source": [
    "listMarts()"
   ]
  },
  {
   "cell_type": "markdown",
   "id": "isolated-platform",
   "metadata": {},
   "source": [
    "Let's use `ENSEMBL_MART_ENSEMBL` (you might get an error that says `Ensembl site unresponsive, trying uswest mirror`, run `?useEnsembl` to get more information about available options)."
   ]
  },
  {
   "cell_type": "code",
   "execution_count": null,
   "id": "acceptable-purpose",
   "metadata": {},
   "outputs": [],
   "source": [
    "ensembl <- useEnsembl(biomart = 'ENSEMBL_MART_ENSEMBL', mirror = 'uswest')"
   ]
  },
  {
   "cell_type": "markdown",
   "id": "respected-equity",
   "metadata": {},
   "source": [
    "You can see a list of all available datasets within the mart if you run `listDatasets(ensembl)` -- there are many (~200 of them), so let's narrow it down a little and look only for human data."
   ]
  },
  {
   "cell_type": "code",
   "execution_count": null,
   "id": "amber-driver",
   "metadata": {},
   "outputs": [],
   "source": [
    "searchDatasets(mart = ensembl, pattern = 'hsapiens')"
   ]
  },
  {
   "cell_type": "markdown",
   "id": "sublime-uganda",
   "metadata": {},
   "source": [
    "Now we can put it all together to create a BioMart object: (you might get an error that says `Ensembl site unresponsive, trying uswest mirror`)"
   ]
  },
  {
   "cell_type": "code",
   "execution_count": null,
   "id": "productive-activation",
   "metadata": {},
   "outputs": [],
   "source": [
    "ensembl <- useEnsembl(biomart = 'ENSEMBL_MART_ENSEMBL', dataset='hsapiens_gene_ensembl', mirror = 'uswest')"
   ]
  },
  {
   "cell_type": "markdown",
   "id": "flush-activation",
   "metadata": {},
   "source": [
    "Later, we will use the `getBM()` function to query BioMart (this is the main function of biomaRt). This function takes the followingarguments:\n",
    "\n",
    "`attributes`: the attributes you want to retrieve                     \n",
    "`filters`: the filters that should be used in the query                    \n",
    "`values`: the values of the filters                    \n",
    "`mart`: the mart object you want to use.   \n",
    "\n",
    "We can use the `listAttributes` function to see what information is available in `ensembl` (limiting it here to the first 5)"
   ]
  },
  {
   "cell_type": "code",
   "execution_count": null,
   "id": "infinite-blank",
   "metadata": {},
   "outputs": [],
   "source": [
    "attributes = listAttributes(ensembl)\n",
    "attributes[1:5,]"
   ]
  },
  {
   "cell_type": "markdown",
   "id": "cheap-chrome",
   "metadata": {},
   "source": [
    "Note that there are ~3000 attributes for this mart! We only care a about two -- `ensembl_gene_id` and `hgnc_symbol`."
   ]
  },
  {
   "cell_type": "markdown",
   "id": "challenging-multimedia",
   "metadata": {},
   "source": [
    "We can use the `listFilters` function to see what our filtering options are (limiting it here to the first 5)"
   ]
  },
  {
   "cell_type": "code",
   "execution_count": null,
   "id": "received-margin",
   "metadata": {},
   "outputs": [],
   "source": [
    "filters = listFilters(ensembl)\n",
    "filters[1:5,]"
   ]
  },
  {
   "cell_type": "markdown",
   "id": "immediate-algeria",
   "metadata": {},
   "source": [
    "We can use `getBM` to query the BioMart object                   "
   ]
  },
  {
   "cell_type": "code",
   "execution_count": null,
   "id": "legal-diving",
   "metadata": {},
   "outputs": [],
   "source": [
    "ensembl_bm <- getBM(\n",
    "    attributes = c('ensembl_gene_id','hgnc_symbol'),\n",
    "    filters = 'hgnc_symbol',\n",
    "    values = housekeeping, \n",
    "    mart = ensembl)\n",
    "ensembl_bm"
   ]
  },
  {
   "cell_type": "markdown",
   "id": "alive-circulation",
   "metadata": {},
   "source": [
    "Let's look at the `rlog` normalized counts for our housekeeping genes:"
   ]
  },
  {
   "cell_type": "code",
   "execution_count": null,
   "id": "external-customs",
   "metadata": {},
   "outputs": [],
   "source": [
    "housekeeping_rld <- data.frame(assay(rld)[ensembl_bm$ensembl_gene_id, ])\n",
    "head(housekeeping_rld)"
   ]
  },
  {
   "cell_type": "markdown",
   "id": "conscious-huntington",
   "metadata": {},
   "source": [
    "The `ensembl_gene_id` is currently stored as the rownames. Let's go ahead and turn it into a column in the data frame:"
   ]
  },
  {
   "cell_type": "code",
   "execution_count": null,
   "id": "instant-toolbox",
   "metadata": {},
   "outputs": [],
   "source": [
    "housekeeping_rld$ensembl_gene_id <- rownames(housekeeping_rld)\n",
    "head(housekeeping_rld)"
   ]
  },
  {
   "cell_type": "markdown",
   "id": "ready-ultimate",
   "metadata": {},
   "source": [
    "Then we use the `gather` function to convert the data to a long format."
   ]
  },
  {
   "cell_type": "code",
   "execution_count": null,
   "id": "saved-shelf",
   "metadata": {},
   "outputs": [],
   "source": [
    "housekeeping_rld_tidy <- gather(housekeeping_rld, key = 'sample', value = 'rlog_counts', SRR1039508:SRR1039521)\n",
    "head(housekeeping_rld_tidy)"
   ]
  },
  {
   "cell_type": "markdown",
   "id": "living-register",
   "metadata": {},
   "source": [
    "Let's add the annotation information we pulled from biomaRt:"
   ]
  },
  {
   "cell_type": "code",
   "execution_count": null,
   "id": "touched-block",
   "metadata": {},
   "outputs": [],
   "source": [
    "housekeeping_rld_tidy <- inner_join(ensembl_bm, housekeeping_rld_tidy, by = 'ensembl_gene_id')\n",
    "head(housekeeping_rld_tidy)"
   ]
  },
  {
   "cell_type": "markdown",
   "id": "relevant-stable",
   "metadata": {},
   "source": [
    "Let's look at the expression of our housekeeping genes to see if they look stably expressed in our data:"
   ]
  },
  {
   "cell_type": "code",
   "execution_count": null,
   "id": "mysterious-easter",
   "metadata": {},
   "outputs": [],
   "source": [
    "options(repr.plot.width=10, repr.plot.height=5)\n",
    "\n",
    "ggplot(housekeeping_rld_tidy, aes(x=sample, y=rlog_counts)) + \n",
    "geom_bar(stat=\"identity\") +\n",
    "facet_wrap(~hgnc_symbol, nrow = 1) +\n",
    "theme(axis.text.x = element_text(angle = 90))"
   ]
  },
  {
   "cell_type": "markdown",
   "id": "seven-alert",
   "metadata": {},
   "source": [
    "These housekeeping genes look stably expressed across each sample."
   ]
  },
  {
   "cell_type": "markdown",
   "id": "palestinian-access",
   "metadata": {},
   "source": [
    "# Using AnnotationHub\n",
    "\n",
    "Now we can try using AnnotationHub to do something similar to what we just did with `biomaRt`.\n",
    "Many of the data tyles we will work with from AnnotationHub are based on the `AnnotationDb` object class -- including OrgDb, TxDb, and many others. This means that they have many functions and methods in common (http://web.mit.edu/~r/current/arch/i386_linux26/lib/R/library/AnnotationDbi/html/AnnotationDb-class.html).               \n",
    "\n",
    "First, let's connect to the hub using `AnnotationHub` and look at the output."
   ]
  },
  {
   "cell_type": "code",
   "execution_count": null,
   "id": "interim-objective",
   "metadata": {},
   "outputs": [],
   "source": [
    "ah <- AnnotationHub()\n",
    "ah"
   ]
  },
  {
   "cell_type": "markdown",
   "id": "taken-rebound",
   "metadata": {},
   "source": [
    "This is one of the very nice things about using AnnotationHub -- there's many data providers, data classes, and organisms represented in the hub. You can access these elements using `$` accessor:"
   ]
  },
  {
   "cell_type": "code",
   "execution_count": null,
   "id": "passive-knowing",
   "metadata": {},
   "outputs": [],
   "source": [
    "head(unique(ah$dataprovider))\n",
    "length(unique(ah$dataprovider))"
   ]
  },
  {
   "cell_type": "code",
   "execution_count": null,
   "id": "afraid-handbook",
   "metadata": {},
   "outputs": [],
   "source": [
    "unique(ah$rdataclass)\n"
   ]
  },
  {
   "cell_type": "markdown",
   "id": "imperial-cigarette",
   "metadata": {},
   "source": [
    "## OrgDb objects"
   ]
  },
  {
   "cell_type": "markdown",
   "id": "human-specialist",
   "metadata": {},
   "source": [
    "One of the options you can see here is `OrgDb`, which is an organism-specific, genome wide annotation. We can use it to map between different gene ID types using a central identifier (usually Entrez gene ID). \n",
    "\n",
    "OrgDb names are always of the form: org.<Ab>.<id>.db (e.g.org.Sc.sgd.db) where <Ab> is a 2-letter abbreviation of the organism and <id> is an abbreviation (in lower-case) describing the type of central identifier (`eg` for Entrez Gene ids).\n",
    "\n",
    "Let's see what our options are for `Homo sapiens` and `OrgDb`:"
   ]
  },
  {
   "cell_type": "code",
   "execution_count": null,
   "id": "competent-election",
   "metadata": {},
   "outputs": [],
   "source": [
    "AnnotationHub::query(ah, pattern = c(\"Homo sapiens\", \"OrgDb\"))"
   ]
  },
  {
   "cell_type": "markdown",
   "id": "divided-sunset",
   "metadata": {},
   "source": [
    "So you can see here that there is an OrgDb for Homo sapiens that uses Entrez gene ID as the central identifier."
   ]
  },
  {
   "cell_type": "code",
   "execution_count": null,
   "id": "genetic-pulse",
   "metadata": {},
   "outputs": [],
   "source": [
    "orgdb <- AnnotationHub::query(ah, pattern = c(\"Homo sapiens\", \"OrgDb\"))[[1]]"
   ]
  },
  {
   "cell_type": "code",
   "execution_count": null,
   "id": "outer-crack",
   "metadata": {},
   "outputs": [],
   "source": [
    "orgdb"
   ]
  },
  {
   "cell_type": "markdown",
   "id": "internal-eight",
   "metadata": {},
   "source": [
    "What types of data can we retrieve from the OrgDb? Let's use `keytypes()` to find out. "
   ]
  },
  {
   "cell_type": "markdown",
   "id": "inside-suite",
   "metadata": {},
   "source": [
    "The likely use case is that you are hoping to convert between different ID types (like we did with biomaRt). One way to do this is the `select()` function. AnnotationHub imports this function from AnnotationDbi so you can run `?AnnotationDbi::select` to view the help. As I said before, OrgDbs are based on the AnnotationDb object base class and the `select`, `columns`, `keys`, and `keytypes` arguments are used together to query AnnotationDb objects.\n",
    "\n",
    "`select` will retrieve the data as a data.frame based on parameters for selected keys columns and keytype arguments.\n",
    "\n",
    "`columns` shows which kinds of data can be returned for the AnnotationDb object.\n",
    "\n",
    "`keys` returns keys for the database contained in the AnnotationDb object. \n",
    "\n",
    "`keytypes` allows the user to discover which keytypes can be passed in to select or keys and the keytype argument."
   ]
  },
  {
   "cell_type": "markdown",
   "id": "acknowledged-cleaners",
   "metadata": {},
   "source": [
    "We can view columns and keytypes -- note that these can be the same but are not always the same."
   ]
  },
  {
   "cell_type": "code",
   "execution_count": null,
   "id": "proud-executive",
   "metadata": {},
   "outputs": [],
   "source": [
    "columns(orgdb)"
   ]
  },
  {
   "cell_type": "code",
   "execution_count": null,
   "id": "premier-thomas",
   "metadata": {},
   "outputs": [],
   "source": [
    "keytypes(orgdb)"
   ]
  },
  {
   "cell_type": "markdown",
   "id": "assigned-gasoline",
   "metadata": {},
   "source": [
    "Let's look at a few examples of what the key entries look like"
   ]
  },
  {
   "cell_type": "code",
   "execution_count": null,
   "id": "aerial-victim",
   "metadata": {},
   "outputs": [],
   "source": [
    "head(keys(orgdb, keytype=\"SYMBOL\"))"
   ]
  },
  {
   "cell_type": "markdown",
   "id": "abandoned-olive",
   "metadata": {},
   "source": [
    "We can try running `select` to look for the housekeeping genes in the OrgDb to retrieve their ENSEMBL and ENTREZIDs:"
   ]
  },
  {
   "cell_type": "code",
   "execution_count": null,
   "id": "awful-visibility",
   "metadata": {},
   "outputs": [],
   "source": [
    "ens_entr_orgdb <- select(orgdb, keys=housekeeping, \n",
    "       columns=c(\"ENSEMBL\",\"ENTREZID\"), \n",
    "       keytype=\"SYMBOL\")\n",
    "ens_entr_orgdb"
   ]
  },
  {
   "cell_type": "markdown",
   "id": "mental-startup",
   "metadata": {},
   "source": [
    "As you can see, this returned a 1:1 mapping between keys and columns, but this might not always be the case. What happens if we use \"GO\" as one of the columns?"
   ]
  },
  {
   "cell_type": "code",
   "execution_count": null,
   "id": "mediterranean-nature",
   "metadata": {},
   "outputs": [],
   "source": [
    "go_orgdb <- select(orgdb, keys=housekeeping, \n",
    "       columns=c(\"ENSEMBL\",\"GO\"), \n",
    "       keytype=\"SYMBOL\")\n",
    "head(go_orgdb)"
   ]
  },
  {
   "cell_type": "markdown",
   "id": "suffering-violation",
   "metadata": {},
   "source": [
    "This might not be the ideal outcome for you. Another approach is to use the `mapIds` function. `mapIds` is similar to `select` in that it uses `keys` and `keytypes` but it uses `column` instead of `columns` and can only return one column type, "
   ]
  },
  {
   "cell_type": "code",
   "execution_count": null,
   "id": "innocent-agent",
   "metadata": {},
   "outputs": [],
   "source": [
    "mapped_go <- mapIds(orgdb, keys=housekeeping, \n",
    "       column=\"GO\", \n",
    "       keytype=\"SYMBOL\")\n",
    "head(mapped_go)"
   ]
  },
  {
   "cell_type": "markdown",
   "id": "conditional-dakota",
   "metadata": {},
   "source": [
    "By default, `mapIds` will return the first match. If you really want all of the GO terms, you can specify the `multiVals` argument. Here's the options for `multiVals`:"
   ]
  },
  {
   "cell_type": "markdown",
   "id": "mathematical-glasgow",
   "metadata": {},
   "source": [
    "first:\n",
    "\n",
    "    This value means that when there are multiple matches only the 1st thing that comes back will be returned. This is the default behavior\n",
    "list:\n",
    "\n",
    "    This will just returns a list object to the end user\n",
    "filter:\n",
    "\n",
    "    This will remove all elements that contain multiple matches and will therefore return a shorter vector than what came in whenever some of the keys match more than one value\n",
    "asNA:\n",
    "\n",
    "    This will return an NA value whenever there are multiple matches\n",
    "CharacterList:\n",
    "\n",
    "    This just returns a SimpleCharacterList object\n",
    "FUN:\n",
    "\n",
    "    You can also supply a function to the multiVals argument for custom behaviors. The function must take a single argument and return a single value. This function will be applied to all the elements and will serve a 'rule' that for which thing to keep when there is more than one element. So for example this example function will always grab the last element in each result:  last <- function(x){x[[length(x)]]} \n"
   ]
  },
  {
   "cell_type": "markdown",
   "id": "statistical-eugene",
   "metadata": {},
   "source": [
    "Let's specify that we want `multiVals=\"list\"`"
   ]
  },
  {
   "cell_type": "code",
   "execution_count": null,
   "id": "better-cloud",
   "metadata": {},
   "outputs": [],
   "source": [
    "mapped_go <- mapIds(orgdb, keys=housekeeping, \n",
    "       column=\"GO\", \n",
    "       keytype=\"SYMBOL\",\n",
    "       multiVals=\"list\")\n",
    "head(mapped_go)"
   ]
  },
  {
   "cell_type": "markdown",
   "id": "vietnamese-easter",
   "metadata": {},
   "source": [
    "## TxDB Objects"
   ]
  },
  {
   "cell_type": "markdown",
   "id": "brown-damage",
   "metadata": {},
   "source": [
    "One of the other options in AnnotationHub is`TxDb`. They are also based on the AnnotationDb class and use similar methods."
   ]
  },
  {
   "cell_type": "markdown",
   "id": "legislative-providence",
   "metadata": {},
   "source": [
    "A TxDb object connects a set of genomic coordinates to transcript-oriented features. It also contains feature IDs for transcripts and genes so TxDb objects can be used to link gene IDs and transcipt IDs.\n",
    "Let's work with the human TxDb object:"
   ]
  },
  {
   "cell_type": "code",
   "execution_count": null,
   "id": "political-northern",
   "metadata": {},
   "outputs": [],
   "source": [
    "AnnotationHub::query(ah, pattern = c(\"Homo sapiens\", \"TxDb\", \"hg19\"))"
   ]
  },
  {
   "cell_type": "markdown",
   "id": "cardiac-rover",
   "metadata": {},
   "source": [
    "We can query the AnnotationHub and specify which record we'd like to use:"
   ]
  },
  {
   "cell_type": "code",
   "execution_count": null,
   "id": "toxic-divide",
   "metadata": {},
   "outputs": [],
   "source": [
    "txdb <- AnnotationHub::query(ah, pattern = c(\"Homo sapiens\", \"TxDb\", \"hg19\"))[['AH52258']]"
   ]
  },
  {
   "cell_type": "code",
   "execution_count": null,
   "id": "primary-blues",
   "metadata": {},
   "outputs": [],
   "source": [
    "txdb"
   ]
  },
  {
   "cell_type": "markdown",
   "id": "biblical-reset",
   "metadata": {},
   "source": [
    "Just like how we did with the OrgDb, we can look at what keytypes are available to us"
   ]
  },
  {
   "cell_type": "code",
   "execution_count": null,
   "id": "complete-turkey",
   "metadata": {},
   "outputs": [],
   "source": [
    "keytypes(txdb)"
   ]
  },
  {
   "cell_type": "markdown",
   "id": "alpine-induction",
   "metadata": {},
   "source": [
    "We can also use `select` in a similar way:"
   ]
  },
  {
   "cell_type": "code",
   "execution_count": null,
   "id": "fatal-contrary",
   "metadata": {},
   "outputs": [],
   "source": [
    "select(txdb, keys = c(\"2597\"), columns=c(\"TXNAME\", \"TXID\", \"CDSNAME\"), keytype=\"GENEID\")"
   ]
  },
  {
   "cell_type": "markdown",
   "id": "prepared-edmonton",
   "metadata": {},
   "source": [
    "Or `mapIds`"
   ]
  },
  {
   "cell_type": "code",
   "execution_count": null,
   "id": "greenhouse-pencil",
   "metadata": {},
   "outputs": [],
   "source": [
    "mapIds(txdb, keys = c(\"2597\"), column=\"TXNAME\", keytype=\"GENEID\", multiVals=\"list\")"
   ]
  },
  {
   "cell_type": "markdown",
   "id": "bored-clerk",
   "metadata": {},
   "source": [
    "We can look at all the transcripts available in the txdb using the `transcripts()` function:"
   ]
  },
  {
   "cell_type": "code",
   "execution_count": null,
   "id": "french-colon",
   "metadata": {},
   "outputs": [],
   "source": [
    "transcripts(txdb)"
   ]
  },
  {
   "cell_type": "markdown",
   "id": "extended-gardening",
   "metadata": {},
   "source": [
    "We get back a GRanges object the location of each transcript, as well as its `tx_name` and `tx_id`. GRanges objects are just a way to show genomic locations (or Genomic Ranges) (https://www.bioconductor.org/packages/release/bioc/vignettes/GenomicRanges/inst/doc/GenomicRangesIntroduction.html).           \n",
    "\n",
    "              \n",
    "We can also look at `exons()`, `cds()`, `genes()` and `promoters()`.         \n",
    "You can also look at transcripts grouped by the genes that they are associated with:"
   ]
  },
  {
   "cell_type": "code",
   "execution_count": null,
   "id": "animated-matthew",
   "metadata": {},
   "outputs": [],
   "source": [
    "txby <- transcriptsBy(txdb, by=\"gene\")"
   ]
  },
  {
   "cell_type": "code",
   "execution_count": null,
   "id": "adult-switch",
   "metadata": {},
   "outputs": [],
   "source": [
    "txby"
   ]
  },
  {
   "cell_type": "markdown",
   "id": "composed-hollywood",
   "metadata": {},
   "source": [
    "Similar functions include `exonsBy()`, `cdsBy()`, `intronsByTranscript()`, `fiveUTRsByTranscript()`, and `threeUTRsByTranscript()`. "
   ]
  },
  {
   "cell_type": "markdown",
   "id": "pediatric-forwarding",
   "metadata": {},
   "source": [
    "We can also use `seqlevelsStyle` function  (exported from `GenomeInfoDb`) to get the current seqlevels style of an object and to rename its seqlevels according to a given style. "
   ]
  },
  {
   "cell_type": "code",
   "execution_count": null,
   "id": "catholic-pixel",
   "metadata": {},
   "outputs": [],
   "source": [
    "seqlevelsStyle(txdb)\n",
    "seqinfo(txdb)"
   ]
  },
  {
   "cell_type": "markdown",
   "id": "horizontal-spread",
   "metadata": {},
   "source": [
    "We can convert to 'NCBI' style:"
   ]
  },
  {
   "cell_type": "code",
   "execution_count": null,
   "id": "indirect-pepper",
   "metadata": {},
   "outputs": [],
   "source": [
    "seqlevelsStyle(txdb) <- \"NCBI\"\n",
    "seqinfo(txdb)"
   ]
  },
  {
   "cell_type": "markdown",
   "id": "foster-slide",
   "metadata": {},
   "source": [
    "We can see what styles are supported using `genomeStyles`."
   ]
  },
  {
   "cell_type": "code",
   "execution_count": null,
   "id": "phantom-flooring",
   "metadata": {},
   "outputs": [],
   "source": [
    "head(genomeStyles(\"Homo_sapiens\"))"
   ]
  },
  {
   "cell_type": "markdown",
   "id": "possible-touch",
   "metadata": {},
   "source": [
    "Let's convert back to `UCSC` format:"
   ]
  },
  {
   "cell_type": "code",
   "execution_count": null,
   "id": "super-variable",
   "metadata": {},
   "outputs": [],
   "source": [
    "seqlevelsStyle(txdb) <- \"UCSC\""
   ]
  },
  {
   "cell_type": "markdown",
   "id": "random-banner",
   "metadata": {},
   "source": [
    "You could filter the object to only look at a particular chromosome if you wanted to:"
   ]
  },
  {
   "cell_type": "code",
   "execution_count": null,
   "id": "revised-priority",
   "metadata": {},
   "outputs": [],
   "source": [
    "seqlevels(txdb) <- \"chr15\""
   ]
  },
  {
   "cell_type": "markdown",
   "id": "premier-glass",
   "metadata": {},
   "source": [
    "# BSGenome"
   ]
  },
  {
   "cell_type": "markdown",
   "id": "systematic-cable",
   "metadata": {},
   "source": [
    "BSGenome is one option if you want to use R to search for actual sequence data. BSGenomes are `Biostrings-based` genomes, meaning that they use the package `BioStrings` to organize the data and facilitate access (https://bioconductor.org/packages/release/bioc/html/Biostrings.html)"
   ]
  },
  {
   "cell_type": "markdown",
   "id": "sapphire-athletics",
   "metadata": {},
   "source": [
    "We can see which genomes are available:"
   ]
  },
  {
   "cell_type": "code",
   "execution_count": null,
   "id": "conventional-authorization",
   "metadata": {},
   "outputs": [],
   "source": [
    "head(available.genomes())"
   ]
  },
  {
   "cell_type": "markdown",
   "id": "rocky-offering",
   "metadata": {},
   "source": [
    "We have already loaded `BSgenome.Hsapiens.UCSC.hg19` or `Hsapiens` into the environment, so we can just quickly confirm txdb and Hsapiens BSGenome are the same genome assembly (they are both hg19)."
   ]
  },
  {
   "cell_type": "code",
   "execution_count": null,
   "id": "outdoor-hartford",
   "metadata": {},
   "outputs": [],
   "source": [
    "Hsapiens\n",
    "txdb"
   ]
  },
  {
   "cell_type": "markdown",
   "id": "precise-correction",
   "metadata": {},
   "source": [
    "We can extract the exon ranges from `txdb` grouped by transcript:"
   ]
  },
  {
   "cell_type": "code",
   "execution_count": null,
   "id": "drawn-antigua",
   "metadata": {},
   "outputs": [],
   "source": [
    "transcripts <- exonsBy(txdb, by=\"tx\", use.names=TRUE)"
   ]
  },
  {
   "cell_type": "markdown",
   "id": "consecutive-absolute",
   "metadata": {},
   "source": [
    "Then we can extract the transcript sequences from the genome (we'll just use the first transcript to make it faster)."
   ]
  },
  {
   "cell_type": "code",
   "execution_count": null,
   "id": "banner-effort",
   "metadata": {},
   "outputs": [],
   "source": [
    "tx_seqs <- extractTranscriptSeqs(Hsapiens, transcripts[1])"
   ]
  },
  {
   "cell_type": "markdown",
   "id": "greenhouse-western",
   "metadata": {},
   "source": [
    "Then we can look and see that we have a `DNAStringSet` as the output"
   ]
  },
  {
   "cell_type": "code",
   "execution_count": null,
   "id": "surgical-blogger",
   "metadata": {},
   "outputs": [],
   "source": [
    "tx_seqs"
   ]
  },
  {
   "cell_type": "code",
   "execution_count": null,
   "id": "lonely-motorcycle",
   "metadata": {},
   "outputs": [],
   "source": []
  },
  {
   "cell_type": "markdown",
   "id": "moving-inspiration",
   "metadata": {},
   "source": [
    "# Ontology Analysis"
   ]
  },
  {
   "cell_type": "markdown",
   "id": "insured-church",
   "metadata": {},
   "source": [
    "Once we are at the step where we have genes that are differentially expressed, we can see if there is any enrichment in any functional gene groups. Two commonly used methods to look for enrichment are overrepresentation analysis (ORA) or gene set enrichment analysis (GSEA).          \n",
    "- **Over Representation Analysis (ORA)** looks for functions or processes that are over-represented (= enriched) in an experimentally-derived gene list. The background used by default is all of the genes that have an annotation. This will find genes where the difference is large, but will not detect a situation where the difference is small but coordinated across a set of genes.      \n",
    "\n",
    "- **Gene Set Enrichment (GSEA)** aggregates per-gene statistics across genes in a set. It takes a ranked list of genes and determines whether members of a gene set are randomly distributed throughout that list or if they are found primarily at the top or bottom of the list. GSEA will calculate an enrichment score based on whether a gene set is over-represented at the top or bottom fo the list, estimate the significance of the enrichment, and adjust for multiple hypothesis testing.       \n",
    "\n",
    "There are many packages for running these types of analyses ([gage](https://www.bioconductor.org/packages/release/bioc/html/gage.html), [EnrichmentBrowser](https://www.bioconductor.org/packages/release/bioc/html/EnrichmentBrowser.html)) and many of them will use similar approaches to test for enrichment. We will use [clusterProfiler](https://www.bioconductor.org/packages/release/bioc/html/clusterProfiler.html).          \n",
    "\n",
    "We will use [gene ontologies](http://geneontology.org/docs/ontology-documentation/) to organize the genes into groups based on their role in an organism. Gene Ontology loosely organize genes into three hierarchical graphs that correspond to three large umbrella categories -- **Molecular Function, Cellular Component, and Biological Process**. You can read the formal descriptions of these categories in the documentation linked above. A quote from the documentation illustrates an example of how these categories are related:        \n",
    "\n",
    "```\n",
    "In an example of GO annotation, the gene product “cytochrome c” can be described by the molecular function oxidoreductase activity, the biological process oxidative phosphorylation, and the cellular component mitochondrial matrix.\n",
    "```\n",
    "\n",
    "We can use our previously made `orgdb` object to run the enrichment analysis on `res`, which is the `results` object from DESeq2 differential expression analysis run on the `airway` data. We are comparing the dexamethasone treatment conditions, comparing treated to untreated.       \n",
    "\n",
    "We will use the functions `gseGO` and `enrichGO` from clusterProfiler.      \n",
    "\n",
    "- `gseGO` is a GSEA method, it takes a order ranked geneList as input and uses a Kolmogorov Smirnov test to run Gene Set Enrichment Analysis (GSEA) [Subramanian et al. 2005](https://www.ncbi.nlm.nih.gov/pmc/articles/pmid/16199517/). GSEA is useful in scenarios where the fold changes are subtle but modules of genes are regulated in a coordinated way.    \n",
    "- `enrichGO` is an ORA method and takes a list of genes (does not neet to be ranked) and uses Fisher's exact test with a hypergeometric distribution to run Enrichment Analysis [Boyle et al. 2004](https://academic.oup.com/bioinformatics/article/20/18/3710/202612).     \n"
   ]
  },
  {
   "cell_type": "markdown",
   "id": "municipal-today",
   "metadata": {},
   "source": [
    "Might need to re-load some packages at this point:"
   ]
  },
  {
   "cell_type": "code",
   "execution_count": 1,
   "id": "informational-beast",
   "metadata": {},
   "outputs": [
    {
     "name": "stderr",
     "output_type": "stream",
     "text": [
      "Warning message:\n",
      "“package ‘tibble’ was built under R version 4.0.3”\n",
      "Warning message:\n",
      "“package ‘readr’ was built under R version 4.0.3”\n",
      "Warning message:\n",
      "“package ‘dplyr’ was built under R version 4.0.3”\n",
      "Warning message:\n",
      "“package ‘forcats’ was built under R version 4.0.3”\n",
      "Warning message:\n",
      "“package ‘dbplyr’ was built under R version 4.0.3”\n",
      "using temporary cache /tmp/Rtmp061IIM/BiocFileCache\n",
      "\n",
      "snapshotDate(): 2020-10-27\n",
      "\n",
      "downloading 1 resources\n",
      "\n",
      "retrieving 1 resource\n",
      "\n",
      "loading from cache\n",
      "\n"
     ]
    }
   ],
   "source": [
    "suppressPackageStartupMessages(library(\"tidyverse\"))\n",
    "suppressPackageStartupMessages(library(\"ggplot2\"))\n",
    "suppressPackageStartupMessages(library(\"BiocManager\"))\n",
    "suppressPackageStartupMessages(library(\"gridExtra\"))\n",
    "suppressPackageStartupMessages(library(\"ggrepel\"))\n",
    "suppressPackageStartupMessages(library(\"airway\"))\n",
    "suppressPackageStartupMessages(library(\"AnnotationHub\"))\n",
    "suppressPackageStartupMessages(library(\"clusterProfiler\"))\n",
    "suppressPackageStartupMessages(library(\"enrichplot\"))\n",
    "suppressPackageStartupMessages(library(\"biomaRt\"))\n",
    "suppressPackageStartupMessages(library(\"DESeq2\"))\n",
    "suppressPackageStartupMessages(library(\"dplyr\"))\n",
    "suppressPackageStartupMessages(library(\"tidyr\"))\n",
    "suppressPackageStartupMessages(library(\"GenomicRanges\"))\n",
    "suppressPackageStartupMessages(library(\"GenomicFeatures\"))\n",
    "res <- readRDS(\"res.rds\")\n",
    "ah <- AnnotationHub()\n",
    "orgdb <- AnnotationHub::query(ah, pattern = c(\"Homo sapiens\", \"OrgDb\"))[[1]]"
   ]
  },
  {
   "cell_type": "markdown",
   "id": "arbitrary-pride",
   "metadata": {},
   "source": [
    "Let's make sure we don't have any NA entries in the `res` object:"
   ]
  },
  {
   "cell_type": "code",
   "execution_count": 2,
   "id": "judicial-newark",
   "metadata": {},
   "outputs": [],
   "source": [
    "res <- tidyr::drop_na(data.frame(res))"
   ]
  },
  {
   "cell_type": "markdown",
   "id": "exciting-canon",
   "metadata": {},
   "source": [
    "We'll run `gseGO` first. This is a GSEA method and it needs a ranked gene list as input. Let's make that list now. First, get the log2FoldChange -- this is what we will use to rank the genes."
   ]
  },
  {
   "cell_type": "code",
   "execution_count": 3,
   "id": "logical-discount",
   "metadata": {},
   "outputs": [],
   "source": [
    "gene_list <- res$log2FoldChange"
   ]
  },
  {
   "cell_type": "markdown",
   "id": "smoking-frank",
   "metadata": {},
   "source": [
    "Now we add names to the gene list:"
   ]
  },
  {
   "cell_type": "code",
   "execution_count": 4,
   "id": "changed-horror",
   "metadata": {},
   "outputs": [],
   "source": [
    "names(gene_list) <- c(rownames(res))"
   ]
  },
  {
   "cell_type": "markdown",
   "id": "expanded-thesaurus",
   "metadata": {},
   "source": [
    "Then we can sort the gene list"
   ]
  },
  {
   "cell_type": "code",
   "execution_count": 5,
   "id": "grand-champion",
   "metadata": {},
   "outputs": [],
   "source": [
    "gene_list <- sort(gene_list, decreasing = TRUE)"
   ]
  },
  {
   "cell_type": "markdown",
   "id": "present-temple",
   "metadata": {},
   "source": [
    "Then we can run gseGO. We are setting a seed and using the seed = TRUE argument because we want gseGO to deal with ties consistently -- otherwise we might get different data every time we run the analysis since gseGO will arbitrarily break ties in the rankings. The ties shouldn't present a huge issue as long as the ties percentage in your data is low."
   ]
  },
  {
   "cell_type": "code",
   "execution_count": null,
   "id": "uniform-wedding",
   "metadata": {},
   "outputs": [],
   "source": [
    "set.seed(42)\n",
    "gsea_out <- gseGO(\n",
    "    geneList = gene_list,\n",
    "    OrgDb = orgdb,\n",
    "    ont = 'ALL',\n",
    "    keyType = 'ENSEMBL',\n",
    "    seed = TRUE)"
   ]
  },
  {
   "cell_type": "markdown",
   "id": "owned-queensland",
   "metadata": {},
   "source": [
    "- By using `keyType = 'ENSEMBL'` we are telling the function that our gene IDs are in `ENSEMBL` format and by setting `ont = 'ALL'` we are indicating we want to look at all three of the ontologies -- `Biological Process`, `Cellular Component`, and `Molecular Function`. Run `?gseGO` for a full account of the function and its arguments      \n",
    "\n",
    "- There are many options for visualizing the enrichment, you can see more details [here](http://yulab-smu.top/clusterProfiler-book/chapter12.html) -- let's start with a dotplot:"
   ]
  },
  {
   "cell_type": "code",
   "execution_count": null,
   "id": "bridal-islam",
   "metadata": {},
   "outputs": [],
   "source": [
    "dotplot(down_ego, showCategory = 5) + ggtitle('Down regulated in dexamethasone')"
   ]
  },
  {
   "cell_type": "code",
   "execution_count": null,
   "id": "israeli-chess",
   "metadata": {},
   "outputs": [],
   "source": [
    "dotplot(gsea_out)"
   ]
  },
  {
   "cell_type": "markdown",
   "id": "vulnerable-glass",
   "metadata": {},
   "source": [
    "The size of the dot indicates how many members of the group are represented in the enrichment and the adjusted p-value is the Benjamini-Hochberg corrected p-value. `GeneRatio` is `k/n`, where for a given category (e.g. 'receptor regulator activity') `k` is the overlap of 'receptor regulator activity' genes in `gene_list` compared to all 'receptor regulator activity' genes in the org.db, where `n` is the overlap of all genes in `gene_list` compares to all genes in the org.db."
   ]
  },
  {
   "cell_type": "markdown",
   "id": "competent-practitioner",
   "metadata": {},
   "source": [
    "We can also use `enrichGO`, which takes a list of genes that are not ranked. We will separate out the up and down regulated genes from `res` first."
   ]
  },
  {
   "cell_type": "code",
   "execution_count": null,
   "id": "sacred-three",
   "metadata": {},
   "outputs": [],
   "source": [
    "up_genes <- data.frame(res) %>% dplyr::filter(padj < 0.1 & log2FoldChange > 0)\n",
    "down_genes <- data.frame(res) %>% dplyr::filter(padj < 0.1 & log2FoldChange < 0)"
   ]
  },
  {
   "cell_type": "markdown",
   "id": "provincial-conversion",
   "metadata": {},
   "source": [
    "Then we can run `enrichGO` on the up and down regulated genes and make dotplots."
   ]
  },
  {
   "cell_type": "code",
   "execution_count": null,
   "id": "extensive-article",
   "metadata": {},
   "outputs": [],
   "source": [
    "up_ego <- enrichGO(gene = rownames(up_genes),\n",
    "          keyType = 'ENSEMBL',\n",
    "          ont = 'BP',\n",
    "          universe = rownames(res),\n",
    "          OrgDb = orgdb,\n",
    "          readable = TRUE)\n",
    "dotplot(up_ego, showCategory = 5) + ggtitle('Up regulated in dexamethasone')"
   ]
  },
  {
   "cell_type": "code",
   "execution_count": null,
   "id": "exceptional-racing",
   "metadata": {},
   "outputs": [],
   "source": [
    "down_ego <- enrichGO(gene = rownames(down_genes),\n",
    "          keyType = 'ENSEMBL',\n",
    "          ont = 'BP',\n",
    "          universe = rownames(res),\n",
    "          OrgDb = orgdb,\n",
    "          readable = TRUE)\n",
    "dotplot(down_ego, showCategory = 5) + ggtitle('Down regulated in dexamethasone')"
   ]
  },
  {
   "cell_type": "markdown",
   "id": "scheduled-saint",
   "metadata": {},
   "source": [
    "Note that in each of the calls to `enrichGO` above, I have specified the `universe` argument so that we are taking into consideration which genes were actually detected in our experiment. We also used the `ont = 'BP'` argument to tell `enrichGO` that we want to look at genes in the Biological Process category. We can also set the `showCategory = 5` argument in the call to `dotplot` to tell it to only show us the first 5 categories. The enrichment of `response to peptide hormone` in the up regulated genes makes sense, as dexamethasone is a corticosteroid hormone. \n",
    "\n",
    "In this example, we are running `enrichGO` on the up and down regulated genes separately, but it is also valid to run all of the differentially expressed genes together, depending on your research question. https://royalsocietypublishing.org/doi/10.1098/rsif.2013.0950"
   ]
  },
  {
   "cell_type": "markdown",
   "id": "enormous-feature",
   "metadata": {},
   "source": [
    "<div class=\"alert alert-block alert-success\"><b>Exercise:</b> Try running `enrichGO` without setting the `universe` argument. How does this change your results? </div>"
   ]
  },
  {
   "cell_type": "markdown",
   "id": "athletic-newspaper",
   "metadata": {},
   "source": [
    "<div class=\"alert alert-block alert-success\"><b>Exercise:</b> Try running `enrichGO` on all of the differentially expressed genes without pre-splitting into up and down regulated genes. How does this change your results? </div>"
   ]
  },
  {
   "cell_type": "code",
   "execution_count": null,
   "id": "median-clock",
   "metadata": {},
   "outputs": [],
   "source": []
  },
  {
   "cell_type": "code",
   "execution_count": null,
   "id": "built-details",
   "metadata": {},
   "outputs": [],
   "source": []
  }
 ],
 "metadata": {
  "kernelspec": {
   "display_name": "R",
   "language": "R",
   "name": "ir"
  },
  "language_info": {
   "codemirror_mode": "r",
   "file_extension": ".r",
   "mimetype": "text/x-r-source",
   "name": "R",
   "pygments_lexer": "r",
   "version": "4.0.0"
  }
 },
 "nbformat": 4,
 "nbformat_minor": 5
}
