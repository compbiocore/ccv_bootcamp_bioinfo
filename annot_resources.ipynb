{
 "cells": [
  {
   "cell_type": "markdown",
   "id": "enormous-nevada",
   "metadata": {},
   "source": [
    "This workshop will cover some of the genomic annotation packages from Bioconductor and how to use them. This information might be helpful if you want to do things like:   \n",
    "- Convert between different gene identifiers or chromosome naming conventions       \n",
    "- Fine gene promoter region ranges or sequences     \n",
    "- Figure out which GO terms are associated with your genes of interest          "
   ]
  },
  {
   "cell_type": "markdown",
   "id": "c6bea744",
   "metadata": {},
   "source": [
    "Let's load some packages:"
   ]
  },
  {
   "cell_type": "code",
   "execution_count": 5,
   "id": "obvious-background",
   "metadata": {},
   "outputs": [
    {
     "name": "stderr",
     "output_type": "stream",
     "text": [
      "Warning message in system(\"timedatectl\", intern = TRUE):\n",
      "“running command 'timedatectl' had status 1”\n",
      "── \u001b[1mAttaching core tidyverse packages\u001b[22m ──────────────────────────────────────────────────────────────────────────────────────────────── tidyverse 2.0.0 ──\n",
      "\u001b[32m✔\u001b[39m \u001b[34mdplyr    \u001b[39m 1.1.2     \u001b[32m✔\u001b[39m \u001b[34mreadr    \u001b[39m 2.1.4\n",
      "\u001b[32m✔\u001b[39m \u001b[34mforcats  \u001b[39m 1.0.0     \u001b[32m✔\u001b[39m \u001b[34mstringr  \u001b[39m 1.5.0\n",
      "\u001b[32m✔\u001b[39m \u001b[34mggplot2  \u001b[39m 3.4.2     \u001b[32m✔\u001b[39m \u001b[34mtibble   \u001b[39m 3.2.1\n",
      "\u001b[32m✔\u001b[39m \u001b[34mlubridate\u001b[39m 1.9.2     \u001b[32m✔\u001b[39m \u001b[34mtidyr    \u001b[39m 1.3.0\n",
      "\u001b[32m✔\u001b[39m \u001b[34mpurrr    \u001b[39m 1.0.1     \n",
      "── \u001b[1mConflicts\u001b[22m ────────────────────────────────────────────────────────────────────────────────────────────────────────────────── tidyverse_conflicts() ──\n",
      "\u001b[31m✖\u001b[39m \u001b[34mdplyr\u001b[39m::\u001b[32mfilter()\u001b[39m masks \u001b[34mstats\u001b[39m::filter()\n",
      "\u001b[31m✖\u001b[39m \u001b[34mdplyr\u001b[39m::\u001b[32mlag()\u001b[39m    masks \u001b[34mstats\u001b[39m::lag()\n",
      "\u001b[36mℹ\u001b[39m Use the conflicted package (\u001b[3m\u001b[34m<http://conflicted.r-lib.org/>\u001b[39m\u001b[23m) to force all conflicts to become errors\n",
      "Bioconductor version '3.16' is out-of-date; the current release version '3.17'\n",
      "  is available with R version '4.3'; see https://bioconductor.org/install\n",
      "\n",
      "\n",
      "Attaching package: ‘gridExtra’\n",
      "\n",
      "\n",
      "The following object is masked from ‘package:dplyr’:\n",
      "\n",
      "    combine\n",
      "\n",
      "\n",
      "Loading required package: SummarizedExperiment\n",
      "\n",
      "Loading required package: MatrixGenerics\n",
      "\n",
      "Loading required package: matrixStats\n",
      "\n",
      "\n",
      "Attaching package: ‘matrixStats’\n",
      "\n",
      "\n",
      "The following object is masked from ‘package:dplyr’:\n",
      "\n",
      "    count\n",
      "\n",
      "\n",
      "\n",
      "Attaching package: ‘MatrixGenerics’\n",
      "\n",
      "\n",
      "The following objects are masked from ‘package:matrixStats’:\n",
      "\n",
      "    colAlls, colAnyNAs, colAnys, colAvgsPerRowSet, colCollapse,\n",
      "    colCounts, colCummaxs, colCummins, colCumprods, colCumsums,\n",
      "    colDiffs, colIQRDiffs, colIQRs, colLogSumExps, colMadDiffs,\n",
      "    colMads, colMaxs, colMeans2, colMedians, colMins, colOrderStats,\n",
      "    colProds, colQuantiles, colRanges, colRanks, colSdDiffs, colSds,\n",
      "    colSums2, colTabulates, colVarDiffs, colVars, colWeightedMads,\n",
      "    colWeightedMeans, colWeightedMedians, colWeightedSds,\n",
      "    colWeightedVars, rowAlls, rowAnyNAs, rowAnys, rowAvgsPerColSet,\n",
      "    rowCollapse, rowCounts, rowCummaxs, rowCummins, rowCumprods,\n",
      "    rowCumsums, rowDiffs, rowIQRDiffs, rowIQRs, rowLogSumExps,\n",
      "    rowMadDiffs, rowMads, rowMaxs, rowMeans2, rowMedians, rowMins,\n",
      "    rowOrderStats, rowProds, rowQuantiles, rowRanges, rowRanks,\n",
      "    rowSdDiffs, rowSds, rowSums2, rowTabulates, rowVarDiffs, rowVars,\n",
      "    rowWeightedMads, rowWeightedMeans, rowWeightedMedians,\n",
      "    rowWeightedSds, rowWeightedVars\n",
      "\n",
      "\n",
      "Loading required package: GenomicRanges\n",
      "\n",
      "Loading required package: stats4\n",
      "\n",
      "Loading required package: BiocGenerics\n",
      "\n",
      "\n",
      "Attaching package: ‘BiocGenerics’\n",
      "\n",
      "\n",
      "The following object is masked from ‘package:gridExtra’:\n",
      "\n",
      "    combine\n",
      "\n",
      "\n",
      "The following objects are masked from ‘package:lubridate’:\n",
      "\n",
      "    intersect, setdiff, union\n",
      "\n",
      "\n",
      "The following objects are masked from ‘package:dplyr’:\n",
      "\n",
      "    combine, intersect, setdiff, union\n",
      "\n",
      "\n",
      "The following objects are masked from ‘package:stats’:\n",
      "\n",
      "    IQR, mad, sd, var, xtabs\n",
      "\n",
      "\n",
      "The following objects are masked from ‘package:base’:\n",
      "\n",
      "    anyDuplicated, aperm, append, as.data.frame, basename, cbind,\n",
      "    colnames, dirname, do.call, duplicated, eval, evalq, Filter, Find,\n",
      "    get, grep, grepl, intersect, is.unsorted, lapply, Map, mapply,\n",
      "    match, mget, order, paste, pmax, pmax.int, pmin, pmin.int,\n",
      "    Position, rank, rbind, Reduce, rownames, sapply, setdiff, sort,\n",
      "    table, tapply, union, unique, unsplit, which.max, which.min\n",
      "\n",
      "\n",
      "Loading required package: S4Vectors\n",
      "\n",
      "\n",
      "Attaching package: ‘S4Vectors’\n",
      "\n",
      "\n",
      "The following objects are masked from ‘package:lubridate’:\n",
      "\n",
      "    second, second<-\n",
      "\n",
      "\n",
      "The following objects are masked from ‘package:dplyr’:\n",
      "\n",
      "    first, rename\n",
      "\n",
      "\n",
      "The following object is masked from ‘package:tidyr’:\n",
      "\n",
      "    expand\n",
      "\n",
      "\n",
      "The following objects are masked from ‘package:base’:\n",
      "\n",
      "    expand.grid, I, unname\n",
      "\n",
      "\n",
      "Loading required package: IRanges\n",
      "\n",
      "\n",
      "Attaching package: ‘IRanges’\n",
      "\n",
      "\n",
      "The following object is masked from ‘package:lubridate’:\n",
      "\n",
      "    %within%\n",
      "\n",
      "\n",
      "The following objects are masked from ‘package:dplyr’:\n",
      "\n",
      "    collapse, desc, slice\n",
      "\n",
      "\n",
      "The following object is masked from ‘package:purrr’:\n",
      "\n",
      "    reduce\n",
      "\n",
      "\n",
      "Loading required package: GenomeInfoDb\n",
      "\n",
      "Loading required package: Biobase\n",
      "\n",
      "Welcome to Bioconductor\n",
      "\n",
      "    Vignettes contain introductory material; view with\n",
      "    'browseVignettes()'. To cite Bioconductor, see\n",
      "    'citation(\"Biobase\")', and for packages 'citation(\"pkgname\")'.\n",
      "\n",
      "\n",
      "\n",
      "Attaching package: ‘Biobase’\n",
      "\n",
      "\n",
      "The following object is masked from ‘package:MatrixGenerics’:\n",
      "\n",
      "    rowMedians\n",
      "\n",
      "\n",
      "The following objects are masked from ‘package:matrixStats’:\n",
      "\n",
      "    anyMissing, rowMedians\n",
      "\n",
      "\n",
      "Loading required package: BiocFileCache\n",
      "\n",
      "Loading required package: dbplyr\n",
      "\n",
      "\n",
      "Attaching package: ‘dbplyr’\n",
      "\n",
      "\n",
      "The following objects are masked from ‘package:dplyr’:\n",
      "\n",
      "    ident, sql\n",
      "\n",
      "\n",
      "\n",
      "Attaching package: ‘AnnotationHub’\n",
      "\n",
      "\n",
      "The following object is masked from ‘package:Biobase’:\n",
      "\n",
      "    cache\n",
      "\n",
      "\n",
      "\n",
      "\n",
      "clusterProfiler v4.6.2  For help: https://yulab-smu.top/biomedical-knowledge-mining-book/\n",
      "\n",
      "If you use clusterProfiler in published research, please cite:\n",
      "T Wu, E Hu, S Xu, M Chen, P Guo, Z Dai, T Feng, L Zhou, W Tang, L Zhan, X Fu, S Liu, X Bo, and G Yu. clusterProfiler 4.0: A universal enrichment tool for interpreting omics data. The Innovation. 2021, 2(3):100141\n",
      "\n",
      "\n",
      "Attaching package: ‘clusterProfiler’\n",
      "\n",
      "\n",
      "The following object is masked from ‘package:IRanges’:\n",
      "\n",
      "    slice\n",
      "\n",
      "\n",
      "The following object is masked from ‘package:S4Vectors’:\n",
      "\n",
      "    rename\n",
      "\n",
      "\n",
      "The following object is masked from ‘package:purrr’:\n",
      "\n",
      "    simplify\n",
      "\n",
      "\n",
      "The following object is masked from ‘package:stats’:\n",
      "\n",
      "    filter\n",
      "\n",
      "\n",
      "Loading required package: AnnotationDbi\n",
      "\n",
      "\n",
      "Attaching package: ‘AnnotationDbi’\n",
      "\n",
      "\n",
      "The following object is masked from ‘package:clusterProfiler’:\n",
      "\n",
      "    select\n",
      "\n",
      "\n",
      "The following object is masked from ‘package:dplyr’:\n",
      "\n",
      "    select\n",
      "\n",
      "\n",
      "Loading required package: Biostrings\n",
      "\n",
      "Loading required package: XVector\n",
      "\n",
      "\n",
      "Attaching package: ‘XVector’\n",
      "\n",
      "\n",
      "The following object is masked from ‘package:purrr’:\n",
      "\n",
      "    compact\n",
      "\n",
      "\n",
      "\n",
      "Attaching package: ‘Biostrings’\n",
      "\n",
      "\n",
      "The following object is masked from ‘package:base’:\n",
      "\n",
      "    strsplit\n",
      "\n",
      "\n",
      "Loading required package: rtracklayer\n",
      "\n",
      "\n",
      "Attaching package: ‘rtracklayer’\n",
      "\n",
      "\n",
      "The following object is masked from ‘package:AnnotationHub’:\n",
      "\n",
      "    hubUrl\n",
      "\n",
      "\n"
     ]
    }
   ],
   "source": [
    "library(\"tidyverse\")\n",
    "library(\"ggplot2\")\n",
    "library(\"BiocManager\")\n",
    "library(\"gridExtra\")\n",
    "library(\"airway\")\n",
    "library(\"AnnotationHub\")\n",
    "library(\"clusterProfiler\")\n",
    "library(\"enrichplot\")\n",
    "library(\"biomaRt\")\n",
    "library(\"DESeq2\")\n",
    "library(\"GenomicFeatures\")\n",
    "library(\"enrichplot\")\n",
    "library(\"BSgenome\")\n",
    "library(\"BSgenome.Hsapiens.UCSC.hg19\")"
   ]
  },
  {
   "cell_type": "markdown",
   "id": "individual-microphone",
   "metadata": {},
   "source": [
    "Lets import some data to work with -- `res` is the `results` object and `rld` is the rlog transformed counts from DESeq2 differential expression analysis run on the `airway` data. We are comparing the dexamethasone treatment conditions, comparing treated to untreated.\n"
   ]
  },
  {
   "cell_type": "code",
   "execution_count": 6,
   "id": "boolean-composition",
   "metadata": {},
   "outputs": [],
   "source": [
    "res <- readRDS(\"res.rds\")"
   ]
  },
  {
   "cell_type": "code",
   "execution_count": 7,
   "id": "acting-banks",
   "metadata": {},
   "outputs": [
    {
     "data": {
      "text/plain": [
       "log2 fold change (MAP): dex trt vs untrt \n",
       "Wald test p-value: dex trt vs untrt \n",
       "DataFrame with 29391 rows and 5 columns\n",
       "                  baseMean log2FoldChange     lfcSE      pvalue       padj\n",
       "                 <numeric>      <numeric> <numeric>   <numeric>  <numeric>\n",
       "ENSG00000000003 708.602170     -0.3584541  0.100036 0.000152017 0.00128122\n",
       "ENSG00000000419 520.297901      0.1860726  0.108183 0.065337210 0.19620790\n",
       "ENSG00000000457 237.163037      0.0313468  0.130347 0.791504963 0.91119406\n",
       "ENSG00000000460  57.932633     -0.0472622  0.212589 0.758803336 0.89463420\n",
       "ENSG00000000938   0.318098     -0.0123431  0.309182 0.693732273         NA\n",
       "...                    ...            ...       ...         ...        ...\n",
       "ENSG00000273485   1.286448    -0.00445615  0.303747    0.936702         NA\n",
       "ENSG00000273486  15.452537    -0.04309283  0.264183    0.756289   0.893661\n",
       "ENSG00000273487   8.163235     0.19116398  0.355670    0.134373   0.329057\n",
       "ENSG00000273488   8.584479     0.02194011  0.279542    0.865806   0.945183\n",
       "ENSG00000273489   0.275899     0.01219803  0.309151    0.672850         NA"
      ]
     },
     "metadata": {},
     "output_type": "display_data"
    }
   ],
   "source": [
    "res"
   ]
  },
  {
   "cell_type": "code",
   "execution_count": 8,
   "id": "chief-charger",
   "metadata": {},
   "outputs": [],
   "source": [
    "rld <- readRDS(\"rld.rds\")"
   ]
  },
  {
   "cell_type": "code",
   "execution_count": 9,
   "id": "asian-worse",
   "metadata": {},
   "outputs": [
    {
     "data": {
      "text/plain": [
       "class: DESeqTransform \n",
       "dim: 29391 8 \n",
       "metadata(2): '' version\n",
       "assays(1): ''\n",
       "rownames(29391): ENSG00000000003 ENSG00000000419 ... ENSG00000273488\n",
       "  ENSG00000273489\n",
       "rowData names(35): baseMean baseVar ... maxCooks rlogIntercept\n",
       "colnames(8): SRR1039508 SRR1039509 ... SRR1039520 SRR1039521\n",
       "colData names(10): SampleName cell ... BioSample sizeFactor"
      ]
     },
     "metadata": {},
     "output_type": "display_data"
    }
   ],
   "source": [
    "rld"
   ]
  },
  {
   "cell_type": "markdown",
   "id": "lightweight-journey",
   "metadata": {},
   "source": [
    "Let's work with the `res` results table. We can see that each row is a gene (`ENSG...`) and each column gives us some information about the differential expression analysis. These gene IDs are not particularly informative, but we can use biomaRt to fix that."
   ]
  },
  {
   "cell_type": "markdown",
   "id": "creative-difficulty",
   "metadata": {},
   "source": [
    "# Using biomaRt\n",
    "\n",
    "The [biomaRt](https://bioconductor.org/packages/release/bioc/html/biomaRt.html) package makes it easy to query public repositories of biological data. We can use biomaRt to query Ensembl for annotations so that we can look for 'housekeeping genes' which are typically considered to be stably expressed and shouldn't show large variations across different samples. We have selected a list of genes based on two publications that queried public cancer genome data to find housekeeping genes for use with RNA-seq from cancer cell lines (https://doi.org/10.1186/s12859-019-2809-2, https://doi.org/10.3389/fgene.2019.00097). "
   ]
  },
  {
   "cell_type": "markdown",
   "id": "neutral-blame",
   "metadata": {},
   "source": [
    "First, let's load biomaRt and make a vector of the gene symbols from the published data:"
   ]
  },
  {
   "cell_type": "code",
   "execution_count": 10,
   "id": "waiting-winter",
   "metadata": {},
   "outputs": [],
   "source": [
    "housekeeping <- c('PCBP1','RER1', 'RPN1', 'PUM1', 'IPO8')"
   ]
  },
  {
   "cell_type": "markdown",
   "id": "checked-quarterly",
   "metadata": {},
   "source": [
    "Then we can see what BioMarts are available:"
   ]
  },
  {
   "cell_type": "code",
   "execution_count": 11,
   "id": "independent-litigation",
   "metadata": {},
   "outputs": [
    {
     "data": {
      "text/html": [
       "<table class=\"dataframe\">\n",
       "<caption>A data.frame: 4 × 2</caption>\n",
       "<thead>\n",
       "\t<tr><th scope=col>biomart</th><th scope=col>version</th></tr>\n",
       "\t<tr><th scope=col>&lt;chr&gt;</th><th scope=col>&lt;chr&gt;</th></tr>\n",
       "</thead>\n",
       "<tbody>\n",
       "\t<tr><td>ENSEMBL_MART_ENSEMBL</td><td>Ensembl Genes 109     </td></tr>\n",
       "\t<tr><td>ENSEMBL_MART_MOUSE  </td><td>Mouse strains 109     </td></tr>\n",
       "\t<tr><td>ENSEMBL_MART_SNP    </td><td>Ensembl Variation 109 </td></tr>\n",
       "\t<tr><td>ENSEMBL_MART_FUNCGEN</td><td>Ensembl Regulation 109</td></tr>\n",
       "</tbody>\n",
       "</table>\n"
      ],
      "text/latex": [
       "A data.frame: 4 × 2\n",
       "\\begin{tabular}{ll}\n",
       " biomart & version\\\\\n",
       " <chr> & <chr>\\\\\n",
       "\\hline\n",
       "\t ENSEMBL\\_MART\\_ENSEMBL & Ensembl Genes 109     \\\\\n",
       "\t ENSEMBL\\_MART\\_MOUSE   & Mouse strains 109     \\\\\n",
       "\t ENSEMBL\\_MART\\_SNP     & Ensembl Variation 109 \\\\\n",
       "\t ENSEMBL\\_MART\\_FUNCGEN & Ensembl Regulation 109\\\\\n",
       "\\end{tabular}\n"
      ],
      "text/markdown": [
       "\n",
       "A data.frame: 4 × 2\n",
       "\n",
       "| biomart &lt;chr&gt; | version &lt;chr&gt; |\n",
       "|---|---|\n",
       "| ENSEMBL_MART_ENSEMBL | Ensembl Genes 109      |\n",
       "| ENSEMBL_MART_MOUSE   | Mouse strains 109      |\n",
       "| ENSEMBL_MART_SNP     | Ensembl Variation 109  |\n",
       "| ENSEMBL_MART_FUNCGEN | Ensembl Regulation 109 |\n",
       "\n"
      ],
      "text/plain": [
       "  biomart              version               \n",
       "1 ENSEMBL_MART_ENSEMBL Ensembl Genes 109     \n",
       "2 ENSEMBL_MART_MOUSE   Mouse strains 109     \n",
       "3 ENSEMBL_MART_SNP     Ensembl Variation 109 \n",
       "4 ENSEMBL_MART_FUNCGEN Ensembl Regulation 109"
      ]
     },
     "metadata": {},
     "output_type": "display_data"
    }
   ],
   "source": [
    "listMarts()"
   ]
  },
  {
   "cell_type": "markdown",
   "id": "quick-investigation",
   "metadata": {},
   "source": [
    "Let's use `ENSEMBL_MART_ENSEMBL` (you might get an error that says `Ensembl site unresponsive, trying uswest mirror`, run `?useEnsembl` to get more information about available options)."
   ]
  },
  {
   "cell_type": "code",
   "execution_count": 12,
   "id": "physical-cameroon",
   "metadata": {},
   "outputs": [
    {
     "name": "stderr",
     "output_type": "stream",
     "text": [
      "Ensembl site unresponsive, trying www mirror\n",
      "\n"
     ]
    }
   ],
   "source": [
    "ensembl <- useEnsembl(biomart = 'ENSEMBL_MART_ENSEMBL')"
   ]
  },
  {
   "cell_type": "markdown",
   "id": "swedish-lender",
   "metadata": {},
   "source": [
    "You can see a list of all available datasets within the mart if you run `listDatasets(ensembl)` -- there are many (~200 of them), so let's narrow it down a little and look only for human data."
   ]
  },
  {
   "cell_type": "code",
   "execution_count": 13,
   "id": "lightweight-register",
   "metadata": {},
   "outputs": [
    {
     "ename": "ERROR",
     "evalue": "Error in curl::curl_fetch_memory(url, handle = handle): Timeout was reached: [www.ensembl.org:443] Operation timed out after 10001 milliseconds with 0 bytes received\n",
     "output_type": "error",
     "traceback": [
      "Error in curl::curl_fetch_memory(url, handle = handle): Timeout was reached: [www.ensembl.org:443] Operation timed out after 10001 milliseconds with 0 bytes received\nTraceback:\n",
      "1. searchDatasets(mart = ensembl, pattern = \"hsapiens\")",
      "2. listDatasets(mart)",
      "3. .listDatasets(mart = mart, verbose = verbose, sort = TRUE)",
      "4. bmRequest(request = request, httr_config = httr_config, verbose = verbose)",
      "5. httr::GET(request, config = httr_config, content_type(\"text/plain\"), \n .     timeout(10))",
      "6. request_perform(req, hu$handle$handle)",
      "7. request_fetch(req$output, req$url, handle)",
      "8. request_fetch.write_memory(req$output, req$url, handle)",
      "9. curl::curl_fetch_memory(url, handle = handle)"
     ]
    }
   ],
   "source": [
    "searchDatasets(mart = ensembl, pattern = 'hsapiens')"
   ]
  },
  {
   "cell_type": "markdown",
   "id": "norman-modeling",
   "metadata": {},
   "source": [
    "Now we can put it all together to create a BioMart object: (you might get an error that says `Ensembl site unresponsive, trying uswest mirror`)"
   ]
  },
  {
   "cell_type": "code",
   "execution_count": null,
   "id": "private-assurance",
   "metadata": {},
   "outputs": [],
   "source": [
    "ensembl <- useEnsembl(biomart = 'ENSEMBL_MART_ENSEMBL', dataset='hsapiens_gene_ensembl', mirror = 'uswest')"
   ]
  },
  {
   "cell_type": "markdown",
   "id": "caroline-prior",
   "metadata": {},
   "source": [
    "Later, we will use the `getBM()` function to query BioMart (this is the main function of biomaRt). This function takes the followingarguments:\n",
    "\n",
    "`attributes`: the attributes you want to retrieve                     \n",
    "`filters`: the filters that should be used in the query                    \n",
    "`values`: the values of the filters                    \n",
    "`mart`: the mart object you want to use.   \n",
    "\n",
    "We can use the `listAttributes` function to see what information is available in `ensembl` (limiting it here to the first 5)"
   ]
  },
  {
   "cell_type": "code",
   "execution_count": null,
   "id": "sixth-velvet",
   "metadata": {},
   "outputs": [],
   "source": [
    "attributes = listAttributes(ensembl)\n",
    "attributes[1:5,]"
   ]
  },
  {
   "cell_type": "markdown",
   "id": "colored-ferry",
   "metadata": {},
   "source": [
    "Note that there are ~3000 attributes for this mart! We only care a about two -- `ensembl_gene_id` and `hgnc_symbol`."
   ]
  },
  {
   "cell_type": "markdown",
   "id": "opened-institute",
   "metadata": {},
   "source": [
    "We can use the `listFilters` function to see what our filtering options are (limiting it here to the first 5)"
   ]
  },
  {
   "cell_type": "code",
   "execution_count": null,
   "id": "extreme-library",
   "metadata": {},
   "outputs": [],
   "source": [
    "filters = listFilters(ensembl)\n",
    "filters[1:5,]"
   ]
  },
  {
   "cell_type": "markdown",
   "id": "competent-brief",
   "metadata": {},
   "source": [
    "We can use `getBM` to query the BioMart object                   "
   ]
  },
  {
   "cell_type": "code",
   "execution_count": null,
   "id": "portable-video",
   "metadata": {},
   "outputs": [],
   "source": [
    "ensembl_bm <- getBM(\n",
    "    attributes = c('ensembl_gene_id','hgnc_symbol'),\n",
    "    filters = 'hgnc_symbol',\n",
    "    values = housekeeping, \n",
    "    mart = ensembl)\n",
    "ensembl_bm"
   ]
  },
  {
   "cell_type": "markdown",
   "id": "static-hearing",
   "metadata": {},
   "source": [
    "Let's look at the `rlog` normalized counts for our housekeeping genes:"
   ]
  },
  {
   "cell_type": "code",
   "execution_count": null,
   "id": "lonely-wages",
   "metadata": {},
   "outputs": [],
   "source": [
    "housekeeping_rld <- data.frame(assay(rld)[ensembl_bm$ensembl_gene_id, ])\n",
    "head(housekeeping_rld)"
   ]
  },
  {
   "cell_type": "markdown",
   "id": "greek-requirement",
   "metadata": {},
   "source": [
    "The `ensembl_gene_id` is currently stored as the rownames. Let's go ahead and turn it into a column in the data frame:"
   ]
  },
  {
   "cell_type": "code",
   "execution_count": null,
   "id": "empty-workplace",
   "metadata": {},
   "outputs": [],
   "source": [
    "housekeeping_rld$ensembl_gene_id <- rownames(housekeeping_rld)\n",
    "head(housekeeping_rld)"
   ]
  },
  {
   "cell_type": "markdown",
   "id": "focal-algorithm",
   "metadata": {},
   "source": [
    "Then we use the `gather` function to convert the data to a long format."
   ]
  },
  {
   "cell_type": "code",
   "execution_count": null,
   "id": "swedish-execution",
   "metadata": {},
   "outputs": [],
   "source": [
    "housekeeping_rld_tidy <- gather(housekeeping_rld, key = 'sample', value = 'rlog_counts', SRR1039508:SRR1039521)\n",
    "head(housekeeping_rld_tidy)"
   ]
  },
  {
   "cell_type": "markdown",
   "id": "killing-negotiation",
   "metadata": {},
   "source": [
    "Let's add the annotation information we pulled from biomaRt:"
   ]
  },
  {
   "cell_type": "code",
   "execution_count": null,
   "id": "unable-science",
   "metadata": {},
   "outputs": [],
   "source": [
    "housekeeping_rld_tidy <- inner_join(ensembl_bm, housekeeping_rld_tidy, by = 'ensembl_gene_id')\n",
    "head(housekeeping_rld_tidy)"
   ]
  },
  {
   "cell_type": "markdown",
   "id": "comprehensive-crest",
   "metadata": {},
   "source": [
    "Let's look at the expression of our housekeeping genes to see if they look stably expressed in our data:"
   ]
  },
  {
   "cell_type": "code",
   "execution_count": null,
   "id": "professional-backing",
   "metadata": {},
   "outputs": [],
   "source": [
    "options(repr.plot.width=10, repr.plot.height=5)\n",
    "\n",
    "ggplot(housekeeping_rld_tidy, aes(x=sample, y=rlog_counts)) + \n",
    "geom_bar(stat=\"identity\") +\n",
    "facet_wrap(~hgnc_symbol, nrow = 1) +\n",
    "theme(axis.text.x = element_text(angle = 90))"
   ]
  },
  {
   "cell_type": "markdown",
   "id": "substantial-maple",
   "metadata": {},
   "source": [
    "These housekeeping genes look stably expressed across each sample."
   ]
  },
  {
   "cell_type": "markdown",
   "id": "together-smile",
   "metadata": {},
   "source": [
    "# Using AnnotationHub\n",
    "\n",
    "Now we can try using AnnotationHub to do something similar to what we just did with `biomaRt`.\n",
    "Many of the data types we will work with from AnnotationHub are based on the `AnnotationDb` object class -- including OrgDb, TxDb, and many others. This means that they have many functions and methods in common (http://web.mit.edu/~r/current/arch/i386_linux26/lib/R/library/AnnotationDbi/html/AnnotationDb-class.html).               \n",
    "\n",
    "First, let's connect to the hub using `AnnotationHub` and look at the output."
   ]
  },
  {
   "cell_type": "code",
   "execution_count": 21,
   "id": "anticipated-vulnerability",
   "metadata": {},
   "outputs": [
    {
     "name": "stderr",
     "output_type": "stream",
     "text": [
      "snapshotDate(): 2022-10-31\n",
      "\n"
     ]
    },
    {
     "data": {
      "text/plain": [
       "AnnotationHub with 69797 records\n",
       "# snapshotDate(): 2022-10-31\n",
       "# $dataprovider: Ensembl, BroadInstitute, UCSC, ftp://ftp.ncbi.nlm.nih.gov/g...\n",
       "# $species: Homo sapiens, Mus musculus, Drosophila melanogaster, Bos taurus,...\n",
       "# $rdataclass: GRanges, TwoBitFile, BigWigFile, EnsDb, Rle, OrgDb, ChainFile...\n",
       "# additional mcols(): taxonomyid, genome, description,\n",
       "#   coordinate_1_based, maintainer, rdatadateadded, preparerclass, tags,\n",
       "#   rdatapath, sourceurl, sourcetype \n",
       "# retrieve records with, e.g., 'object[[\"AH5012\"]]' \n",
       "\n",
       "            \n",
       "  AH5012   |\n",
       "  AH5013   |\n",
       "  AH5014   |\n",
       "  AH5015   |\n",
       "  AH5016   |\n",
       "  ...       \n",
       "  AH111329 |\n",
       "  AH111330 |\n",
       "  AH111331 |\n",
       "  AH111332 |\n",
       "  AH111334 |\n",
       "           title                                                              \n",
       "  AH5012   Chromosome Band                                                    \n",
       "  AH5013   STS Markers                                                        \n",
       "  AH5014   FISH Clones                                                        \n",
       "  AH5015   Recomb Rate                                                        \n",
       "  AH5016   ENCODE Pilot                                                       \n",
       "  ...      ...                                                                \n",
       "  AH111329 Zonotrichia_albicollis.Zonotrichia_albicollis-1.0.1.109.abinitio...\n",
       "  AH111330 Zonotrichia_albicollis.Zonotrichia_albicollis-1.0.1.109.gtf        \n",
       "  AH111331 Zosterops_lateralis_melanops.ASM128173v1.109.abinitio.gtf          \n",
       "  AH111332 Zosterops_lateralis_melanops.ASM128173v1.109.gtf                   \n",
       "  AH111334 MassBank CompDb for release 2022.12.1                              "
      ]
     },
     "metadata": {},
     "output_type": "display_data"
    }
   ],
   "source": [
    "ah <- AnnotationHub()\n",
    "ah"
   ]
  },
  {
   "cell_type": "markdown",
   "id": "0d0118ac",
   "metadata": {},
   "source": [
    "You might get an error:\n",
    "\n",
    "Error in AnnotationHub(): DEFUNCT: As of AnnotationHub (>2.23.2), default caching location has changed.\n",
    "  Problematic cache: /users/jwalla12/.cache/AnnotationHub\n",
    "  See https://bioconductor.org/packages/devel/bioc/vignettes/AnnotationHub/inst/doc/TroubleshootingTheCache.html#default-caching-location-update\n",
    "\n",
    "Traceback:\n",
    "\n",
    "1. AnnotationHub()\n",
    "2. stop(msg = paste0(\"DEFUNCT: As of AnnotationHub (>2.23.2), default caching location has changed.\\n\", \n",
    " .     \"  Problematic cache: \", path.expand(olddefault), \"\\n\", \"  See https://bioconductor.org/packages/devel/bioc/vignettes/AnnotationHub/inst/doc/TroubleshootingTheCache.html#default-caching-location-update\\n\"))\n",
    " \n"
   ]
  },
  {
   "cell_type": "markdown",
   "id": "547fd6fc",
   "metadata": {},
   "source": [
    "If you do, run this and then re-run the code to connect to AnnotationHub:"
   ]
  },
  {
   "cell_type": "markdown",
   "id": "eea0307a",
   "metadata": {},
   "source": [
    "moveFiles<-function(package){\n",
    "        olddir <- path.expand(rappdirs::user_cache_dir(appname=package))\n",
    "        newdir <- tools::R_user_dir(package, which=\"cache\")\n",
    "        dir.create(path=newdir, recursive=TRUE)\n",
    "        files <- list.files(olddir, full.names =TRUE)\n",
    "        moveres <- vapply(files,\n",
    "        FUN=function(fl){\n",
    "          filename = basename(fl)\n",
    "          newname = file.path(newdir, filename)\n",
    "          file.rename(fl, newname)\n",
    "        },\n",
    "        FUN.VALUE = logical(1))\n",
    "        if(all(moveres)) unlink(olddir, recursive=TRUE)\n",
    "    }\n",
    "\n",
    "package=\"AnnotationHub\"\n",
    "moveFiles(package)"
   ]
  },
  {
   "cell_type": "markdown",
   "id": "female-audit",
   "metadata": {},
   "source": [
    "This is one of the very nice things about using AnnotationHub -- there's many data providers, data classes, and organisms represented in the hub. You can access these elements using `$` accessor:"
   ]
  },
  {
   "cell_type": "code",
   "execution_count": 22,
   "id": "reported-facing",
   "metadata": {},
   "outputs": [
    {
     "data": {
      "text/html": [
       "<style>\n",
       ".list-inline {list-style: none; margin:0; padding: 0}\n",
       ".list-inline>li {display: inline-block}\n",
       ".list-inline>li:not(:last-child)::after {content: \"\\00b7\"; padding: 0 .5ex}\n",
       "</style>\n",
       "<ol class=list-inline><li>'UCSC'</li><li>'Ensembl'</li><li>'RefNet'</li><li>'Inparanoid8'</li><li>'NHLBI'</li><li>'ChEA'</li></ol>\n"
      ],
      "text/latex": [
       "\\begin{enumerate*}\n",
       "\\item 'UCSC'\n",
       "\\item 'Ensembl'\n",
       "\\item 'RefNet'\n",
       "\\item 'Inparanoid8'\n",
       "\\item 'NHLBI'\n",
       "\\item 'ChEA'\n",
       "\\end{enumerate*}\n"
      ],
      "text/markdown": [
       "1. 'UCSC'\n",
       "2. 'Ensembl'\n",
       "3. 'RefNet'\n",
       "4. 'Inparanoid8'\n",
       "5. 'NHLBI'\n",
       "6. 'ChEA'\n",
       "\n",
       "\n"
      ],
      "text/plain": [
       "[1] \"UCSC\"        \"Ensembl\"     \"RefNet\"      \"Inparanoid8\" \"NHLBI\"      \n",
       "[6] \"ChEA\"       "
      ]
     },
     "metadata": {},
     "output_type": "display_data"
    },
    {
     "data": {
      "text/html": [
       "79"
      ],
      "text/latex": [
       "79"
      ],
      "text/markdown": [
       "79"
      ],
      "text/plain": [
       "[1] 79"
      ]
     },
     "metadata": {},
     "output_type": "display_data"
    }
   ],
   "source": [
    "head(unique(ah$dataprovider))\n",
    "length(unique(ah$dataprovider))"
   ]
  },
  {
   "cell_type": "code",
   "execution_count": 23,
   "id": "outside-desperate",
   "metadata": {},
   "outputs": [
    {
     "data": {
      "text/html": [
       "<style>\n",
       ".list-inline {list-style: none; margin:0; padding: 0}\n",
       ".list-inline>li {display: inline-block}\n",
       ".list-inline>li:not(:last-child)::after {content: \"\\00b7\"; padding: 0 .5ex}\n",
       "</style>\n",
       "<ol class=list-inline><li>'GRanges'</li><li>'data.frame'</li><li>'Inparanoid8Db'</li><li>'TwoBitFile'</li><li>'ChainFile'</li><li>'SQLiteConnection'</li><li>'biopax'</li><li>'BigWigFile'</li><li>'AAStringSet'</li><li>'MSnSet'</li><li>'mzRident'</li><li>'list'</li><li>'TxDb'</li><li>'Rle'</li><li>'EnsDb'</li><li>'VcfFile'</li><li>'igraph'</li><li>'data.frame, DNAStringSet, GRanges'</li><li>'sqlite'</li><li>'data.table'</li><li>'character'</li><li>'SQLite'</li><li>'SQLiteFile'</li><li>'Tibble'</li><li>'Rda'</li><li>'FaFile'</li><li>'String'</li><li>'CompDb'</li><li>'OrgDb'</li></ol>\n"
      ],
      "text/latex": [
       "\\begin{enumerate*}\n",
       "\\item 'GRanges'\n",
       "\\item 'data.frame'\n",
       "\\item 'Inparanoid8Db'\n",
       "\\item 'TwoBitFile'\n",
       "\\item 'ChainFile'\n",
       "\\item 'SQLiteConnection'\n",
       "\\item 'biopax'\n",
       "\\item 'BigWigFile'\n",
       "\\item 'AAStringSet'\n",
       "\\item 'MSnSet'\n",
       "\\item 'mzRident'\n",
       "\\item 'list'\n",
       "\\item 'TxDb'\n",
       "\\item 'Rle'\n",
       "\\item 'EnsDb'\n",
       "\\item 'VcfFile'\n",
       "\\item 'igraph'\n",
       "\\item 'data.frame, DNAStringSet, GRanges'\n",
       "\\item 'sqlite'\n",
       "\\item 'data.table'\n",
       "\\item 'character'\n",
       "\\item 'SQLite'\n",
       "\\item 'SQLiteFile'\n",
       "\\item 'Tibble'\n",
       "\\item 'Rda'\n",
       "\\item 'FaFile'\n",
       "\\item 'String'\n",
       "\\item 'CompDb'\n",
       "\\item 'OrgDb'\n",
       "\\end{enumerate*}\n"
      ],
      "text/markdown": [
       "1. 'GRanges'\n",
       "2. 'data.frame'\n",
       "3. 'Inparanoid8Db'\n",
       "4. 'TwoBitFile'\n",
       "5. 'ChainFile'\n",
       "6. 'SQLiteConnection'\n",
       "7. 'biopax'\n",
       "8. 'BigWigFile'\n",
       "9. 'AAStringSet'\n",
       "10. 'MSnSet'\n",
       "11. 'mzRident'\n",
       "12. 'list'\n",
       "13. 'TxDb'\n",
       "14. 'Rle'\n",
       "15. 'EnsDb'\n",
       "16. 'VcfFile'\n",
       "17. 'igraph'\n",
       "18. 'data.frame, DNAStringSet, GRanges'\n",
       "19. 'sqlite'\n",
       "20. 'data.table'\n",
       "21. 'character'\n",
       "22. 'SQLite'\n",
       "23. 'SQLiteFile'\n",
       "24. 'Tibble'\n",
       "25. 'Rda'\n",
       "26. 'FaFile'\n",
       "27. 'String'\n",
       "28. 'CompDb'\n",
       "29. 'OrgDb'\n",
       "\n",
       "\n"
      ],
      "text/plain": [
       " [1] \"GRanges\"                           \"data.frame\"                       \n",
       " [3] \"Inparanoid8Db\"                     \"TwoBitFile\"                       \n",
       " [5] \"ChainFile\"                         \"SQLiteConnection\"                 \n",
       " [7] \"biopax\"                            \"BigWigFile\"                       \n",
       " [9] \"AAStringSet\"                       \"MSnSet\"                           \n",
       "[11] \"mzRident\"                          \"list\"                             \n",
       "[13] \"TxDb\"                              \"Rle\"                              \n",
       "[15] \"EnsDb\"                             \"VcfFile\"                          \n",
       "[17] \"igraph\"                            \"data.frame, DNAStringSet, GRanges\"\n",
       "[19] \"sqlite\"                            \"data.table\"                       \n",
       "[21] \"character\"                         \"SQLite\"                           \n",
       "[23] \"SQLiteFile\"                        \"Tibble\"                           \n",
       "[25] \"Rda\"                               \"FaFile\"                           \n",
       "[27] \"String\"                            \"CompDb\"                           \n",
       "[29] \"OrgDb\"                            "
      ]
     },
     "metadata": {},
     "output_type": "display_data"
    }
   ],
   "source": [
    "unique(ah$rdataclass)\n"
   ]
  },
  {
   "cell_type": "markdown",
   "id": "wrapped-motion",
   "metadata": {},
   "source": [
    "## OrgDb objects"
   ]
  },
  {
   "cell_type": "markdown",
   "id": "injured-version",
   "metadata": {},
   "source": [
    "One of the options you can see here is `OrgDb`, which is an organism-specific, genome wide annotation. We can use it to map between different gene ID types using a central identifier (usually Entrez gene ID). \n",
    "\n",
    "OrgDb names are always of the form: org.Ab.id.db (e.g.  org.Sc.sgd.db) where Ab is a 2-letter abbreviation of the organism and id is an abbreviation (in lower-case) describing the type of central identifier (`eg` for Entrez Gene ids).\n",
    "\n",
    "Let's see what our options are for `Homo sapiens` and `OrgDb`:"
   ]
  },
  {
   "cell_type": "code",
   "execution_count": 24,
   "id": "upper-click",
   "metadata": {},
   "outputs": [
    {
     "data": {
      "text/plain": [
       "AnnotationHub with 1 record\n",
       "# snapshotDate(): 2022-10-31\n",
       "# names(): AH107059\n",
       "# $dataprovider: ftp://ftp.ncbi.nlm.nih.gov/gene/DATA/\n",
       "# $species: Homo sapiens\n",
       "# $rdataclass: OrgDb\n",
       "# $rdatadateadded: 2022-09-29\n",
       "# $title: org.Hs.eg.db.sqlite\n",
       "# $description: NCBI gene ID based annotations about Homo sapiens\n",
       "# $taxonomyid: 9606\n",
       "# $genome: NCBI genomes\n",
       "# $sourcetype: NCBI/ensembl\n",
       "# $sourceurl: ftp://ftp.ncbi.nlm.nih.gov/gene/DATA/, ftp://ftp.ensembl.org/p...\n",
       "# $sourcesize: NA\n",
       "# $tags: c(\"NCBI\", \"Gene\", \"Annotation\") \n",
       "# retrieve record with 'object[[\"AH107059\"]]' "
      ]
     },
     "metadata": {},
     "output_type": "display_data"
    }
   ],
   "source": [
    "AnnotationHub::query(ah, pattern = c(\"Homo sapiens\", \"OrgDb\"))"
   ]
  },
  {
   "cell_type": "markdown",
   "id": "egyptian-sigma",
   "metadata": {},
   "source": [
    "So you can see here that there is an OrgDb for Homo sapiens that uses Entrez gene ID as the central identifier."
   ]
  },
  {
   "cell_type": "code",
   "execution_count": 25,
   "id": "parental-citizen",
   "metadata": {},
   "outputs": [
    {
     "name": "stderr",
     "output_type": "stream",
     "text": [
      "downloading 1 resources\n",
      "\n",
      "retrieving 1 resource\n",
      "\n",
      "loading from cache\n",
      "\n",
      "Warning message:\n",
      "“Corrupt Cache: resource path\n",
      "  See AnnotationHub's TroubleshootingTheCache vignette section on corrupt cache\n",
      "  cache: /users/jwalla12/.cache/R/AnnotationHub\n",
      "  potential duplicate files: \n",
      "    1584245bff5a0_105758\n",
      "    1c9da3b39ddca_105758\n",
      "    41c039f9905d_113805\n",
      "    876f6f9145d2_113805\n",
      "    2eb7f73f7864b_58996\n",
      "    41c055f6ecc7_58996\n",
      "    3f638285427db_90869\n",
      "    a37a3b8dc6e2_90869\n",
      "Continuing with first found cached file”\n"
     ]
    }
   ],
   "source": [
    "orgdb <- AnnotationHub::query(ah, pattern = c(\"Homo sapiens\", \"OrgDb\"))[[1]]"
   ]
  },
  {
   "cell_type": "code",
   "execution_count": 26,
   "id": "spectacular-parliament",
   "metadata": {},
   "outputs": [
    {
     "name": "stderr",
     "output_type": "stream",
     "text": [
      "\n",
      "Please see: help('select') for usage information\n",
      "\n"
     ]
    },
    {
     "data": {
      "text/plain": [
       "OrgDb object:\n",
       "| DBSCHEMAVERSION: 2.1\n",
       "| Db type: OrgDb\n",
       "| Supporting package: AnnotationDbi\n",
       "| DBSCHEMA: HUMAN_DB\n",
       "| ORGANISM: Homo sapiens\n",
       "| SPECIES: Human\n",
       "| EGSOURCEDATE: 2022-Sep12\n",
       "| EGSOURCENAME: Entrez Gene\n",
       "| EGSOURCEURL: ftp://ftp.ncbi.nlm.nih.gov/gene/DATA\n",
       "| CENTRALID: EG\n",
       "| TAXID: 9606\n",
       "| GOSOURCENAME: Gene Ontology\n",
       "| GOSOURCEURL: http://current.geneontology.org/ontology/go-basic.obo\n",
       "| GOSOURCEDATE: 2022-07-01\n",
       "| GOEGSOURCEDATE: 2022-Sep12\n",
       "| GOEGSOURCENAME: Entrez Gene\n",
       "| GOEGSOURCEURL: ftp://ftp.ncbi.nlm.nih.gov/gene/DATA\n",
       "| KEGGSOURCENAME: KEGG GENOME\n",
       "| KEGGSOURCEURL: ftp://ftp.genome.jp/pub/kegg/genomes\n",
       "| KEGGSOURCEDATE: 2011-Mar15\n",
       "| GPSOURCENAME: UCSC Genome Bioinformatics (Homo sapiens)\n",
       "| GPSOURCEURL: \n",
       "| GPSOURCEDATE: 2022-Aug31\n",
       "| ENSOURCEDATE: 2022-Jun28\n",
       "| ENSOURCENAME: Ensembl\n",
       "| ENSOURCEURL: ftp://ftp.ensembl.org/pub/current_fasta\n",
       "| UPSOURCENAME: Uniprot\n",
       "| UPSOURCEURL: http://www.UniProt.org/\n",
       "| UPSOURCEDATE: Fri Sep 23 16:26:35 2022"
      ]
     },
     "metadata": {},
     "output_type": "display_data"
    }
   ],
   "source": [
    "orgdb"
   ]
  },
  {
   "cell_type": "markdown",
   "id": "played-sight",
   "metadata": {},
   "source": [
    "What types of data can we retrieve from the OrgDb? Let's use `keytypes()` to find out. "
   ]
  },
  {
   "cell_type": "markdown",
   "id": "compact-tutorial",
   "metadata": {},
   "source": [
    "The likely use case is that you are hoping to convert between different ID types (like we did with biomaRt). One way to do this is the `select()` function. AnnotationHub imports this function from AnnotationDbi so you can run `?AnnotationDbi::select` to view the help. As I said before, OrgDbs are based on the AnnotationDb object base class and the `select`, `columns`, `keys`, and `keytypes` arguments are used together to query AnnotationDb objects.\n",
    "\n",
    "`select` will retrieve the data as a data.frame based on parameters for selected keys columns and keytype arguments.\n",
    "\n",
    "`columns` shows which kinds of data can be returned for the AnnotationDb object.\n",
    "\n",
    "`keys` returns keys for the database contained in the AnnotationDb object. \n",
    "\n",
    "`keytypes` allows the user to discover which keytypes can be passed in to select or keys and the keytype argument."
   ]
  },
  {
   "cell_type": "markdown",
   "id": "junior-subject",
   "metadata": {},
   "source": [
    "We can view columns and keytypes -- note that these can be the same but are not always the same."
   ]
  },
  {
   "cell_type": "code",
   "execution_count": 16,
   "id": "opened-marshall",
   "metadata": {},
   "outputs": [
    {
     "ename": "ERROR",
     "evalue": "Error in h(simpleError(msg, call)): error in evaluating the argument 'x' in selecting a method for function 'columns': object 'orgdb' not found\n",
     "output_type": "error",
     "traceback": [
      "Error in h(simpleError(msg, call)): error in evaluating the argument 'x' in selecting a method for function 'columns': object 'orgdb' not found\nTraceback:\n",
      "1. columns(orgdb)",
      "2. .handleSimpleError(function (cond) \n . .Internal(C_tryCatchHelper(addr, 1L, cond)), \"object 'orgdb' not found\", \n .     base::quote(columns(orgdb)))",
      "3. h(simpleError(msg, call))"
     ]
    }
   ],
   "source": [
    "columns(orgdb)"
   ]
  },
  {
   "cell_type": "code",
   "execution_count": null,
   "id": "smooth-accessory",
   "metadata": {},
   "outputs": [],
   "source": [
    "keytypes(orgdb)"
   ]
  },
  {
   "cell_type": "markdown",
   "id": "classical-gazette",
   "metadata": {},
   "source": [
    "Let's look at a few examples of what the key entries look like"
   ]
  },
  {
   "cell_type": "code",
   "execution_count": null,
   "id": "technical-ownership",
   "metadata": {},
   "outputs": [],
   "source": [
    "head(keys(orgdb, keytype=\"SYMBOL\"))"
   ]
  },
  {
   "cell_type": "markdown",
   "id": "living-singapore",
   "metadata": {},
   "source": [
    "We can try running `select` to look for the housekeeping genes in the OrgDb to retrieve their ENSEMBL and ENTREZIDs:"
   ]
  },
  {
   "cell_type": "code",
   "execution_count": null,
   "id": "administrative-tobacco",
   "metadata": {},
   "outputs": [],
   "source": [
    "ens_entr_orgdb <- select(orgdb, keys=housekeeping, \n",
    "       columns=c(\"ENSEMBL\",\"ENTREZID\"), \n",
    "       keytype=\"SYMBOL\")\n",
    "ens_entr_orgdb"
   ]
  },
  {
   "cell_type": "markdown",
   "id": "charitable-falls",
   "metadata": {},
   "source": [
    "As you can see, this returned a 1:1 mapping between keys and columns, but this might not always be the case. What happens if we use \"GO\" as one of the columns?"
   ]
  },
  {
   "cell_type": "code",
   "execution_count": null,
   "id": "imposed-language",
   "metadata": {},
   "outputs": [],
   "source": [
    "go_orgdb <- select(orgdb, keys=housekeeping, \n",
    "       columns=c(\"ENSEMBL\",\"GO\"), \n",
    "       keytype=\"SYMBOL\")\n",
    "head(go_orgdb)"
   ]
  },
  {
   "cell_type": "markdown",
   "id": "incorporated-blind",
   "metadata": {},
   "source": [
    "This might not be the ideal outcome for you. Another approach is to use the `mapIds` function. `mapIds` is similar to `select` in that it uses `keys` and `keytypes` but it uses `column` instead of `columns` and can only return one column type, "
   ]
  },
  {
   "cell_type": "code",
   "execution_count": null,
   "id": "sexual-technology",
   "metadata": {},
   "outputs": [],
   "source": [
    "mapped_go <- mapIds(orgdb, keys=housekeeping, \n",
    "       column=\"GO\", \n",
    "       keytype=\"SYMBOL\")\n",
    "head(mapped_go)"
   ]
  },
  {
   "cell_type": "markdown",
   "id": "located-characterization",
   "metadata": {},
   "source": [
    "By default, `mapIds` will return the first match. If you really want all of the GO terms, you can specify the `multiVals` argument. Here's the options for `multiVals`:"
   ]
  },
  {
   "cell_type": "markdown",
   "id": "confident-robinson",
   "metadata": {},
   "source": [
    "first:\n",
    "\n",
    "    This value means that when there are multiple matches only the 1st thing that comes back will be returned. This is the default behavior\n",
    "list:\n",
    "\n",
    "    This will just returns a list object to the end user\n",
    "filter:\n",
    "\n",
    "    This will remove all elements that contain multiple matches and will therefore return a shorter vector than what came in whenever some of the keys match more than one value\n",
    "asNA:\n",
    "\n",
    "    This will return an NA value whenever there are multiple matches\n",
    "CharacterList:\n",
    "\n",
    "    This just returns a SimpleCharacterList object\n",
    "FUN:\n",
    "\n",
    "    You can also supply a function to the multiVals argument for custom behaviors. The function must take a single argument and return a single value. This function will be applied to all the elements and will serve a 'rule' that for which thing to keep when there is more than one element. So for example this example function will always grab the last element in each result:  last <- function(x){x[[length(x)]]} \n"
   ]
  },
  {
   "cell_type": "markdown",
   "id": "previous-suffering",
   "metadata": {},
   "source": [
    "Let's specify that we want `multiVals=\"list\"`"
   ]
  },
  {
   "cell_type": "code",
   "execution_count": null,
   "id": "opposite-toronto",
   "metadata": {},
   "outputs": [],
   "source": [
    "mapped_go <- mapIds(orgdb, keys=housekeeping, \n",
    "       column=\"GO\", \n",
    "       keytype=\"SYMBOL\",\n",
    "       multiVals=\"list\")\n",
    "head(mapped_go)"
   ]
  },
  {
   "cell_type": "markdown",
   "id": "tracked-invalid",
   "metadata": {},
   "source": [
    "## TxDB Objects"
   ]
  },
  {
   "cell_type": "markdown",
   "id": "removed-polish",
   "metadata": {},
   "source": [
    "One of the other options in AnnotationHub is`TxDb`. They are also based on the AnnotationDb class and use similar methods."
   ]
  },
  {
   "cell_type": "markdown",
   "id": "thermal-christian",
   "metadata": {},
   "source": [
    "A TxDb object connects a set of genomic coordinates to transcript-oriented features. It also contains feature IDs for transcripts and genes so TxDb objects can be used to link gene IDs and transcipt IDs.\n",
    "Let's work with the human TxDb object:"
   ]
  },
  {
   "cell_type": "code",
   "execution_count": null,
   "id": "latest-estate",
   "metadata": {},
   "outputs": [],
   "source": [
    "AnnotationHub::query(ah, pattern = c(\"Homo sapiens\", \"TxDb\", \"hg19\"))"
   ]
  },
  {
   "cell_type": "markdown",
   "id": "accessible-tennessee",
   "metadata": {},
   "source": [
    "We can query the AnnotationHub and specify which record we'd like to use:"
   ]
  },
  {
   "cell_type": "code",
   "execution_count": null,
   "id": "alternate-contest",
   "metadata": {},
   "outputs": [],
   "source": [
    "txdb <- AnnotationHub::query(ah, pattern = c(\"Homo sapiens\", \"TxDb\", \"hg19\"))[['AH52258']]"
   ]
  },
  {
   "cell_type": "code",
   "execution_count": null,
   "id": "retired-vegetarian",
   "metadata": {},
   "outputs": [],
   "source": [
    "txdb"
   ]
  },
  {
   "cell_type": "markdown",
   "id": "another-application",
   "metadata": {},
   "source": [
    "Just like how we did with the OrgDb, we can look at what keytypes are available to us"
   ]
  },
  {
   "cell_type": "code",
   "execution_count": null,
   "id": "impaired-issue",
   "metadata": {},
   "outputs": [],
   "source": [
    "keytypes(txdb)"
   ]
  },
  {
   "cell_type": "markdown",
   "id": "forbidden-union",
   "metadata": {},
   "source": [
    "We can also use `select` in a similar way:"
   ]
  },
  {
   "cell_type": "code",
   "execution_count": null,
   "id": "terminal-means",
   "metadata": {},
   "outputs": [],
   "source": [
    "select(txdb, keys = c(\"2597\"), columns=c(\"TXNAME\", \"TXID\", \"CDSNAME\"), keytype=\"GENEID\")"
   ]
  },
  {
   "cell_type": "markdown",
   "id": "driving-aquatic",
   "metadata": {},
   "source": [
    "Or `mapIds`"
   ]
  },
  {
   "cell_type": "code",
   "execution_count": null,
   "id": "featured-block",
   "metadata": {},
   "outputs": [],
   "source": [
    "mapIds(txdb, keys = c(\"2597\"), column=\"TXNAME\", keytype=\"GENEID\", multiVals=\"list\")"
   ]
  },
  {
   "cell_type": "markdown",
   "id": "steady-guarantee",
   "metadata": {},
   "source": [
    "We can look at all the transcripts available in the txdb using the `transcripts()` function:"
   ]
  },
  {
   "cell_type": "code",
   "execution_count": null,
   "id": "anonymous-renewal",
   "metadata": {},
   "outputs": [],
   "source": [
    "transcripts(txdb)"
   ]
  },
  {
   "cell_type": "markdown",
   "id": "stuffed-bishop",
   "metadata": {},
   "source": [
    "We get back a GRanges object the location of each transcript, as well as its `tx_name` and `tx_id`. GRanges objects are just a way to show genomic locations (or Genomic Ranges) (https://www.bioconductor.org/packages/release/bioc/vignettes/GenomicRanges/inst/doc/GenomicRangesIntroduction.html).           \n",
    "\n",
    "              \n",
    "We can also look at `exons()`, `cds()`, `genes()` and `promoters()`.         \n",
    "You can also look at transcripts grouped by the genes that they are associated with:"
   ]
  },
  {
   "cell_type": "code",
   "execution_count": null,
   "id": "about-involvement",
   "metadata": {},
   "outputs": [],
   "source": [
    "txby <- transcriptsBy(txdb, by=\"gene\")"
   ]
  },
  {
   "cell_type": "code",
   "execution_count": null,
   "id": "gross-coast",
   "metadata": {},
   "outputs": [],
   "source": [
    "txby"
   ]
  },
  {
   "cell_type": "markdown",
   "id": "collective-florence",
   "metadata": {},
   "source": [
    "Similar functions include `exonsBy()`, `cdsBy()`, `intronsByTranscript()`, `fiveUTRsByTranscript()`, and `threeUTRsByTranscript()`. "
   ]
  },
  {
   "cell_type": "markdown",
   "id": "hazardous-acquisition",
   "metadata": {},
   "source": [
    "We can also use `seqlevelsStyle` function  (exported from `GenomeInfoDb`) to get the current seqlevels style of an object and to rename its seqlevels according to a given style. "
   ]
  },
  {
   "cell_type": "code",
   "execution_count": null,
   "id": "fleet-semiconductor",
   "metadata": {},
   "outputs": [],
   "source": [
    "seqlevelsStyle(txdb)\n",
    "seqinfo(txdb)"
   ]
  },
  {
   "cell_type": "markdown",
   "id": "threaded-rings",
   "metadata": {},
   "source": [
    "We can convert to 'NCBI' style:"
   ]
  },
  {
   "cell_type": "code",
   "execution_count": null,
   "id": "dedicated-tunnel",
   "metadata": {},
   "outputs": [],
   "source": [
    "seqlevelsStyle(txdb) <- \"NCBI\"\n",
    "seqinfo(txdb)"
   ]
  },
  {
   "cell_type": "markdown",
   "id": "urban-correlation",
   "metadata": {},
   "source": [
    "We can see what styles are supported using `genomeStyles`."
   ]
  },
  {
   "cell_type": "code",
   "execution_count": null,
   "id": "worse-spokesman",
   "metadata": {},
   "outputs": [],
   "source": [
    "head(genomeStyles(\"Homo_sapiens\"))"
   ]
  },
  {
   "cell_type": "markdown",
   "id": "handled-ecology",
   "metadata": {},
   "source": [
    "Let's convert back to `UCSC` format:"
   ]
  },
  {
   "cell_type": "code",
   "execution_count": null,
   "id": "dimensional-matthew",
   "metadata": {},
   "outputs": [],
   "source": [
    "seqlevelsStyle(txdb) <- \"UCSC\""
   ]
  },
  {
   "cell_type": "markdown",
   "id": "separate-terry",
   "metadata": {},
   "source": [
    "You could filter the object to only look at a particular chromosome if you wanted to:"
   ]
  },
  {
   "cell_type": "code",
   "execution_count": null,
   "id": "framed-magazine",
   "metadata": {},
   "outputs": [],
   "source": [
    "seqlevels(txdb) <- \"chr15\""
   ]
  },
  {
   "cell_type": "markdown",
   "id": "9db50aa9",
   "metadata": {},
   "source": [
    "# GenomicRanges"
   ]
  },
  {
   "cell_type": "markdown",
   "id": "8fb064fe",
   "metadata": {},
   "source": [
    "We introduced GRanges objects in the previous section about TxDb objects. GRanges objects are a series of genomic ranges with a start and end location on the genome. It can be used to store the location of genomic features such as contiguous binding sites, transcripts, and exons. These objects can be created by using the GRanges constructor function. For example:"
   ]
  },
  {
   "cell_type": "code",
   "execution_count": 27,
   "id": "74bf2f54",
   "metadata": {},
   "outputs": [
    {
     "data": {
      "text/plain": [
       "GRanges object with 10 ranges and 2 metadata columns:\n",
       "    seqnames    ranges strand |     score        GC\n",
       "       <Rle> <IRanges>  <Rle> | <integer> <numeric>\n",
       "  a     chr1   101-111      - |         1  1.000000\n",
       "  b     chr2   102-112      + |         2  0.888889\n",
       "  c     chr2   103-113      + |         3  0.777778\n",
       "  d     chr2   104-114      * |         4  0.666667\n",
       "  e     chr1   105-115      * |         5  0.555556\n",
       "  f     chr1   106-116      + |         6  0.444444\n",
       "  g     chr3   107-117      + |         7  0.333333\n",
       "  h     chr3   108-118      + |         8  0.222222\n",
       "  i     chr3   109-119      - |         9  0.111111\n",
       "  j     chr3   110-120      - |        10  0.000000\n",
       "  -------\n",
       "  seqinfo: 3 sequences from an unspecified genome; no seqlengths"
      ]
     },
     "metadata": {},
     "output_type": "display_data"
    }
   ],
   "source": [
    "gr1 <- GRanges(\n",
    "    seqnames = Rle(c(\"chr1\", \"chr2\", \"chr1\", \"chr3\"), c(1, 3, 2, 4)),\n",
    "    ranges = IRanges(101:110, end = 111:120, names = head(letters, 10)),\n",
    "    strand = Rle(strand(c(\"-\", \"+\", \"*\", \"+\", \"-\")), c(1, 2, 2, 3, 2)),\n",
    "    score = 1:10,\n",
    "    GC = seq(1, 0, length=10))\n",
    "gr1"
   ]
  },
  {
   "cell_type": "markdown",
   "id": "a1960eba",
   "metadata": {},
   "source": [
    "You can also build them from data frames, specifying the start and end site and indicating that you'd like to keep the extra metadata columns. For example:"
   ]
  },
  {
   "cell_type": "code",
   "execution_count": 28,
   "id": "90197c08",
   "metadata": {},
   "outputs": [
    {
     "data": {
      "text/plain": [
       "GRanges object with 5 ranges and 1 metadata column:\n",
       "      seqnames     ranges strand |    metadata\n",
       "         <Rle>  <IRanges>  <Rle> | <character>\n",
       "  [1]     chr1   100-1000      - |         .10\n",
       "  [2]     chr2 2150-15000      - |         .20\n",
       "  [3]     chr3 3200-25000      + |         .30\n",
       "  [4]     chr4 4250-30000      + |         .40\n",
       "  [5]     chr5 5300-40000      + |         .50\n",
       "  -------\n",
       "  seqinfo: 5 sequences from an unspecified genome; no seqlengths"
      ]
     },
     "metadata": {},
     "output_type": "display_data"
    }
   ],
   "source": [
    "seqnames <- c(\"chr1\", \"chr2\", \"chr3\", \"chr4\", \"chr5\")\n",
    "start <- c(100, 2150, 3200, 4250, 5300)\n",
    "end <- c(1000, 15000, 25000, 30000, 40000)\n",
    "strand <- c('-', '-', '+', '+', '+')\n",
    "metadata <- c('.10', '.20', '.30', '.40', '.50')\n",
    "df <- data.frame(seqnames, start, end, strand, metadata)\n",
    "gr2 <- makeGRangesFromDataFrame(df, \n",
    "                              seqnames.field = 'seqnames',\n",
    "                              start.field = 'start',\n",
    "                              end.field = 'end',\n",
    "                              strand.field = 'strand',\n",
    "                              keep.extra.columns = TRUE)\n",
    "gr2"
   ]
  },
  {
   "cell_type": "markdown",
   "id": "4f879d5d",
   "metadata": {},
   "source": [
    "There's several ways you can adjust or extend the ranges -- see https://bioconductor.org/packages/release/bioc/html/GenomicRanges.html. We'll discuss the `promoters` function here, but there's many, many more options.\n",
    "\n",
    "`promoters` returns an object of the same type and length as x containing promoter ranges. Promoter ranges extend around the transcription start site (TSS) which is defined as start(x). The upsteam and downstream arguments define the number of nucleotides in the 5' and 3' direction, respectively. The full range is defined as,\n",
    "\n",
    "(start(x) - upstream) to (start(x) + downstream - 1).\n",
    "\n",
    "Ranges on the * strand are treated the same as those on the + strand. When no seqlengths are present in x, it is possible to have non-positive start values in the promoter ranges. This occurs when (TSS - upstream) < 1. In the equal but opposite case, the end values of the ranges may extend beyond the chromosome end when (TSS + downstream + 1) > 'chromosome end'. When seqlengths are not NA the promoter ranges are kept within the bounds of the defined seqlengths."
   ]
  },
  {
   "cell_type": "code",
   "execution_count": 29,
   "id": "90f1ba46",
   "metadata": {},
   "outputs": [
    {
     "data": {
      "text/plain": [
       "GRanges object with 5 ranges and 1 metadata column:\n",
       "      seqnames      ranges strand |    metadata\n",
       "         <Rle>   <IRanges>  <Rle> | <character>\n",
       "  [1]     chr1    801-2000      - |         .10\n",
       "  [2]     chr2 14801-16000      - |         .20\n",
       "  [3]     chr3   2200-3399      + |         .30\n",
       "  [4]     chr4   3250-4449      + |         .40\n",
       "  [5]     chr5   4300-5499      + |         .50\n",
       "  -------\n",
       "  seqinfo: 5 sequences from an unspecified genome; no seqlengths"
      ]
     },
     "metadata": {},
     "output_type": "display_data"
    }
   ],
   "source": [
    "gr_promoters <- promoters(gr2, upstream=1000, downstream=200)\n",
    "gr_promoters"
   ]
  },
  {
   "cell_type": "markdown",
   "id": "81e0067f",
   "metadata": {},
   "source": [
    "We can combine this with the `rtracklayer` export function to make a GTF file"
   ]
  },
  {
   "cell_type": "code",
   "execution_count": 30,
   "id": "65321214",
   "metadata": {},
   "outputs": [],
   "source": [
    "rtracklayer::export(gr_promoters, 'gr_promoters.gtf')"
   ]
  },
  {
   "cell_type": "markdown",
   "id": "c48a5135",
   "metadata": {},
   "source": [
    "`rtracklayer` supports importing and exporting GRanges objects to or from many common bioinformatics formats -- see  https://bioconductor.org/packages/release/bioc/html/rtracklayer.html"
   ]
  },
  {
   "cell_type": "markdown",
   "id": "e8c3217f",
   "metadata": {},
   "source": [
    "There are also many functions in `GenomicRanges` to compare two GRanges objects -- we will talk about using `distancetoNearest`, but again there are many, many options that we aren't touching on.\n",
    "\n",
    "distanceToNearest: Returns the distance for each range in x to its nearest neighbor in the subject.\n"
   ]
  },
  {
   "cell_type": "code",
   "execution_count": null,
   "id": "4101b3a6",
   "metadata": {},
   "outputs": [],
   "source": [
    "dist_to_nearest <- distanceToNearest(x = gr2, subject = gr1)\n",
    "dist_to_nearest"
   ]
  },
  {
   "cell_type": "markdown",
   "id": "2410ba60",
   "metadata": {},
   "source": [
    "`distanceToNearest` returns the indices of the query (x) and subject. We can pull out the the query and subject indices like this:"
   ]
  },
  {
   "cell_type": "code",
   "execution_count": null,
   "id": "7d13bfb6",
   "metadata": {},
   "outputs": [],
   "source": [
    "query_i <- as.matrix(dist_to_nearest)[,1]\n",
    "subject_i <- as.matrix(dist_to_nearest)[,2]\n",
    "query_i\n",
    "subject_i"
   ]
  },
  {
   "cell_type": "markdown",
   "id": "390b9a8f",
   "metadata": {},
   "source": [
    "Then use those indices to find the ranges and their distances:"
   ]
  },
  {
   "cell_type": "code",
   "execution_count": null,
   "id": "03014d7a",
   "metadata": {},
   "outputs": [],
   "source": [
    "gr2_dist <- gr2[c(query_i),]\n",
    "gr1_dist <- gr1[c(subject_i),]\n",
    "gr2_dist\n",
    "gr1_dist"
   ]
  },
  {
   "cell_type": "markdown",
   "id": "7611716f",
   "metadata": {},
   "source": [
    "Then pull it all together, converting the GRanges objects to data frames, giving them unique column names, and then making a new data frame with all the information about the ranges being compared and their distances."
   ]
  },
  {
   "cell_type": "code",
   "execution_count": null,
   "id": "15985ff3",
   "metadata": {},
   "outputs": [],
   "source": [
    "gr1_dist <- data.frame(gr1_dist)\n",
    "gr2_dist <- data.frame(gr2_dist)\n",
    "\n",
    "colnames(gr1_dist) <- paste0(colnames(gr1_dist), '_subject')\n",
    "colnames(gr2_dist) <- paste0(colnames(gr2_dist), '_query')\n",
    "\n",
    "out_df <- cbind(data.frame(gr1_dist), \n",
    "                data.frame(gr2_dist), \n",
    "                data.frame(dist_to_nearest))\n",
    "out_df"
   ]
  },
  {
   "cell_type": "markdown",
   "id": "0500e809",
   "metadata": {},
   "source": []
  },
  {
   "cell_type": "markdown",
   "id": "micro-bridge",
   "metadata": {},
   "source": [
    "# BSGenome"
   ]
  },
  {
   "cell_type": "markdown",
   "id": "falling-glucose",
   "metadata": {},
   "source": [
    "BSGenome is one option if you want to use R to search for actual sequence data. BSGenomes are `Biostrings-based` genomes, meaning that they use the package `BioStrings` to organize the data and facilitate access (https://bioconductor.org/packages/release/bioc/html/Biostrings.html). "
   ]
  },
  {
   "cell_type": "markdown",
   "id": "representative-adobe",
   "metadata": {},
   "source": [
    "We can see which genomes are available:"
   ]
  },
  {
   "cell_type": "code",
   "execution_count": null,
   "id": "tired-dodge",
   "metadata": {},
   "outputs": [],
   "source": [
    "head(available.genomes())"
   ]
  },
  {
   "cell_type": "markdown",
   "id": "finished-graduation",
   "metadata": {},
   "source": [
    "You can load `BSgenome.Hsapiens.UCSC.hg19` or `Hsapiens` into the environment (we did this at the start of the notebook), and quickly confirm txdb and Hsapiens BSGenome are the same genome assembly (they are both hg19)."
   ]
  },
  {
   "cell_type": "code",
   "execution_count": null,
   "id": "prompt-thirty",
   "metadata": {},
   "outputs": [],
   "source": [
    "Hsapiens\n",
    "txdb"
   ]
  },
  {
   "cell_type": "markdown",
   "id": "funny-force",
   "metadata": {},
   "source": [
    "We can extract the exon ranges from `txdb` grouped by transcript:"
   ]
  },
  {
   "cell_type": "code",
   "execution_count": null,
   "id": "comparable-conducting",
   "metadata": {},
   "outputs": [],
   "source": [
    "transcripts <- exonsBy(txdb, by=\"tx\", use.names=TRUE)"
   ]
  },
  {
   "cell_type": "markdown",
   "id": "secure-startup",
   "metadata": {},
   "source": [
    "Then we can extract the transcript sequences from the genome (we'll just use the first transcript to make it faster)."
   ]
  },
  {
   "cell_type": "code",
   "execution_count": null,
   "id": "caroline-better",
   "metadata": {},
   "outputs": [],
   "source": [
    "tx_seqs <- extractTranscriptSeqs(Hsapiens, transcripts[1])"
   ]
  },
  {
   "cell_type": "markdown",
   "id": "ceramic-complaint",
   "metadata": {},
   "source": [
    "Then we can look and see that we have a `DNAStringSet` as the output -- the sequences."
   ]
  },
  {
   "cell_type": "code",
   "execution_count": null,
   "id": "earned-financing",
   "metadata": {},
   "outputs": [],
   "source": [
    "tx_seqs"
   ]
  },
  {
   "cell_type": "markdown",
   "id": "drawn-authentication",
   "metadata": {},
   "source": [
    "# Ontology Analysis"
   ]
  },
  {
   "cell_type": "markdown",
   "id": "generic-minimum",
   "metadata": {},
   "source": [
    "Once we are at the step where we have genes that are differentially expressed, we can see if there is any enrichment in any functional gene groups. Two commonly used methods to look for enrichment are overrepresentation analysis (ORA) or gene set enrichment analysis (GSEA).          \n",
    "- **Over Representation Analysis (ORA)** looks for functions or processes that are over-represented (= enriched) in an experimentally-derived gene list. The background used by default is all of the genes that have an annotation. This will find genes where the difference is large, but will not detect a situation where the difference is small but coordinated across a set of genes.      \n",
    "\n",
    "- **Gene Set Enrichment (GSEA)** aggregates per-gene statistics across genes in a set. It takes a ranked list of genes and determines whether members of a gene set are randomly distributed throughout that list or if they are found primarily at the top or bottom of the list. GSEA will calculate an enrichment score based on whether a gene set is over-represented at the top or bottom fo the list, estimate the significance of the enrichment, and adjust for multiple hypothesis testing.       \n",
    "\n",
    "There are many packages for running these types of analyses ([gage](https://www.bioconductor.org/packages/release/bioc/html/gage.html), [EnrichmentBrowser](https://www.bioconductor.org/packages/release/bioc/html/EnrichmentBrowser.html)) and many of them will use similar approaches to test for enrichment. We will use [clusterProfiler](https://www.bioconductor.org/packages/release/bioc/html/clusterProfiler.html).          \n",
    "\n",
    "We will use [gene ontologies](http://geneontology.org/docs/ontology-documentation/) to organize the genes into groups based on their role in an organism. Gene Ontology loosely organize genes into three hierarchical graphs that correspond to three large umbrella categories -- **Molecular Function, Cellular Component, and Biological Process**. You can read the formal descriptions of these categories in the documentation linked above. A quote from the documentation illustrates an example of how these categories are related:        \n",
    "\n",
    "```\n",
    "In an example of GO annotation, the gene product “cytochrome c” can be described by the molecular function oxidoreductase activity, the biological process oxidative phosphorylation, and the cellular component mitochondrial matrix.\n",
    "```\n",
    "\n",
    "We can use our previously made `orgdb` object to run the enrichment analysis on `res`, which is the `results` object from DESeq2 differential expression analysis run on the `airway` data. We are comparing the dexamethasone treatment conditions, comparing treated to untreated.       \n",
    "\n",
    "We will use the functions `gseGO` and `enrichGO` from clusterProfiler.      \n",
    "\n",
    "- `gseGO` is a GSEA method, it takes a order ranked geneList as input and uses a Kolmogorov Smirnov test to run Gene Set Enrichment Analysis (GSEA) [Subramanian et al. 2005](https://www.ncbi.nlm.nih.gov/pmc/articles/pmid/16199517/). GSEA is useful in scenarios where the fold changes are subtle but modules of genes are regulated in a coordinated way.    \n",
    "- `enrichGO` is an ORA method and takes a list of genes (does not neet to be ranked) and uses Fisher's exact test with a hypergeometric distribution to run Enrichment Analysis [Boyle et al. 2004](https://academic.oup.com/bioinformatics/article/20/18/3710/202612).     \n"
   ]
  },
  {
   "cell_type": "code",
   "execution_count": null,
   "id": "pharmaceutical-firewall",
   "metadata": {},
   "outputs": [],
   "source": [
    "#Might need to re-load some packages at this point:\n",
    "library(\"AnnotationHub\")\n",
    "library(\"clusterProfiler\")\n",
    "ah <- AnnotationHub()\n",
    "orgdb <- AnnotationHub::query(ah, pattern = c(\"Homo sapiens\", \"OrgDb\"))[[1]]"
   ]
  },
  {
   "cell_type": "markdown",
   "id": "simplified-secondary",
   "metadata": {},
   "source": [
    "The DOSE package comes with a pre-made `geneList` for us to work with. Let's pull that data down and make a set of genes with a fold change larger than 2."
   ]
  },
  {
   "cell_type": "code",
   "execution_count": null,
   "id": "flexible-valley",
   "metadata": {},
   "outputs": [],
   "source": [
    "data(geneList, package=\"DOSE\")\n",
    "gene <- names(geneList)[abs(geneList) > 2]"
   ]
  },
  {
   "cell_type": "markdown",
   "id": "vocational-console",
   "metadata": {},
   "source": [
    "Then we can run `enrichGO` which is an ORA method and takes the following arguments:\n",
    "\n",
    "`gene`\ta vector of entrez gene id.\\\n",
    "`OrgDb`\tOrgDb\\\n",
    "`keyType`\tkeytype of input gene\\\n",
    "`ont`\tOne of \"BP\", \"MF\", and \"CC\" subontologies, or \"ALL\" for all three. (Biological Process, Molecular Function, Cellular Compartment\\\n",
    "`pvalueCutoff`\tadjusted pvalue cutoff on enrichment tests to report\\\n",
    "`pAdjustMethod`\tone of \"holm\", \"hochberg\", \"hommel\", \"bonferroni\", \"BH\", \"BY\", \"fdr\", \"none\"\\\n",
    "`universe`\tbackground genes. If missing, the all genes listed in the database (eg TERM2GENE table) will be used as background.\\\n",
    "`qvalueCutoff`\tqvalue cutoff on enrichment tests to report as significant. Tests must pass i) pvalueCutoff on unadjusted pvalues, ii) pvalueCutoff on adjusted pvalues and iii) qvalueCutoff on qvalues to be reported.\\\n",
    "`minGSSize`\tminimal size of genes annotated by Ontology term for testing.\\\n",
    "`maxGSSize`\tmaximal size of genes annotated for testing\\\n",
    "`readable`\twhether mapping gene ID to gene Name\\\n",
    "`pool`\tIf ont='ALL', whether pool 3 GO sub-ontologies\\    "
   ]
  },
  {
   "cell_type": "code",
   "execution_count": null,
   "id": "civilian-institution",
   "metadata": {},
   "outputs": [],
   "source": [
    "ego <- enrichGO(gene          = gene,\n",
    "                universe      = names(geneList),\n",
    "                OrgDb         = orgdb,\n",
    "                ont           = \"CC\",\n",
    "                pAdjustMethod = \"BH\",\n",
    "                pvalueCutoff  = 0.01,\n",
    "                qvalueCutoff  = 0.05,\n",
    "                readable      = TRUE)"
   ]
  },
  {
   "cell_type": "markdown",
   "id": "french-firewall",
   "metadata": {},
   "source": [
    "Then we can visualize the output with a dotplot:"
   ]
  },
  {
   "cell_type": "code",
   "execution_count": null,
   "id": "lonely-fever",
   "metadata": {},
   "outputs": [],
   "source": [
    "dotplot(ego, showCategory = 5)"
   ]
  },
  {
   "cell_type": "markdown",
   "id": "bacterial-friend",
   "metadata": {},
   "source": [
    "The size of the dot indicates how many members of the group are represented in the enrichment and the adjusted p-value is the Benjamini-Hochberg corrected p-value. `GeneRatio` is `k/n`, where for a given category (e.g. 'receptor regulator activity') `k` is the overlap of 'receptor regulator activity' genes in `gene_list` compared to all 'receptor regulator activity' genes in the org.db, where `n` is the overlap of all genes in `gene_list` compares to all genes in the org.db."
   ]
  },
  {
   "cell_type": "markdown",
   "id": "documentary-newcastle",
   "metadata": {},
   "source": [
    "Then we can run `gseGO` which is a GSEA method. It takes the following arguments:\\\n",
    "`geneList`\torder ranked geneList\\\n",
    "`ont`\tone of \"BP\", \"MF\", and \"CC\" subontologies, or \"ALL\" for all three.\\\n",
    "`OrgDb`\tOrgDb\\\n",
    "`keyType`\tkeytype of gene\\\n",
    "`exponent`\tweight of each step\\\n",
    "`minGSSize`\tminimal size of each geneSet for analyzing\\\n",
    "`maxGSSize`\tmaximal size of genes annotated for testing\\\n",
    "`eps`\tThis parameter sets the boundary for calculating the p value.\\\n",
    "`pvalueCutoff`\tpvalue Cutoff\\\n",
    "`pAdjustMethod`\tpvalue adjustment method\\\n",
    "`verbose`\tprint message or not\\\n",
    "`seed`\tlogical\\\n",
    "`by`\tone of 'fgsea' or 'DOSE'       "
   ]
  },
  {
   "cell_type": "code",
   "execution_count": null,
   "id": "earned-siemens",
   "metadata": {},
   "outputs": [],
   "source": [
    "ggo <- gseGO(geneList     = geneList,\n",
    "              OrgDb        = orgdb,\n",
    "              ont          = \"CC\",\n",
    "              minGSSize    = 100,\n",
    "              maxGSSize    = 500,\n",
    "              pvalueCutoff = 0.05,\n",
    "              verbose      = FALSE)"
   ]
  },
  {
   "cell_type": "markdown",
   "id": "voluntary-belgium",
   "metadata": {},
   "source": [
    "Then we can visualize the output with a dotplot:"
   ]
  },
  {
   "cell_type": "code",
   "execution_count": null,
   "id": "experimental-brave",
   "metadata": {},
   "outputs": [],
   "source": [
    "dotplot(ggo, showCategory = 5)"
   ]
  },
  {
   "cell_type": "markdown",
   "id": "municipal-banner",
   "metadata": {},
   "source": [
    "We can also use `enrichKEGG` and `gseKEGG` to get similar tests using KEGG data instead of GO data."
   ]
  },
  {
   "cell_type": "code",
   "execution_count": null,
   "id": "certain-richmond",
   "metadata": {},
   "outputs": [],
   "source": [
    "kk <- enrichKEGG(gene         = gene,\n",
    "                 organism     = 'hsa',\n",
    "                 pvalueCutoff = 0.05)\n",
    "dotplot(kk, showCategory = 5)"
   ]
  },
  {
   "cell_type": "code",
   "execution_count": null,
   "id": "functioning-figure",
   "metadata": {},
   "outputs": [],
   "source": [
    "kk2 <- gseKEGG(geneList     = geneList,\n",
    "               organism     = 'hsa',\n",
    "               minGSSize    = 120,\n",
    "               pvalueCutoff = 0.05,\n",
    "               verbose      = FALSE)\n",
    "dotplot(kk2, showCategory = 5)"
   ]
  }
 ],
 "metadata": {
  "kernelspec": {
   "display_name": "R",
   "language": "R",
   "name": "ir"
  },
  "language_info": {
   "codemirror_mode": "r",
   "file_extension": ".r",
   "mimetype": "text/x-r-source",
   "name": "R",
   "pygments_lexer": "r",
   "version": "4.2.3"
  }
 },
 "nbformat": 4,
 "nbformat_minor": 5
}
