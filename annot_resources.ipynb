{
 "cells": [
  {
   "cell_type": "markdown",
   "metadata": {},
   "source": [
    "# What is BioConductor?\n",
    "Bioconductor is an ecosystem of R packages for analysing genomics data. According to bioconductor.org:\n",
    "\n",
    "```\n",
    "\"Bioconductor provides tools for the analysis and comprehension of high-throughput genomic data. Bioconductor uses the R statistical programming language, and is open source and open development. It has two releases each year, and an active user community.\"\n",
    "```\n",
    "\n",
    "Bioconductor is an excellent source for annotation resources. I'll walk through using two of the most popular packages here -- `AnnotationHub` and `biomaRt`. `AnnotationHub` is a convenient interface to annotations from different resources and in many different formats. This includes annotations that are gene-centric (like OrgDbs) or genome-centric (like TxDbs), while `biomaRt` is mostly geared toward annotations from Ensembl. We will dig into these packages in more detail and these distinctions might make a little more sense as we move along.\n",
    "\n",
    "For the purposes of this tutorial, we will be using the `airway` data. Four human airway smooth muscle cell lines were left untreated or treatreated with dexamethasone for 18 hours (Himes et al. 2014). I have already started procesing this data using DESeq2, we will load these objects and use them to look at a few different ways to query public annotation data and run some downstream analyses.\n",
    "\n",
    "Much of this workshop is pulled from these resources:\n",
    "\n",
    "https://www.bioconductor.org/packages/release/workflows/vignettes/annotation/inst/doc/Annotation_Resources.html                   \n",
    "http://yulab-smu.top/clusterProfiler-book/           \n",
    "https://bioconductor.org/packages/release/bioc/vignettes/AnnotationDbi/inst/doc/IntroToAnnotationPackages.pdf          "
   ]
  },
  {
   "cell_type": "markdown",
   "metadata": {},
   "source": [
    "Let's load some packages:"
   ]
  },
  {
   "cell_type": "code",
   "execution_count": 127,
   "metadata": {},
   "outputs": [
    {
     "name": "stderr",
     "output_type": "stream",
     "text": [
      "'getOption(\"repos\")' replaces Bioconductor standard repositories, see\n",
      "'?repositories' for details\n",
      "\n",
      "replacement repositories:\n",
      "    CRAN: https://cran.r-project.org\n",
      "\n",
      "\n",
      "Bioconductor version 3.11 (BiocManager 1.30.12), R 4.0.3 (2020-10-10)\n",
      "\n",
      "Installing package(s) 'BiocVersion'\n",
      "\n",
      "Updating HTML index of packages in '.Library'\n",
      "\n",
      "Making 'packages.html' ...\n",
      " done\n",
      "\n",
      "Old packages: 'BH', 'bitops', 'boot', 'brio', 'callr', 'caTools', 'class',\n",
      "  'cluster', 'crosstalk', 'crul', 'curl', 'data.table', 'DBI', 'deldir',\n",
      "  'desc', 'diffobj', 'dplyr', 'dqrng', 'DT', 'ellipsis', 'fansi', 'farver',\n",
      "  'fastmap', 'formatR', 'GGally', 'ggforce', 'ggplotify', 'ggraph', 'ggrepel',\n",
      "  'glmnet', 'haven', 'highr', 'Hmisc', 'htmltools', 'httpuv', 'ipred',\n",
      "  'IRdisplay', 'isoband', 'KernSmooth', 'knitr', 'later', 'lattice', 'lava',\n",
      "  'leiden', 'lubridate', 'MASS', 'matrixStats', 'memoise', 'mgcv', 'mime',\n",
      "  'mongolite', 'nlme', 'nnet', 'odbc', 'openssl', 'packrat', 'parallelly',\n",
      "  'pbdZMQ', 'pkgload', 'PKI', 'plotly', 'pROC', 'processx', 'promises', 'ps',\n",
      "  'rappdirs', 'Rcpp', 'RcppArmadillo', 'RCurl', 'recipes', 'remotes', 'repr',\n",
      "  'reticulate', 'rJava', 'rlang', 'rmarkdown', 'rsconnect', 'RSQLite', 'rsvd',\n",
      "  'scatterpie', 'Seurat', 'shiny', 'sparklyr', 'spatial', 'spatstat',\n",
      "  'spatstat.data', 'spatstat.utils', 'SQUAREM', 'survival', 'testthat',\n",
      "  'tibble', 'tidyr', 'tidyselect', 'tidyverse', 'tinytex', 'tweenr', 'utf8',\n",
      "  'vctrs', 'viridis', 'viridisLite', 'waldo', 'WGCNA', 'withr', 'xfun', 'XML',\n",
      "  'zoo'\n",
      "\n"
     ]
    }
   ],
   "source": [
    "BiocManager::install(\"BiocVersion\")"
   ]
  },
  {
   "cell_type": "code",
   "execution_count": 83,
   "metadata": {},
   "outputs": [],
   "source": [
    "#BiocManager::install('DESeq2')\n",
    "BiocManager::install('GenomicFeatures')\n",
    "library(\"tidyverse\")\n",
    "library(\"ggplot2\")\n",
    "library(\"BiocManager\")\n",
    "library(\"gridExtra\")\n",
    "library(\"ggrepel\")\n",
    "library(\"airway\")\n",
    "library(\"AnnotationHub\")\n",
    "library(\"clusterProfiler\")\n",
    "library(\"enrichplot\")\n",
    "library(\"biomaRt\")\n",
    "library(\"DESeq2\")\n",
    "library(\"dplyr\")\n",
    "library(\"tidyr\")\n",
    "library(\"GenomicFeatures\")"
   ]
  },
  {
   "cell_type": "code",
   "execution_count": 128,
   "metadata": {},
   "outputs": [
    {
     "name": "stderr",
     "output_type": "stream",
     "text": [
      "'getOption(\"repos\")' replaces Bioconductor standard repositories, see\n",
      "'?repositories' for details\n",
      "\n",
      "replacement repositories:\n",
      "    CRAN: https://cran.r-project.org\n",
      "\n",
      "\n",
      "Bioconductor version 3.11 (BiocManager 1.30.12), R 4.0.3 (2020-10-10)\n",
      "\n",
      "Installing package(s) 'GenomicFeatures', 'Rhtslib', 'Rsamtools',\n",
      "  'GenomicAlignments', 'Biostrings', 'rtracklayer'\n",
      "\n",
      "Warning message in install.packages(...):\n",
      "“installation of package ‘Rhtslib’ had non-zero exit status”\n",
      "Warning message in install.packages(...):\n",
      "“installation of package ‘Biostrings’ had non-zero exit status”\n",
      "Warning message in install.packages(...):\n",
      "“installation of package ‘Rsamtools’ had non-zero exit status”\n",
      "Warning message in install.packages(...):\n",
      "“installation of package ‘GenomicAlignments’ had non-zero exit status”\n",
      "Warning message in install.packages(...):\n",
      "“installation of package ‘rtracklayer’ had non-zero exit status”\n",
      "Warning message in install.packages(...):\n",
      "“installation of package ‘GenomicFeatures’ had non-zero exit status”\n",
      "Updating HTML index of packages in '.Library'\n",
      "\n",
      "Making 'packages.html' ...\n",
      " done\n",
      "\n",
      "Old packages: 'BH', 'bitops', 'boot', 'brio', 'callr', 'caTools', 'class',\n",
      "  'cluster', 'crosstalk', 'crul', 'curl', 'data.table', 'DBI', 'deldir',\n",
      "  'desc', 'diffobj', 'dplyr', 'dqrng', 'DT', 'ellipsis', 'fansi', 'farver',\n",
      "  'fastmap', 'formatR', 'GGally', 'ggforce', 'ggplotify', 'ggraph', 'ggrepel',\n",
      "  'glmnet', 'haven', 'highr', 'Hmisc', 'htmltools', 'httpuv', 'ipred',\n",
      "  'IRdisplay', 'isoband', 'KernSmooth', 'knitr', 'later', 'lattice', 'lava',\n",
      "  'leiden', 'lubridate', 'MASS', 'matrixStats', 'memoise', 'mgcv', 'mime',\n",
      "  'mongolite', 'nlme', 'nnet', 'odbc', 'openssl', 'packrat', 'parallelly',\n",
      "  'pbdZMQ', 'pkgload', 'PKI', 'plotly', 'pROC', 'processx', 'promises', 'ps',\n",
      "  'rappdirs', 'Rcpp', 'RcppArmadillo', 'RCurl', 'recipes', 'remotes', 'repr',\n",
      "  'reticulate', 'rJava', 'rlang', 'rmarkdown', 'rsconnect', 'RSQLite', 'rsvd',\n",
      "  'scatterpie', 'Seurat', 'shiny', 'sparklyr', 'spatial', 'spatstat',\n",
      "  'spatstat.data', 'spatstat.utils', 'SQUAREM', 'survival', 'testthat',\n",
      "  'tibble', 'tidyr', 'tidyselect', 'tidyverse', 'tinytex', 'tweenr', 'utf8',\n",
      "  'vctrs', 'viridis', 'viridisLite', 'waldo', 'WGCNA', 'withr', 'xfun', 'XML',\n",
      "  'zoo'\n",
      "\n"
     ]
    }
   ],
   "source": [
    "BiocManager::install(c('GenomicFeatures','Rhtslib', 'Rsamtools', 'GenomicAlignments', 'Biostrings', 'rtracklayer'))\n"
   ]
  },
  {
   "cell_type": "markdown",
   "metadata": {},
   "source": [
    "Lets import some data to work with -- `res` is the `results` object and `rld` is the rlog transformed counts from DESeq2 differential expression analysis run on the `airway` data. We are comparing the dexamethasone treatment conditions, comparing treated to untreated.\n"
   ]
  },
  {
   "cell_type": "code",
   "execution_count": 84,
   "metadata": {},
   "outputs": [],
   "source": [
    "res <- readRDS(\"res.rds\")"
   ]
  },
  {
   "cell_type": "code",
   "execution_count": 85,
   "metadata": {},
   "outputs": [
    {
     "data": {
      "text/plain": [
       "log2 fold change (MAP): dex trt vs untrt \n",
       "Wald test p-value: dex trt vs untrt \n",
       "DataFrame with 29391 rows and 5 columns\n",
       "                  baseMean log2FoldChange     lfcSE      pvalue       padj\n",
       "                 <numeric>      <numeric> <numeric>   <numeric>  <numeric>\n",
       "ENSG00000000003 708.602170     -0.3584541  0.100036 0.000152017 0.00128122\n",
       "ENSG00000000419 520.297901      0.1860726  0.108183 0.065337210 0.19620790\n",
       "ENSG00000000457 237.163037      0.0313468  0.130347 0.791504963 0.91119406\n",
       "ENSG00000000460  57.932633     -0.0472622  0.212589 0.758803336 0.89463420\n",
       "ENSG00000000938   0.318098     -0.0123431  0.309182 0.693732273         NA\n",
       "...                    ...            ...       ...         ...        ...\n",
       "ENSG00000273485   1.286448    -0.00445615  0.303747    0.936702         NA\n",
       "ENSG00000273486  15.452537    -0.04309283  0.264183    0.756289   0.893661\n",
       "ENSG00000273487   8.163235     0.19116398  0.355670    0.134373   0.329057\n",
       "ENSG00000273488   8.584479     0.02194011  0.279542    0.865806   0.945183\n",
       "ENSG00000273489   0.275899     0.01219803  0.309151    0.672850         NA"
      ]
     },
     "metadata": {},
     "output_type": "display_data"
    }
   ],
   "source": [
    "res"
   ]
  },
  {
   "cell_type": "code",
   "execution_count": 86,
   "metadata": {},
   "outputs": [],
   "source": [
    "rld <- readRDS(\"rld.rds\")"
   ]
  },
  {
   "cell_type": "code",
   "execution_count": 87,
   "metadata": {},
   "outputs": [
    {
     "data": {
      "text/plain": [
       "class: DESeqTransform \n",
       "dim: 29391 8 \n",
       "metadata(2): '' version\n",
       "assays(1): ''\n",
       "rownames(29391): ENSG00000000003 ENSG00000000419 ... ENSG00000273488\n",
       "  ENSG00000273489\n",
       "rowData names(35): baseMean baseVar ... maxCooks rlogIntercept\n",
       "colnames(8): SRR1039508 SRR1039509 ... SRR1039520 SRR1039521\n",
       "colData names(10): SampleName cell ... BioSample sizeFactor"
      ]
     },
     "metadata": {},
     "output_type": "display_data"
    }
   ],
   "source": [
    "rld"
   ]
  },
  {
   "cell_type": "markdown",
   "metadata": {},
   "source": [
    "Let's work with the `res` results table. We can see that each row is a gene (`ENSG...`) and each column gives us some information about the differential expression analysis. These gene IDs are not particularly informative, but we can use biomaRt to fix that."
   ]
  },
  {
   "cell_type": "markdown",
   "metadata": {},
   "source": [
    "# Using biomaRt\n",
    "\n",
    "The [biomaRt](https://bioconductor.org/packages/release/bioc/html/biomaRt.html) package makes it easy to query public repositories of biological data. We can use biomaRt to query Ensembl for annotations so that we can look for 'housekeeping genes' which are typically considered to be stably expressed and shouldn't show large variations across different samples. We have selected a list of genes based on two publications that queried public cancer genome data to find housekeeping genes for use with RNA-seq from cancer cell lines (https://doi.org/10.1186/s12859-019-2809-2, https://doi.org/10.3389/fgene.2019.00097). "
   ]
  },
  {
   "cell_type": "markdown",
   "metadata": {},
   "source": [
    "First, let's load biomaRt and make a vector of the gene symbols from the published data:"
   ]
  },
  {
   "cell_type": "code",
   "execution_count": 88,
   "metadata": {},
   "outputs": [],
   "source": [
    "housekeeping <- c('PCBP1','RER1', 'RPN1', 'PUM1', 'IPO8')"
   ]
  },
  {
   "cell_type": "markdown",
   "metadata": {},
   "source": [
    "Then we can see what BioMarts are available:"
   ]
  },
  {
   "cell_type": "code",
   "execution_count": 89,
   "metadata": {},
   "outputs": [
    {
     "data": {
      "text/html": [
       "<table>\n",
       "<caption>A data.frame: 4 × 2</caption>\n",
       "<thead>\n",
       "\t<tr><th scope=col>biomart</th><th scope=col>version</th></tr>\n",
       "\t<tr><th scope=col>&lt;chr&gt;</th><th scope=col>&lt;chr&gt;</th></tr>\n",
       "</thead>\n",
       "<tbody>\n",
       "\t<tr><td>ENSEMBL_MART_ENSEMBL</td><td>Ensembl Genes 103     </td></tr>\n",
       "\t<tr><td>ENSEMBL_MART_MOUSE  </td><td>Mouse strains 103     </td></tr>\n",
       "\t<tr><td>ENSEMBL_MART_SNP    </td><td>Ensembl Variation 103 </td></tr>\n",
       "\t<tr><td>ENSEMBL_MART_FUNCGEN</td><td>Ensembl Regulation 103</td></tr>\n",
       "</tbody>\n",
       "</table>\n"
      ],
      "text/latex": [
       "A data.frame: 4 × 2\n",
       "\\begin{tabular}{ll}\n",
       " biomart & version\\\\\n",
       " <chr> & <chr>\\\\\n",
       "\\hline\n",
       "\t ENSEMBL\\_MART\\_ENSEMBL & Ensembl Genes 103     \\\\\n",
       "\t ENSEMBL\\_MART\\_MOUSE   & Mouse strains 103     \\\\\n",
       "\t ENSEMBL\\_MART\\_SNP     & Ensembl Variation 103 \\\\\n",
       "\t ENSEMBL\\_MART\\_FUNCGEN & Ensembl Regulation 103\\\\\n",
       "\\end{tabular}\n"
      ],
      "text/markdown": [
       "\n",
       "A data.frame: 4 × 2\n",
       "\n",
       "| biomart &lt;chr&gt; | version &lt;chr&gt; |\n",
       "|---|---|\n",
       "| ENSEMBL_MART_ENSEMBL | Ensembl Genes 103      |\n",
       "| ENSEMBL_MART_MOUSE   | Mouse strains 103      |\n",
       "| ENSEMBL_MART_SNP     | Ensembl Variation 103  |\n",
       "| ENSEMBL_MART_FUNCGEN | Ensembl Regulation 103 |\n",
       "\n"
      ],
      "text/plain": [
       "  biomart              version               \n",
       "1 ENSEMBL_MART_ENSEMBL Ensembl Genes 103     \n",
       "2 ENSEMBL_MART_MOUSE   Mouse strains 103     \n",
       "3 ENSEMBL_MART_SNP     Ensembl Variation 103 \n",
       "4 ENSEMBL_MART_FUNCGEN Ensembl Regulation 103"
      ]
     },
     "metadata": {},
     "output_type": "display_data"
    }
   ],
   "source": [
    "listMarts()"
   ]
  },
  {
   "cell_type": "markdown",
   "metadata": {},
   "source": [
    "Let's use `ENSEMBL_MART_ENSEMBL` (you might get an error that says `Ensembl site unresponsive, trying uswest mirror`, run `?useEnsembl` to get more information about available options)."
   ]
  },
  {
   "cell_type": "code",
   "execution_count": 90,
   "metadata": {},
   "outputs": [
    {
     "name": "stderr",
     "output_type": "stream",
     "text": [
      "Ensembl site unresponsive, trying asia mirror\n",
      "\n",
      "Ensembl site unresponsive, trying www mirror\n",
      "\n"
     ]
    }
   ],
   "source": [
    "ensembl <- useEnsembl(biomart = 'ENSEMBL_MART_ENSEMBL', mirror = 'uswest')"
   ]
  },
  {
   "cell_type": "markdown",
   "metadata": {},
   "source": [
    "You can see a list of all available datasets within the mart:"
   ]
  },
  {
   "cell_type": "code",
   "execution_count": 91,
   "metadata": {},
   "outputs": [
    {
     "data": {
      "text/html": [
       "202"
      ],
      "text/latex": [
       "202"
      ],
      "text/markdown": [
       "202"
      ],
      "text/plain": [
       "[1] 202"
      ]
     },
     "metadata": {},
     "output_type": "display_data"
    },
    {
     "data": {
      "text/html": [
       "<table>\n",
       "<caption>A data.frame: 6 × 3</caption>\n",
       "<thead>\n",
       "\t<tr><th></th><th scope=col>dataset</th><th scope=col>description</th><th scope=col>version</th></tr>\n",
       "\t<tr><th></th><th scope=col>&lt;I&lt;chr&gt;&gt;</th><th scope=col>&lt;I&lt;chr&gt;&gt;</th><th scope=col>&lt;I&lt;chr&gt;&gt;</th></tr>\n",
       "</thead>\n",
       "<tbody>\n",
       "\t<tr><th scope=row>1</th><td>abrachyrhynchus_gene_ensembl</td><td>Pink-footed goose genes (ASM259213v1)</td><td>ASM259213v1</td></tr>\n",
       "\t<tr><th scope=row>2</th><td>acalliptera_gene_ensembl    </td><td>Eastern happy genes (fAstCal1.2)     </td><td>fAstCal1.2 </td></tr>\n",
       "\t<tr><th scope=row>3</th><td>acarolinensis_gene_ensembl  </td><td>Anole lizard genes (AnoCar2.0)       </td><td>AnoCar2.0  </td></tr>\n",
       "\t<tr><th scope=row>4</th><td>acchrysaetos_gene_ensembl   </td><td>Golden eagle genes (bAquChr1.2)      </td><td>bAquChr1.2 </td></tr>\n",
       "\t<tr><th scope=row>5</th><td>acitrinellus_gene_ensembl   </td><td>Midas cichlid genes (Midas_v5)       </td><td>Midas_v5   </td></tr>\n",
       "\t<tr><th scope=row>6</th><td>amelanoleuca_gene_ensembl   </td><td>Giant panda genes (ASM200744v2)      </td><td>ASM200744v2</td></tr>\n",
       "</tbody>\n",
       "</table>\n"
      ],
      "text/latex": [
       "A data.frame: 6 × 3\n",
       "\\begin{tabular}{r|lll}\n",
       "  & dataset & description & version\\\\\n",
       "  & <I<chr>> & <I<chr>> & <I<chr>>\\\\\n",
       "\\hline\n",
       "\t1 & abrachyrhynchus\\_gene\\_ensembl & Pink-footed goose genes (ASM259213v1) & ASM259213v1\\\\\n",
       "\t2 & acalliptera\\_gene\\_ensembl     & Eastern happy genes (fAstCal1.2)      & fAstCal1.2 \\\\\n",
       "\t3 & acarolinensis\\_gene\\_ensembl   & Anole lizard genes (AnoCar2.0)        & AnoCar2.0  \\\\\n",
       "\t4 & acchrysaetos\\_gene\\_ensembl    & Golden eagle genes (bAquChr1.2)       & bAquChr1.2 \\\\\n",
       "\t5 & acitrinellus\\_gene\\_ensembl    & Midas cichlid genes (Midas\\_v5)        & Midas\\_v5   \\\\\n",
       "\t6 & amelanoleuca\\_gene\\_ensembl    & Giant panda genes (ASM200744v2)       & ASM200744v2\\\\\n",
       "\\end{tabular}\n"
      ],
      "text/markdown": [
       "\n",
       "A data.frame: 6 × 3\n",
       "\n",
       "| <!--/--> | dataset &lt;I&lt;chr&gt;&gt; | description &lt;I&lt;chr&gt;&gt; | version &lt;I&lt;chr&gt;&gt; |\n",
       "|---|---|---|---|\n",
       "| 1 | abrachyrhynchus_gene_ensembl | Pink-footed goose genes (ASM259213v1) | ASM259213v1 |\n",
       "| 2 | acalliptera_gene_ensembl     | Eastern happy genes (fAstCal1.2)      | fAstCal1.2  |\n",
       "| 3 | acarolinensis_gene_ensembl   | Anole lizard genes (AnoCar2.0)        | AnoCar2.0   |\n",
       "| 4 | acchrysaetos_gene_ensembl    | Golden eagle genes (bAquChr1.2)       | bAquChr1.2  |\n",
       "| 5 | acitrinellus_gene_ensembl    | Midas cichlid genes (Midas_v5)        | Midas_v5    |\n",
       "| 6 | amelanoleuca_gene_ensembl    | Giant panda genes (ASM200744v2)       | ASM200744v2 |\n",
       "\n"
      ],
      "text/plain": [
       "  dataset                      description                          \n",
       "1 abrachyrhynchus_gene_ensembl Pink-footed goose genes (ASM259213v1)\n",
       "2 acalliptera_gene_ensembl     Eastern happy genes (fAstCal1.2)     \n",
       "3 acarolinensis_gene_ensembl   Anole lizard genes (AnoCar2.0)       \n",
       "4 acchrysaetos_gene_ensembl    Golden eagle genes (bAquChr1.2)      \n",
       "5 acitrinellus_gene_ensembl    Midas cichlid genes (Midas_v5)       \n",
       "6 amelanoleuca_gene_ensembl    Giant panda genes (ASM200744v2)      \n",
       "  version    \n",
       "1 ASM259213v1\n",
       "2 fAstCal1.2 \n",
       "3 AnoCar2.0  \n",
       "4 bAquChr1.2 \n",
       "5 Midas_v5   \n",
       "6 ASM200744v2"
      ]
     },
     "metadata": {},
     "output_type": "display_data"
    }
   ],
   "source": [
    "datasets <- listDatasets(ensembl)\n",
    "nrow(datasets)\n",
    "head(datasets)"
   ]
  },
  {
   "cell_type": "markdown",
   "metadata": {},
   "source": [
    "As you can see, there are many options available (202 of them). Let's try to narrow it down a little and only look for human datasets:"
   ]
  },
  {
   "cell_type": "markdown",
   "metadata": {},
   "source": [
    "Then we can see which datasets are available for `hsapiens`"
   ]
  },
  {
   "cell_type": "code",
   "execution_count": 92,
   "metadata": {},
   "outputs": [
    {
     "data": {
      "text/html": [
       "<table>\n",
       "<caption>A data.frame: 1 × 3</caption>\n",
       "<thead>\n",
       "\t<tr><th></th><th scope=col>dataset</th><th scope=col>description</th><th scope=col>version</th></tr>\n",
       "\t<tr><th></th><th scope=col>&lt;I&lt;chr&gt;&gt;</th><th scope=col>&lt;I&lt;chr&gt;&gt;</th><th scope=col>&lt;I&lt;chr&gt;&gt;</th></tr>\n",
       "</thead>\n",
       "<tbody>\n",
       "\t<tr><th scope=row>80</th><td>hsapiens_gene_ensembl</td><td>Human genes (GRCh38.p13)</td><td>GRCh38.p13</td></tr>\n",
       "</tbody>\n",
       "</table>\n"
      ],
      "text/latex": [
       "A data.frame: 1 × 3\n",
       "\\begin{tabular}{r|lll}\n",
       "  & dataset & description & version\\\\\n",
       "  & <I<chr>> & <I<chr>> & <I<chr>>\\\\\n",
       "\\hline\n",
       "\t80 & hsapiens\\_gene\\_ensembl & Human genes (GRCh38.p13) & GRCh38.p13\\\\\n",
       "\\end{tabular}\n"
      ],
      "text/markdown": [
       "\n",
       "A data.frame: 1 × 3\n",
       "\n",
       "| <!--/--> | dataset &lt;I&lt;chr&gt;&gt; | description &lt;I&lt;chr&gt;&gt; | version &lt;I&lt;chr&gt;&gt; |\n",
       "|---|---|---|---|\n",
       "| 80 | hsapiens_gene_ensembl | Human genes (GRCh38.p13) | GRCh38.p13 |\n",
       "\n"
      ],
      "text/plain": [
       "   dataset               description              version   \n",
       "80 hsapiens_gene_ensembl Human genes (GRCh38.p13) GRCh38.p13"
      ]
     },
     "metadata": {},
     "output_type": "display_data"
    }
   ],
   "source": [
    "searchDatasets(mart = ensembl, pattern = 'hsapiens')"
   ]
  },
  {
   "cell_type": "markdown",
   "metadata": {},
   "source": [
    "Now we can put it all together to create a BioMart object: (you might get an error that says `Ensembl site unresponsive, trying uswest mirror`)"
   ]
  },
  {
   "cell_type": "code",
   "execution_count": 93,
   "metadata": {},
   "outputs": [],
   "source": [
    "ensembl <- useEnsembl(biomart = 'ENSEMBL_MART_ENSEMBL', dataset='hsapiens_gene_ensembl', mirror = 'uswest')"
   ]
  },
  {
   "cell_type": "code",
   "execution_count": 94,
   "metadata": {},
   "outputs": [
    {
     "data": {
      "text/plain": [
       "Object of class 'Mart':\n",
       "  Using the ENSEMBL_MART_ENSEMBL BioMart database\n",
       "  Using the hsapiens_gene_ensembl dataset"
      ]
     },
     "metadata": {},
     "output_type": "display_data"
    }
   ],
   "source": [
    "ensembl"
   ]
  },
  {
   "cell_type": "markdown",
   "metadata": {},
   "source": [
    "We can use the `listAttributes` function to see what information is available in `ensembl`"
   ]
  },
  {
   "cell_type": "code",
   "execution_count": 95,
   "metadata": {},
   "outputs": [
    {
     "data": {
      "text/html": [
       "3183"
      ],
      "text/latex": [
       "3183"
      ],
      "text/markdown": [
       "3183"
      ],
      "text/plain": [
       "[1] 3183"
      ]
     },
     "metadata": {},
     "output_type": "display_data"
    },
    {
     "data": {
      "text/html": [
       "<table>\n",
       "<caption>A data.frame: 3183 × 3</caption>\n",
       "<thead>\n",
       "\t<tr><th scope=col>name</th><th scope=col>description</th><th scope=col>page</th></tr>\n",
       "\t<tr><th scope=col>&lt;chr&gt;</th><th scope=col>&lt;chr&gt;</th><th scope=col>&lt;chr&gt;</th></tr>\n",
       "</thead>\n",
       "<tbody>\n",
       "\t<tr><td>ensembl_gene_id                </td><td>Gene stable ID                              </td><td>feature_page</td></tr>\n",
       "\t<tr><td>ensembl_gene_id_version        </td><td>Gene stable ID version                      </td><td>feature_page</td></tr>\n",
       "\t<tr><td>ensembl_transcript_id          </td><td>Transcript stable ID                        </td><td>feature_page</td></tr>\n",
       "\t<tr><td>ensembl_transcript_id_version  </td><td>Transcript stable ID version                </td><td>feature_page</td></tr>\n",
       "\t<tr><td>ensembl_peptide_id             </td><td>Protein stable ID                           </td><td>feature_page</td></tr>\n",
       "\t<tr><td>ensembl_peptide_id_version     </td><td>Protein stable ID version                   </td><td>feature_page</td></tr>\n",
       "\t<tr><td>ensembl_exon_id                </td><td>Exon stable ID                              </td><td>feature_page</td></tr>\n",
       "\t<tr><td>description                    </td><td>Gene description                            </td><td>feature_page</td></tr>\n",
       "\t<tr><td>chromosome_name                </td><td>Chromosome/scaffold name                    </td><td>feature_page</td></tr>\n",
       "\t<tr><td>start_position                 </td><td>Gene start (bp)                             </td><td>feature_page</td></tr>\n",
       "\t<tr><td>end_position                   </td><td>Gene end (bp)                               </td><td>feature_page</td></tr>\n",
       "\t<tr><td>strand                         </td><td>Strand                                      </td><td>feature_page</td></tr>\n",
       "\t<tr><td>band                           </td><td>Karyotype band                              </td><td>feature_page</td></tr>\n",
       "\t<tr><td>transcript_start               </td><td>Transcript start (bp)                       </td><td>feature_page</td></tr>\n",
       "\t<tr><td>transcript_end                 </td><td>Transcript end (bp)                         </td><td>feature_page</td></tr>\n",
       "\t<tr><td>transcription_start_site       </td><td>Transcription start site (TSS)              </td><td>feature_page</td></tr>\n",
       "\t<tr><td>transcript_length              </td><td>Transcript length (including UTRs and CDS)  </td><td>feature_page</td></tr>\n",
       "\t<tr><td>transcript_tsl                 </td><td>Transcript support level (TSL)              </td><td>feature_page</td></tr>\n",
       "\t<tr><td>transcript_gencode_basic       </td><td>GENCODE basic annotation                    </td><td>feature_page</td></tr>\n",
       "\t<tr><td>transcript_appris              </td><td>APPRIS annotation                           </td><td>feature_page</td></tr>\n",
       "\t<tr><td>transcript_mane_select         </td><td>RefSeq match transcript (MANE Select)       </td><td>feature_page</td></tr>\n",
       "\t<tr><td>transcript_mane_plus_clinical  </td><td>RefSeq match transcript (MANE Plus Clinical)</td><td>feature_page</td></tr>\n",
       "\t<tr><td>external_gene_name             </td><td>Gene name                                   </td><td>feature_page</td></tr>\n",
       "\t<tr><td>external_gene_source           </td><td>Source of gene name                         </td><td>feature_page</td></tr>\n",
       "\t<tr><td>external_transcript_name       </td><td>Transcript name                             </td><td>feature_page</td></tr>\n",
       "\t<tr><td>external_transcript_source_name</td><td>Source of transcript name                   </td><td>feature_page</td></tr>\n",
       "\t<tr><td>transcript_count               </td><td>Transcript count                            </td><td>feature_page</td></tr>\n",
       "\t<tr><td>percentage_gene_gc_content     </td><td>Gene % GC content                           </td><td>feature_page</td></tr>\n",
       "\t<tr><td>gene_biotype                   </td><td>Gene type                                   </td><td>feature_page</td></tr>\n",
       "\t<tr><td>transcript_biotype             </td><td>Transcript type                             </td><td>feature_page</td></tr>\n",
       "\t<tr><td>⋮</td><td>⋮</td><td>⋮</td></tr>\n",
       "\t<tr><td>5_utr_end                    </td><td>5' UTR end                                </td><td>sequences</td></tr>\n",
       "\t<tr><td>3_utr_start                  </td><td>3' UTR start                              </td><td>sequences</td></tr>\n",
       "\t<tr><td>3_utr_end                    </td><td>3' UTR end                                </td><td>sequences</td></tr>\n",
       "\t<tr><td>ensembl_transcript_id        </td><td>Transcript stable ID                      </td><td>sequences</td></tr>\n",
       "\t<tr><td>ensembl_transcript_id_version</td><td>Transcript stable ID version              </td><td>sequences</td></tr>\n",
       "\t<tr><td>ensembl_peptide_id           </td><td>Protein stable ID                         </td><td>sequences</td></tr>\n",
       "\t<tr><td>ensembl_peptide_id_version   </td><td>Protein stable ID version                 </td><td>sequences</td></tr>\n",
       "\t<tr><td>transcript_biotype           </td><td>Transcript type                           </td><td>sequences</td></tr>\n",
       "\t<tr><td>transcript_version           </td><td>Version (transcript)                      </td><td>sequences</td></tr>\n",
       "\t<tr><td>peptide_version              </td><td>Version (protein)                         </td><td>sequences</td></tr>\n",
       "\t<tr><td>strand                       </td><td>Strand                                    </td><td>sequences</td></tr>\n",
       "\t<tr><td>transcript_start             </td><td>Transcript start (bp)                     </td><td>sequences</td></tr>\n",
       "\t<tr><td>transcript_end               </td><td>Transcript end (bp)                       </td><td>sequences</td></tr>\n",
       "\t<tr><td>transcription_start_site     </td><td>Transcription start site (TSS)            </td><td>sequences</td></tr>\n",
       "\t<tr><td>transcript_length            </td><td>Transcript length (including UTRs and CDS)</td><td>sequences</td></tr>\n",
       "\t<tr><td>cds_length                   </td><td>CDS Length                                </td><td>sequences</td></tr>\n",
       "\t<tr><td>cds_start                    </td><td>CDS start                                 </td><td>sequences</td></tr>\n",
       "\t<tr><td>cds_end                      </td><td>CDS end                                   </td><td>sequences</td></tr>\n",
       "\t<tr><td>ensembl_exon_id              </td><td>Exon stable ID                            </td><td>sequences</td></tr>\n",
       "\t<tr><td>exon_chrom_start             </td><td>Exon region start (bp)                    </td><td>sequences</td></tr>\n",
       "\t<tr><td>exon_chrom_end               </td><td>Exon region end (bp)                      </td><td>sequences</td></tr>\n",
       "\t<tr><td>strand                       </td><td>Strand                                    </td><td>sequences</td></tr>\n",
       "\t<tr><td>rank                         </td><td>Exon rank in transcript                   </td><td>sequences</td></tr>\n",
       "\t<tr><td>phase                        </td><td>Start phase                               </td><td>sequences</td></tr>\n",
       "\t<tr><td>end_phase                    </td><td>End phase                                 </td><td>sequences</td></tr>\n",
       "\t<tr><td>cdna_coding_start            </td><td>cDNA coding start                         </td><td>sequences</td></tr>\n",
       "\t<tr><td>cdna_coding_end              </td><td>cDNA coding end                           </td><td>sequences</td></tr>\n",
       "\t<tr><td>genomic_coding_start         </td><td>Genomic coding start                      </td><td>sequences</td></tr>\n",
       "\t<tr><td>genomic_coding_end           </td><td>Genomic coding end                        </td><td>sequences</td></tr>\n",
       "\t<tr><td>is_constitutive              </td><td>Constitutive exon                         </td><td>sequences</td></tr>\n",
       "</tbody>\n",
       "</table>\n"
      ],
      "text/latex": [
       "A data.frame: 3183 × 3\n",
       "\\begin{tabular}{lll}\n",
       " name & description & page\\\\\n",
       " <chr> & <chr> & <chr>\\\\\n",
       "\\hline\n",
       "\t ensembl\\_gene\\_id                 & Gene stable ID                               & feature\\_page\\\\\n",
       "\t ensembl\\_gene\\_id\\_version         & Gene stable ID version                       & feature\\_page\\\\\n",
       "\t ensembl\\_transcript\\_id           & Transcript stable ID                         & feature\\_page\\\\\n",
       "\t ensembl\\_transcript\\_id\\_version   & Transcript stable ID version                 & feature\\_page\\\\\n",
       "\t ensembl\\_peptide\\_id              & Protein stable ID                            & feature\\_page\\\\\n",
       "\t ensembl\\_peptide\\_id\\_version      & Protein stable ID version                    & feature\\_page\\\\\n",
       "\t ensembl\\_exon\\_id                 & Exon stable ID                               & feature\\_page\\\\\n",
       "\t description                     & Gene description                             & feature\\_page\\\\\n",
       "\t chromosome\\_name                 & Chromosome/scaffold name                     & feature\\_page\\\\\n",
       "\t start\\_position                  & Gene start (bp)                              & feature\\_page\\\\\n",
       "\t end\\_position                    & Gene end (bp)                                & feature\\_page\\\\\n",
       "\t strand                          & Strand                                       & feature\\_page\\\\\n",
       "\t band                            & Karyotype band                               & feature\\_page\\\\\n",
       "\t transcript\\_start                & Transcript start (bp)                        & feature\\_page\\\\\n",
       "\t transcript\\_end                  & Transcript end (bp)                          & feature\\_page\\\\\n",
       "\t transcription\\_start\\_site        & Transcription start site (TSS)               & feature\\_page\\\\\n",
       "\t transcript\\_length               & Transcript length (including UTRs and CDS)   & feature\\_page\\\\\n",
       "\t transcript\\_tsl                  & Transcript support level (TSL)               & feature\\_page\\\\\n",
       "\t transcript\\_gencode\\_basic        & GENCODE basic annotation                     & feature\\_page\\\\\n",
       "\t transcript\\_appris               & APPRIS annotation                            & feature\\_page\\\\\n",
       "\t transcript\\_mane\\_select          & RefSeq match transcript (MANE Select)        & feature\\_page\\\\\n",
       "\t transcript\\_mane\\_plus\\_clinical   & RefSeq match transcript (MANE Plus Clinical) & feature\\_page\\\\\n",
       "\t external\\_gene\\_name              & Gene name                                    & feature\\_page\\\\\n",
       "\t external\\_gene\\_source            & Source of gene name                          & feature\\_page\\\\\n",
       "\t external\\_transcript\\_name        & Transcript name                              & feature\\_page\\\\\n",
       "\t external\\_transcript\\_source\\_name & Source of transcript name                    & feature\\_page\\\\\n",
       "\t transcript\\_count                & Transcript count                             & feature\\_page\\\\\n",
       "\t percentage\\_gene\\_gc\\_content      & Gene \\% GC content                            & feature\\_page\\\\\n",
       "\t gene\\_biotype                    & Gene type                                    & feature\\_page\\\\\n",
       "\t transcript\\_biotype              & Transcript type                              & feature\\_page\\\\\n",
       "\t ⋮ & ⋮ & ⋮\\\\\n",
       "\t 5\\_utr\\_end                     & 5' UTR end                                 & sequences\\\\\n",
       "\t 3\\_utr\\_start                   & 3' UTR start                               & sequences\\\\\n",
       "\t 3\\_utr\\_end                     & 3' UTR end                                 & sequences\\\\\n",
       "\t ensembl\\_transcript\\_id         & Transcript stable ID                       & sequences\\\\\n",
       "\t ensembl\\_transcript\\_id\\_version & Transcript stable ID version               & sequences\\\\\n",
       "\t ensembl\\_peptide\\_id            & Protein stable ID                          & sequences\\\\\n",
       "\t ensembl\\_peptide\\_id\\_version    & Protein stable ID version                  & sequences\\\\\n",
       "\t transcript\\_biotype            & Transcript type                            & sequences\\\\\n",
       "\t transcript\\_version            & Version (transcript)                       & sequences\\\\\n",
       "\t peptide\\_version               & Version (protein)                          & sequences\\\\\n",
       "\t strand                        & Strand                                     & sequences\\\\\n",
       "\t transcript\\_start              & Transcript start (bp)                      & sequences\\\\\n",
       "\t transcript\\_end                & Transcript end (bp)                        & sequences\\\\\n",
       "\t transcription\\_start\\_site      & Transcription start site (TSS)             & sequences\\\\\n",
       "\t transcript\\_length             & Transcript length (including UTRs and CDS) & sequences\\\\\n",
       "\t cds\\_length                    & CDS Length                                 & sequences\\\\\n",
       "\t cds\\_start                     & CDS start                                  & sequences\\\\\n",
       "\t cds\\_end                       & CDS end                                    & sequences\\\\\n",
       "\t ensembl\\_exon\\_id               & Exon stable ID                             & sequences\\\\\n",
       "\t exon\\_chrom\\_start              & Exon region start (bp)                     & sequences\\\\\n",
       "\t exon\\_chrom\\_end                & Exon region end (bp)                       & sequences\\\\\n",
       "\t strand                        & Strand                                     & sequences\\\\\n",
       "\t rank                          & Exon rank in transcript                    & sequences\\\\\n",
       "\t phase                         & Start phase                                & sequences\\\\\n",
       "\t end\\_phase                     & End phase                                  & sequences\\\\\n",
       "\t cdna\\_coding\\_start             & cDNA coding start                          & sequences\\\\\n",
       "\t cdna\\_coding\\_end               & cDNA coding end                            & sequences\\\\\n",
       "\t genomic\\_coding\\_start          & Genomic coding start                       & sequences\\\\\n",
       "\t genomic\\_coding\\_end            & Genomic coding end                         & sequences\\\\\n",
       "\t is\\_constitutive               & Constitutive exon                          & sequences\\\\\n",
       "\\end{tabular}\n"
      ],
      "text/markdown": [
       "\n",
       "A data.frame: 3183 × 3\n",
       "\n",
       "| name &lt;chr&gt; | description &lt;chr&gt; | page &lt;chr&gt; |\n",
       "|---|---|---|\n",
       "| ensembl_gene_id                 | Gene stable ID                               | feature_page |\n",
       "| ensembl_gene_id_version         | Gene stable ID version                       | feature_page |\n",
       "| ensembl_transcript_id           | Transcript stable ID                         | feature_page |\n",
       "| ensembl_transcript_id_version   | Transcript stable ID version                 | feature_page |\n",
       "| ensembl_peptide_id              | Protein stable ID                            | feature_page |\n",
       "| ensembl_peptide_id_version      | Protein stable ID version                    | feature_page |\n",
       "| ensembl_exon_id                 | Exon stable ID                               | feature_page |\n",
       "| description                     | Gene description                             | feature_page |\n",
       "| chromosome_name                 | Chromosome/scaffold name                     | feature_page |\n",
       "| start_position                  | Gene start (bp)                              | feature_page |\n",
       "| end_position                    | Gene end (bp)                                | feature_page |\n",
       "| strand                          | Strand                                       | feature_page |\n",
       "| band                            | Karyotype band                               | feature_page |\n",
       "| transcript_start                | Transcript start (bp)                        | feature_page |\n",
       "| transcript_end                  | Transcript end (bp)                          | feature_page |\n",
       "| transcription_start_site        | Transcription start site (TSS)               | feature_page |\n",
       "| transcript_length               | Transcript length (including UTRs and CDS)   | feature_page |\n",
       "| transcript_tsl                  | Transcript support level (TSL)               | feature_page |\n",
       "| transcript_gencode_basic        | GENCODE basic annotation                     | feature_page |\n",
       "| transcript_appris               | APPRIS annotation                            | feature_page |\n",
       "| transcript_mane_select          | RefSeq match transcript (MANE Select)        | feature_page |\n",
       "| transcript_mane_plus_clinical   | RefSeq match transcript (MANE Plus Clinical) | feature_page |\n",
       "| external_gene_name              | Gene name                                    | feature_page |\n",
       "| external_gene_source            | Source of gene name                          | feature_page |\n",
       "| external_transcript_name        | Transcript name                              | feature_page |\n",
       "| external_transcript_source_name | Source of transcript name                    | feature_page |\n",
       "| transcript_count                | Transcript count                             | feature_page |\n",
       "| percentage_gene_gc_content      | Gene % GC content                            | feature_page |\n",
       "| gene_biotype                    | Gene type                                    | feature_page |\n",
       "| transcript_biotype              | Transcript type                              | feature_page |\n",
       "| ⋮ | ⋮ | ⋮ |\n",
       "| 5_utr_end                     | 5' UTR end                                 | sequences |\n",
       "| 3_utr_start                   | 3' UTR start                               | sequences |\n",
       "| 3_utr_end                     | 3' UTR end                                 | sequences |\n",
       "| ensembl_transcript_id         | Transcript stable ID                       | sequences |\n",
       "| ensembl_transcript_id_version | Transcript stable ID version               | sequences |\n",
       "| ensembl_peptide_id            | Protein stable ID                          | sequences |\n",
       "| ensembl_peptide_id_version    | Protein stable ID version                  | sequences |\n",
       "| transcript_biotype            | Transcript type                            | sequences |\n",
       "| transcript_version            | Version (transcript)                       | sequences |\n",
       "| peptide_version               | Version (protein)                          | sequences |\n",
       "| strand                        | Strand                                     | sequences |\n",
       "| transcript_start              | Transcript start (bp)                      | sequences |\n",
       "| transcript_end                | Transcript end (bp)                        | sequences |\n",
       "| transcription_start_site      | Transcription start site (TSS)             | sequences |\n",
       "| transcript_length             | Transcript length (including UTRs and CDS) | sequences |\n",
       "| cds_length                    | CDS Length                                 | sequences |\n",
       "| cds_start                     | CDS start                                  | sequences |\n",
       "| cds_end                       | CDS end                                    | sequences |\n",
       "| ensembl_exon_id               | Exon stable ID                             | sequences |\n",
       "| exon_chrom_start              | Exon region start (bp)                     | sequences |\n",
       "| exon_chrom_end                | Exon region end (bp)                       | sequences |\n",
       "| strand                        | Strand                                     | sequences |\n",
       "| rank                          | Exon rank in transcript                    | sequences |\n",
       "| phase                         | Start phase                                | sequences |\n",
       "| end_phase                     | End phase                                  | sequences |\n",
       "| cdna_coding_start             | cDNA coding start                          | sequences |\n",
       "| cdna_coding_end               | cDNA coding end                            | sequences |\n",
       "| genomic_coding_start          | Genomic coding start                       | sequences |\n",
       "| genomic_coding_end            | Genomic coding end                         | sequences |\n",
       "| is_constitutive               | Constitutive exon                          | sequences |\n",
       "\n"
      ],
      "text/plain": [
       "     name                           \n",
       "1    ensembl_gene_id                \n",
       "2    ensembl_gene_id_version        \n",
       "3    ensembl_transcript_id          \n",
       "4    ensembl_transcript_id_version  \n",
       "5    ensembl_peptide_id             \n",
       "6    ensembl_peptide_id_version     \n",
       "7    ensembl_exon_id                \n",
       "8    description                    \n",
       "9    chromosome_name                \n",
       "10   start_position                 \n",
       "11   end_position                   \n",
       "12   strand                         \n",
       "13   band                           \n",
       "14   transcript_start               \n",
       "15   transcript_end                 \n",
       "16   transcription_start_site       \n",
       "17   transcript_length              \n",
       "18   transcript_tsl                 \n",
       "19   transcript_gencode_basic       \n",
       "20   transcript_appris              \n",
       "21   transcript_mane_select         \n",
       "22   transcript_mane_plus_clinical  \n",
       "23   external_gene_name             \n",
       "24   external_gene_source           \n",
       "25   external_transcript_name       \n",
       "26   external_transcript_source_name\n",
       "27   transcript_count               \n",
       "28   percentage_gene_gc_content     \n",
       "29   gene_biotype                   \n",
       "30   transcript_biotype             \n",
       "⋮    ⋮                              \n",
       "3154 5_utr_end                      \n",
       "3155 3_utr_start                    \n",
       "3156 3_utr_end                      \n",
       "3157 ensembl_transcript_id          \n",
       "3158 ensembl_transcript_id_version  \n",
       "3159 ensembl_peptide_id             \n",
       "3160 ensembl_peptide_id_version     \n",
       "3161 transcript_biotype             \n",
       "3162 transcript_version             \n",
       "3163 peptide_version                \n",
       "3164 strand                         \n",
       "3165 transcript_start               \n",
       "3166 transcript_end                 \n",
       "3167 transcription_start_site       \n",
       "3168 transcript_length              \n",
       "3169 cds_length                     \n",
       "3170 cds_start                      \n",
       "3171 cds_end                        \n",
       "3172 ensembl_exon_id                \n",
       "3173 exon_chrom_start               \n",
       "3174 exon_chrom_end                 \n",
       "3175 strand                         \n",
       "3176 rank                           \n",
       "3177 phase                          \n",
       "3178 end_phase                      \n",
       "3179 cdna_coding_start              \n",
       "3180 cdna_coding_end                \n",
       "3181 genomic_coding_start           \n",
       "3182 genomic_coding_end             \n",
       "3183 is_constitutive                \n",
       "     description                                  page        \n",
       "1    Gene stable ID                               feature_page\n",
       "2    Gene stable ID version                       feature_page\n",
       "3    Transcript stable ID                         feature_page\n",
       "4    Transcript stable ID version                 feature_page\n",
       "5    Protein stable ID                            feature_page\n",
       "6    Protein stable ID version                    feature_page\n",
       "7    Exon stable ID                               feature_page\n",
       "8    Gene description                             feature_page\n",
       "9    Chromosome/scaffold name                     feature_page\n",
       "10   Gene start (bp)                              feature_page\n",
       "11   Gene end (bp)                                feature_page\n",
       "12   Strand                                       feature_page\n",
       "13   Karyotype band                               feature_page\n",
       "14   Transcript start (bp)                        feature_page\n",
       "15   Transcript end (bp)                          feature_page\n",
       "16   Transcription start site (TSS)               feature_page\n",
       "17   Transcript length (including UTRs and CDS)   feature_page\n",
       "18   Transcript support level (TSL)               feature_page\n",
       "19   GENCODE basic annotation                     feature_page\n",
       "20   APPRIS annotation                            feature_page\n",
       "21   RefSeq match transcript (MANE Select)        feature_page\n",
       "22   RefSeq match transcript (MANE Plus Clinical) feature_page\n",
       "23   Gene name                                    feature_page\n",
       "24   Source of gene name                          feature_page\n",
       "25   Transcript name                              feature_page\n",
       "26   Source of transcript name                    feature_page\n",
       "27   Transcript count                             feature_page\n",
       "28   Gene % GC content                            feature_page\n",
       "29   Gene type                                    feature_page\n",
       "30   Transcript type                              feature_page\n",
       "⋮    ⋮                                            ⋮           \n",
       "3154 5' UTR end                                   sequences   \n",
       "3155 3' UTR start                                 sequences   \n",
       "3156 3' UTR end                                   sequences   \n",
       "3157 Transcript stable ID                         sequences   \n",
       "3158 Transcript stable ID version                 sequences   \n",
       "3159 Protein stable ID                            sequences   \n",
       "3160 Protein stable ID version                    sequences   \n",
       "3161 Transcript type                              sequences   \n",
       "3162 Version (transcript)                         sequences   \n",
       "3163 Version (protein)                            sequences   \n",
       "3164 Strand                                       sequences   \n",
       "3165 Transcript start (bp)                        sequences   \n",
       "3166 Transcript end (bp)                          sequences   \n",
       "3167 Transcription start site (TSS)               sequences   \n",
       "3168 Transcript length (including UTRs and CDS)   sequences   \n",
       "3169 CDS Length                                   sequences   \n",
       "3170 CDS start                                    sequences   \n",
       "3171 CDS end                                      sequences   \n",
       "3172 Exon stable ID                               sequences   \n",
       "3173 Exon region start (bp)                       sequences   \n",
       "3174 Exon region end (bp)                         sequences   \n",
       "3175 Strand                                       sequences   \n",
       "3176 Exon rank in transcript                      sequences   \n",
       "3177 Start phase                                  sequences   \n",
       "3178 End phase                                    sequences   \n",
       "3179 cDNA coding start                            sequences   \n",
       "3180 cDNA coding end                              sequences   \n",
       "3181 Genomic coding start                         sequences   \n",
       "3182 Genomic coding end                           sequences   \n",
       "3183 Constitutive exon                            sequences   "
      ]
     },
     "metadata": {},
     "output_type": "display_data"
    }
   ],
   "source": [
    "ensembl_attributes <- listAttributes(ensembl)\n",
    "nrow(ensembl_attributes)\n",
    "ensembl_attributes"
   ]
  },
  {
   "cell_type": "markdown",
   "metadata": {},
   "source": [
    "Note that there are ~3000 attributes for this mart! We only care a about two -- `ensembl_gene_id` and `hgnc_symbol`."
   ]
  },
  {
   "cell_type": "markdown",
   "metadata": {},
   "source": [
    "We can use `getBM` to query the BioMart object, which is the main function of `biomaRt`. It takes the following arguments:\n",
    "\n",
    "`attributes`: the attributes you want to retrieve                     \n",
    "`filters`: the filters that should be used in the query                    \n",
    "`values`: the values of the filters                    \n",
    "`mart`: the mart object you want to use.                    "
   ]
  },
  {
   "cell_type": "code",
   "execution_count": 96,
   "metadata": {},
   "outputs": [
    {
     "data": {
      "text/html": [
       "<table>\n",
       "<caption>A data.frame: 5 × 2</caption>\n",
       "<thead>\n",
       "\t<tr><th scope=col>ensembl_gene_id</th><th scope=col>hgnc_symbol</th></tr>\n",
       "\t<tr><th scope=col>&lt;chr&gt;</th><th scope=col>&lt;chr&gt;</th></tr>\n",
       "</thead>\n",
       "<tbody>\n",
       "\t<tr><td>ENSG00000133704</td><td>IPO8 </td></tr>\n",
       "\t<tr><td>ENSG00000169564</td><td>PCBP1</td></tr>\n",
       "\t<tr><td>ENSG00000134644</td><td>PUM1 </td></tr>\n",
       "\t<tr><td>ENSG00000157916</td><td>RER1 </td></tr>\n",
       "\t<tr><td>ENSG00000163902</td><td>RPN1 </td></tr>\n",
       "</tbody>\n",
       "</table>\n"
      ],
      "text/latex": [
       "A data.frame: 5 × 2\n",
       "\\begin{tabular}{ll}\n",
       " ensembl\\_gene\\_id & hgnc\\_symbol\\\\\n",
       " <chr> & <chr>\\\\\n",
       "\\hline\n",
       "\t ENSG00000133704 & IPO8 \\\\\n",
       "\t ENSG00000169564 & PCBP1\\\\\n",
       "\t ENSG00000134644 & PUM1 \\\\\n",
       "\t ENSG00000157916 & RER1 \\\\\n",
       "\t ENSG00000163902 & RPN1 \\\\\n",
       "\\end{tabular}\n"
      ],
      "text/markdown": [
       "\n",
       "A data.frame: 5 × 2\n",
       "\n",
       "| ensembl_gene_id &lt;chr&gt; | hgnc_symbol &lt;chr&gt; |\n",
       "|---|---|\n",
       "| ENSG00000133704 | IPO8  |\n",
       "| ENSG00000169564 | PCBP1 |\n",
       "| ENSG00000134644 | PUM1  |\n",
       "| ENSG00000157916 | RER1  |\n",
       "| ENSG00000163902 | RPN1  |\n",
       "\n"
      ],
      "text/plain": [
       "  ensembl_gene_id hgnc_symbol\n",
       "1 ENSG00000133704 IPO8       \n",
       "2 ENSG00000169564 PCBP1      \n",
       "3 ENSG00000134644 PUM1       \n",
       "4 ENSG00000157916 RER1       \n",
       "5 ENSG00000163902 RPN1       "
      ]
     },
     "metadata": {},
     "output_type": "display_data"
    }
   ],
   "source": [
    "ensembl_bm <- getBM(\n",
    "    attributes = c('ensembl_gene_id','hgnc_symbol'),\n",
    "    filters = 'hgnc_symbol',\n",
    "    values = housekeeping, \n",
    "    mart = ensembl)\n",
    "ensembl_bm"
   ]
  },
  {
   "cell_type": "markdown",
   "metadata": {},
   "source": [
    "Let's look at the `rlog` normalized counts for our housekeeping genes:"
   ]
  },
  {
   "cell_type": "code",
   "execution_count": 97,
   "metadata": {},
   "outputs": [
    {
     "data": {
      "text/html": [
       "<table>\n",
       "<caption>A data.frame: 5 × 8</caption>\n",
       "<thead>\n",
       "\t<tr><th></th><th scope=col>SRR1039508</th><th scope=col>SRR1039509</th><th scope=col>SRR1039512</th><th scope=col>SRR1039513</th><th scope=col>SRR1039516</th><th scope=col>SRR1039517</th><th scope=col>SRR1039520</th><th scope=col>SRR1039521</th></tr>\n",
       "\t<tr><th></th><th scope=col>&lt;dbl&gt;</th><th scope=col>&lt;dbl&gt;</th><th scope=col>&lt;dbl&gt;</th><th scope=col>&lt;dbl&gt;</th><th scope=col>&lt;dbl&gt;</th><th scope=col>&lt;dbl&gt;</th><th scope=col>&lt;dbl&gt;</th><th scope=col>&lt;dbl&gt;</th></tr>\n",
       "</thead>\n",
       "<tbody>\n",
       "\t<tr><th scope=row>ENSG00000133704</th><td>10.41685</td><td>10.23479</td><td>10.45273</td><td>10.39731</td><td>10.53719</td><td>10.48919</td><td>10.46832</td><td>10.45651</td></tr>\n",
       "\t<tr><th scope=row>ENSG00000169564</th><td>10.48063</td><td>10.56330</td><td>10.22373</td><td>10.31371</td><td>10.16660</td><td>10.37503</td><td>10.39615</td><td>10.36473</td></tr>\n",
       "\t<tr><th scope=row>ENSG00000134644</th><td>11.20999</td><td>11.22307</td><td>10.98335</td><td>11.12745</td><td>11.21067</td><td>11.24240</td><td>11.09791</td><td>11.22956</td></tr>\n",
       "\t<tr><th scope=row>ENSG00000157916</th><td>10.98437</td><td>11.19663</td><td>11.00188</td><td>11.20675</td><td>10.98911</td><td>11.22096</td><td>10.93644</td><td>11.10573</td></tr>\n",
       "\t<tr><th scope=row>ENSG00000163902</th><td>11.68383</td><td>11.83756</td><td>11.71771</td><td>11.89697</td><td>11.71163</td><td>12.04157</td><td>11.57565</td><td>11.70463</td></tr>\n",
       "</tbody>\n",
       "</table>\n"
      ],
      "text/latex": [
       "A data.frame: 5 × 8\n",
       "\\begin{tabular}{r|llllllll}\n",
       "  & SRR1039508 & SRR1039509 & SRR1039512 & SRR1039513 & SRR1039516 & SRR1039517 & SRR1039520 & SRR1039521\\\\\n",
       "  & <dbl> & <dbl> & <dbl> & <dbl> & <dbl> & <dbl> & <dbl> & <dbl>\\\\\n",
       "\\hline\n",
       "\tENSG00000133704 & 10.41685 & 10.23479 & 10.45273 & 10.39731 & 10.53719 & 10.48919 & 10.46832 & 10.45651\\\\\n",
       "\tENSG00000169564 & 10.48063 & 10.56330 & 10.22373 & 10.31371 & 10.16660 & 10.37503 & 10.39615 & 10.36473\\\\\n",
       "\tENSG00000134644 & 11.20999 & 11.22307 & 10.98335 & 11.12745 & 11.21067 & 11.24240 & 11.09791 & 11.22956\\\\\n",
       "\tENSG00000157916 & 10.98437 & 11.19663 & 11.00188 & 11.20675 & 10.98911 & 11.22096 & 10.93644 & 11.10573\\\\\n",
       "\tENSG00000163902 & 11.68383 & 11.83756 & 11.71771 & 11.89697 & 11.71163 & 12.04157 & 11.57565 & 11.70463\\\\\n",
       "\\end{tabular}\n"
      ],
      "text/markdown": [
       "\n",
       "A data.frame: 5 × 8\n",
       "\n",
       "| <!--/--> | SRR1039508 &lt;dbl&gt; | SRR1039509 &lt;dbl&gt; | SRR1039512 &lt;dbl&gt; | SRR1039513 &lt;dbl&gt; | SRR1039516 &lt;dbl&gt; | SRR1039517 &lt;dbl&gt; | SRR1039520 &lt;dbl&gt; | SRR1039521 &lt;dbl&gt; |\n",
       "|---|---|---|---|---|---|---|---|---|\n",
       "| ENSG00000133704 | 10.41685 | 10.23479 | 10.45273 | 10.39731 | 10.53719 | 10.48919 | 10.46832 | 10.45651 |\n",
       "| ENSG00000169564 | 10.48063 | 10.56330 | 10.22373 | 10.31371 | 10.16660 | 10.37503 | 10.39615 | 10.36473 |\n",
       "| ENSG00000134644 | 11.20999 | 11.22307 | 10.98335 | 11.12745 | 11.21067 | 11.24240 | 11.09791 | 11.22956 |\n",
       "| ENSG00000157916 | 10.98437 | 11.19663 | 11.00188 | 11.20675 | 10.98911 | 11.22096 | 10.93644 | 11.10573 |\n",
       "| ENSG00000163902 | 11.68383 | 11.83756 | 11.71771 | 11.89697 | 11.71163 | 12.04157 | 11.57565 | 11.70463 |\n",
       "\n"
      ],
      "text/plain": [
       "                SRR1039508 SRR1039509 SRR1039512 SRR1039513 SRR1039516\n",
       "ENSG00000133704 10.41685   10.23479   10.45273   10.39731   10.53719  \n",
       "ENSG00000169564 10.48063   10.56330   10.22373   10.31371   10.16660  \n",
       "ENSG00000134644 11.20999   11.22307   10.98335   11.12745   11.21067  \n",
       "ENSG00000157916 10.98437   11.19663   11.00188   11.20675   10.98911  \n",
       "ENSG00000163902 11.68383   11.83756   11.71771   11.89697   11.71163  \n",
       "                SRR1039517 SRR1039520 SRR1039521\n",
       "ENSG00000133704 10.48919   10.46832   10.45651  \n",
       "ENSG00000169564 10.37503   10.39615   10.36473  \n",
       "ENSG00000134644 11.24240   11.09791   11.22956  \n",
       "ENSG00000157916 11.22096   10.93644   11.10573  \n",
       "ENSG00000163902 12.04157   11.57565   11.70463  "
      ]
     },
     "metadata": {},
     "output_type": "display_data"
    }
   ],
   "source": [
    "housekeeping_rld <- data.frame(assay(rld)[ensembl_bm$ensembl_gene_id, ])\n",
    "head(housekeeping_rld)"
   ]
  },
  {
   "cell_type": "markdown",
   "metadata": {},
   "source": [
    "The `ensembl_gene_id` is currently stored as the rownames. Let's go ahead and turn it into a column in the data frame:"
   ]
  },
  {
   "cell_type": "code",
   "execution_count": 98,
   "metadata": {},
   "outputs": [
    {
     "data": {
      "text/html": [
       "<table>\n",
       "<caption>A data.frame: 5 × 9</caption>\n",
       "<thead>\n",
       "\t<tr><th></th><th scope=col>SRR1039508</th><th scope=col>SRR1039509</th><th scope=col>SRR1039512</th><th scope=col>SRR1039513</th><th scope=col>SRR1039516</th><th scope=col>SRR1039517</th><th scope=col>SRR1039520</th><th scope=col>SRR1039521</th><th scope=col>ensembl_gene_id</th></tr>\n",
       "\t<tr><th></th><th scope=col>&lt;dbl&gt;</th><th scope=col>&lt;dbl&gt;</th><th scope=col>&lt;dbl&gt;</th><th scope=col>&lt;dbl&gt;</th><th scope=col>&lt;dbl&gt;</th><th scope=col>&lt;dbl&gt;</th><th scope=col>&lt;dbl&gt;</th><th scope=col>&lt;dbl&gt;</th><th scope=col>&lt;chr&gt;</th></tr>\n",
       "</thead>\n",
       "<tbody>\n",
       "\t<tr><th scope=row>ENSG00000133704</th><td>10.41685</td><td>10.23479</td><td>10.45273</td><td>10.39731</td><td>10.53719</td><td>10.48919</td><td>10.46832</td><td>10.45651</td><td>ENSG00000133704</td></tr>\n",
       "\t<tr><th scope=row>ENSG00000169564</th><td>10.48063</td><td>10.56330</td><td>10.22373</td><td>10.31371</td><td>10.16660</td><td>10.37503</td><td>10.39615</td><td>10.36473</td><td>ENSG00000169564</td></tr>\n",
       "\t<tr><th scope=row>ENSG00000134644</th><td>11.20999</td><td>11.22307</td><td>10.98335</td><td>11.12745</td><td>11.21067</td><td>11.24240</td><td>11.09791</td><td>11.22956</td><td>ENSG00000134644</td></tr>\n",
       "\t<tr><th scope=row>ENSG00000157916</th><td>10.98437</td><td>11.19663</td><td>11.00188</td><td>11.20675</td><td>10.98911</td><td>11.22096</td><td>10.93644</td><td>11.10573</td><td>ENSG00000157916</td></tr>\n",
       "\t<tr><th scope=row>ENSG00000163902</th><td>11.68383</td><td>11.83756</td><td>11.71771</td><td>11.89697</td><td>11.71163</td><td>12.04157</td><td>11.57565</td><td>11.70463</td><td>ENSG00000163902</td></tr>\n",
       "</tbody>\n",
       "</table>\n"
      ],
      "text/latex": [
       "A data.frame: 5 × 9\n",
       "\\begin{tabular}{r|lllllllll}\n",
       "  & SRR1039508 & SRR1039509 & SRR1039512 & SRR1039513 & SRR1039516 & SRR1039517 & SRR1039520 & SRR1039521 & ensembl\\_gene\\_id\\\\\n",
       "  & <dbl> & <dbl> & <dbl> & <dbl> & <dbl> & <dbl> & <dbl> & <dbl> & <chr>\\\\\n",
       "\\hline\n",
       "\tENSG00000133704 & 10.41685 & 10.23479 & 10.45273 & 10.39731 & 10.53719 & 10.48919 & 10.46832 & 10.45651 & ENSG00000133704\\\\\n",
       "\tENSG00000169564 & 10.48063 & 10.56330 & 10.22373 & 10.31371 & 10.16660 & 10.37503 & 10.39615 & 10.36473 & ENSG00000169564\\\\\n",
       "\tENSG00000134644 & 11.20999 & 11.22307 & 10.98335 & 11.12745 & 11.21067 & 11.24240 & 11.09791 & 11.22956 & ENSG00000134644\\\\\n",
       "\tENSG00000157916 & 10.98437 & 11.19663 & 11.00188 & 11.20675 & 10.98911 & 11.22096 & 10.93644 & 11.10573 & ENSG00000157916\\\\\n",
       "\tENSG00000163902 & 11.68383 & 11.83756 & 11.71771 & 11.89697 & 11.71163 & 12.04157 & 11.57565 & 11.70463 & ENSG00000163902\\\\\n",
       "\\end{tabular}\n"
      ],
      "text/markdown": [
       "\n",
       "A data.frame: 5 × 9\n",
       "\n",
       "| <!--/--> | SRR1039508 &lt;dbl&gt; | SRR1039509 &lt;dbl&gt; | SRR1039512 &lt;dbl&gt; | SRR1039513 &lt;dbl&gt; | SRR1039516 &lt;dbl&gt; | SRR1039517 &lt;dbl&gt; | SRR1039520 &lt;dbl&gt; | SRR1039521 &lt;dbl&gt; | ensembl_gene_id &lt;chr&gt; |\n",
       "|---|---|---|---|---|---|---|---|---|---|\n",
       "| ENSG00000133704 | 10.41685 | 10.23479 | 10.45273 | 10.39731 | 10.53719 | 10.48919 | 10.46832 | 10.45651 | ENSG00000133704 |\n",
       "| ENSG00000169564 | 10.48063 | 10.56330 | 10.22373 | 10.31371 | 10.16660 | 10.37503 | 10.39615 | 10.36473 | ENSG00000169564 |\n",
       "| ENSG00000134644 | 11.20999 | 11.22307 | 10.98335 | 11.12745 | 11.21067 | 11.24240 | 11.09791 | 11.22956 | ENSG00000134644 |\n",
       "| ENSG00000157916 | 10.98437 | 11.19663 | 11.00188 | 11.20675 | 10.98911 | 11.22096 | 10.93644 | 11.10573 | ENSG00000157916 |\n",
       "| ENSG00000163902 | 11.68383 | 11.83756 | 11.71771 | 11.89697 | 11.71163 | 12.04157 | 11.57565 | 11.70463 | ENSG00000163902 |\n",
       "\n"
      ],
      "text/plain": [
       "                SRR1039508 SRR1039509 SRR1039512 SRR1039513 SRR1039516\n",
       "ENSG00000133704 10.41685   10.23479   10.45273   10.39731   10.53719  \n",
       "ENSG00000169564 10.48063   10.56330   10.22373   10.31371   10.16660  \n",
       "ENSG00000134644 11.20999   11.22307   10.98335   11.12745   11.21067  \n",
       "ENSG00000157916 10.98437   11.19663   11.00188   11.20675   10.98911  \n",
       "ENSG00000163902 11.68383   11.83756   11.71771   11.89697   11.71163  \n",
       "                SRR1039517 SRR1039520 SRR1039521 ensembl_gene_id\n",
       "ENSG00000133704 10.48919   10.46832   10.45651   ENSG00000133704\n",
       "ENSG00000169564 10.37503   10.39615   10.36473   ENSG00000169564\n",
       "ENSG00000134644 11.24240   11.09791   11.22956   ENSG00000134644\n",
       "ENSG00000157916 11.22096   10.93644   11.10573   ENSG00000157916\n",
       "ENSG00000163902 12.04157   11.57565   11.70463   ENSG00000163902"
      ]
     },
     "metadata": {},
     "output_type": "display_data"
    }
   ],
   "source": [
    "housekeeping_rld$ensembl_gene_id <- rownames(housekeeping_rld)\n",
    "head(housekeeping_rld)"
   ]
  },
  {
   "cell_type": "markdown",
   "metadata": {},
   "source": [
    "Then we use the `gather` function to convert the data to a long format."
   ]
  },
  {
   "cell_type": "code",
   "execution_count": 99,
   "metadata": {},
   "outputs": [
    {
     "data": {
      "text/html": [
       "<table>\n",
       "<caption>A data.frame: 6 × 3</caption>\n",
       "<thead>\n",
       "\t<tr><th></th><th scope=col>ensembl_gene_id</th><th scope=col>sample</th><th scope=col>rlog_counts</th></tr>\n",
       "\t<tr><th></th><th scope=col>&lt;chr&gt;</th><th scope=col>&lt;chr&gt;</th><th scope=col>&lt;dbl&gt;</th></tr>\n",
       "</thead>\n",
       "<tbody>\n",
       "\t<tr><th scope=row>1</th><td>ENSG00000133704</td><td>SRR1039508</td><td>10.41685</td></tr>\n",
       "\t<tr><th scope=row>2</th><td>ENSG00000169564</td><td>SRR1039508</td><td>10.48063</td></tr>\n",
       "\t<tr><th scope=row>3</th><td>ENSG00000134644</td><td>SRR1039508</td><td>11.20999</td></tr>\n",
       "\t<tr><th scope=row>4</th><td>ENSG00000157916</td><td>SRR1039508</td><td>10.98437</td></tr>\n",
       "\t<tr><th scope=row>5</th><td>ENSG00000163902</td><td>SRR1039508</td><td>11.68383</td></tr>\n",
       "\t<tr><th scope=row>6</th><td>ENSG00000133704</td><td>SRR1039509</td><td>10.23479</td></tr>\n",
       "</tbody>\n",
       "</table>\n"
      ],
      "text/latex": [
       "A data.frame: 6 × 3\n",
       "\\begin{tabular}{r|lll}\n",
       "  & ensembl\\_gene\\_id & sample & rlog\\_counts\\\\\n",
       "  & <chr> & <chr> & <dbl>\\\\\n",
       "\\hline\n",
       "\t1 & ENSG00000133704 & SRR1039508 & 10.41685\\\\\n",
       "\t2 & ENSG00000169564 & SRR1039508 & 10.48063\\\\\n",
       "\t3 & ENSG00000134644 & SRR1039508 & 11.20999\\\\\n",
       "\t4 & ENSG00000157916 & SRR1039508 & 10.98437\\\\\n",
       "\t5 & ENSG00000163902 & SRR1039508 & 11.68383\\\\\n",
       "\t6 & ENSG00000133704 & SRR1039509 & 10.23479\\\\\n",
       "\\end{tabular}\n"
      ],
      "text/markdown": [
       "\n",
       "A data.frame: 6 × 3\n",
       "\n",
       "| <!--/--> | ensembl_gene_id &lt;chr&gt; | sample &lt;chr&gt; | rlog_counts &lt;dbl&gt; |\n",
       "|---|---|---|---|\n",
       "| 1 | ENSG00000133704 | SRR1039508 | 10.41685 |\n",
       "| 2 | ENSG00000169564 | SRR1039508 | 10.48063 |\n",
       "| 3 | ENSG00000134644 | SRR1039508 | 11.20999 |\n",
       "| 4 | ENSG00000157916 | SRR1039508 | 10.98437 |\n",
       "| 5 | ENSG00000163902 | SRR1039508 | 11.68383 |\n",
       "| 6 | ENSG00000133704 | SRR1039509 | 10.23479 |\n",
       "\n"
      ],
      "text/plain": [
       "  ensembl_gene_id sample     rlog_counts\n",
       "1 ENSG00000133704 SRR1039508 10.41685   \n",
       "2 ENSG00000169564 SRR1039508 10.48063   \n",
       "3 ENSG00000134644 SRR1039508 11.20999   \n",
       "4 ENSG00000157916 SRR1039508 10.98437   \n",
       "5 ENSG00000163902 SRR1039508 11.68383   \n",
       "6 ENSG00000133704 SRR1039509 10.23479   "
      ]
     },
     "metadata": {},
     "output_type": "display_data"
    }
   ],
   "source": [
    "housekeeping_rld_tidy <- gather(housekeeping_rld, key = 'sample', value = 'rlog_counts', SRR1039508:SRR1039521)\n",
    "head(housekeeping_rld_tidy)"
   ]
  },
  {
   "cell_type": "markdown",
   "metadata": {},
   "source": [
    "Let's add the annotation information we pulled from biomaRt:"
   ]
  },
  {
   "cell_type": "code",
   "execution_count": 100,
   "metadata": {},
   "outputs": [
    {
     "data": {
      "text/html": [
       "<table>\n",
       "<caption>A data.frame: 6 × 4</caption>\n",
       "<thead>\n",
       "\t<tr><th></th><th scope=col>ensembl_gene_id</th><th scope=col>hgnc_symbol</th><th scope=col>sample</th><th scope=col>rlog_counts</th></tr>\n",
       "\t<tr><th></th><th scope=col>&lt;chr&gt;</th><th scope=col>&lt;chr&gt;</th><th scope=col>&lt;chr&gt;</th><th scope=col>&lt;dbl&gt;</th></tr>\n",
       "</thead>\n",
       "<tbody>\n",
       "\t<tr><th scope=row>1</th><td>ENSG00000133704</td><td>IPO8</td><td>SRR1039508</td><td>10.41685</td></tr>\n",
       "\t<tr><th scope=row>2</th><td>ENSG00000133704</td><td>IPO8</td><td>SRR1039509</td><td>10.23479</td></tr>\n",
       "\t<tr><th scope=row>3</th><td>ENSG00000133704</td><td>IPO8</td><td>SRR1039512</td><td>10.45273</td></tr>\n",
       "\t<tr><th scope=row>4</th><td>ENSG00000133704</td><td>IPO8</td><td>SRR1039513</td><td>10.39731</td></tr>\n",
       "\t<tr><th scope=row>5</th><td>ENSG00000133704</td><td>IPO8</td><td>SRR1039516</td><td>10.53719</td></tr>\n",
       "\t<tr><th scope=row>6</th><td>ENSG00000133704</td><td>IPO8</td><td>SRR1039517</td><td>10.48919</td></tr>\n",
       "</tbody>\n",
       "</table>\n"
      ],
      "text/latex": [
       "A data.frame: 6 × 4\n",
       "\\begin{tabular}{r|llll}\n",
       "  & ensembl\\_gene\\_id & hgnc\\_symbol & sample & rlog\\_counts\\\\\n",
       "  & <chr> & <chr> & <chr> & <dbl>\\\\\n",
       "\\hline\n",
       "\t1 & ENSG00000133704 & IPO8 & SRR1039508 & 10.41685\\\\\n",
       "\t2 & ENSG00000133704 & IPO8 & SRR1039509 & 10.23479\\\\\n",
       "\t3 & ENSG00000133704 & IPO8 & SRR1039512 & 10.45273\\\\\n",
       "\t4 & ENSG00000133704 & IPO8 & SRR1039513 & 10.39731\\\\\n",
       "\t5 & ENSG00000133704 & IPO8 & SRR1039516 & 10.53719\\\\\n",
       "\t6 & ENSG00000133704 & IPO8 & SRR1039517 & 10.48919\\\\\n",
       "\\end{tabular}\n"
      ],
      "text/markdown": [
       "\n",
       "A data.frame: 6 × 4\n",
       "\n",
       "| <!--/--> | ensembl_gene_id &lt;chr&gt; | hgnc_symbol &lt;chr&gt; | sample &lt;chr&gt; | rlog_counts &lt;dbl&gt; |\n",
       "|---|---|---|---|---|\n",
       "| 1 | ENSG00000133704 | IPO8 | SRR1039508 | 10.41685 |\n",
       "| 2 | ENSG00000133704 | IPO8 | SRR1039509 | 10.23479 |\n",
       "| 3 | ENSG00000133704 | IPO8 | SRR1039512 | 10.45273 |\n",
       "| 4 | ENSG00000133704 | IPO8 | SRR1039513 | 10.39731 |\n",
       "| 5 | ENSG00000133704 | IPO8 | SRR1039516 | 10.53719 |\n",
       "| 6 | ENSG00000133704 | IPO8 | SRR1039517 | 10.48919 |\n",
       "\n"
      ],
      "text/plain": [
       "  ensembl_gene_id hgnc_symbol sample     rlog_counts\n",
       "1 ENSG00000133704 IPO8        SRR1039508 10.41685   \n",
       "2 ENSG00000133704 IPO8        SRR1039509 10.23479   \n",
       "3 ENSG00000133704 IPO8        SRR1039512 10.45273   \n",
       "4 ENSG00000133704 IPO8        SRR1039513 10.39731   \n",
       "5 ENSG00000133704 IPO8        SRR1039516 10.53719   \n",
       "6 ENSG00000133704 IPO8        SRR1039517 10.48919   "
      ]
     },
     "metadata": {},
     "output_type": "display_data"
    }
   ],
   "source": [
    "housekeeping_rld_tidy <- inner_join(ensembl_bm, housekeeping_rld_tidy, by = 'ensembl_gene_id')\n",
    "head(housekeeping_rld_tidy)"
   ]
  },
  {
   "cell_type": "markdown",
   "metadata": {},
   "source": [
    "Let's look at the expression of our housekeeping genes to see if they look stably expressed in our data:"
   ]
  },
  {
   "cell_type": "code",
   "execution_count": 101,
   "metadata": {},
   "outputs": [
    {
     "data": {
      "image/png": "[encoded data removed]",
      "text/plain": [
       "plot without title"
      ]
     },
     "metadata": {
      "image/png": {
       "height": 300,
       "width": 600
      }
     },
     "output_type": "display_data"
    }
   ],
   "source": [
    "options(repr.plot.width=10, repr.plot.height=5)\n",
    "\n",
    "ggplot(housekeeping_rld_tidy, aes(x=sample, y=rlog_counts)) + \n",
    "geom_bar(stat=\"identity\") +\n",
    "facet_wrap(~hgnc_symbol, nrow = 1) +\n",
    "theme(axis.text.x = element_text(angle = 90))"
   ]
  },
  {
   "cell_type": "markdown",
   "metadata": {},
   "source": [
    "These housekeeping genes look stably expressed across each sample."
   ]
  },
  {
   "cell_type": "markdown",
   "metadata": {},
   "source": [
    "# Using AnnotationHub\n",
    "\n",
    "Now we can try using AnnotationHub to do something similar to what we just did with `biomaRt`. \n",
    "First, let's connect to the hub using `AnnotationHub` and look at the output."
   ]
  },
  {
   "cell_type": "code",
   "execution_count": 102,
   "metadata": {},
   "outputs": [
    {
     "name": "stderr",
     "output_type": "stream",
     "text": [
      "snapshotDate(): 2020-04-27\n",
      "\n"
     ]
    },
    {
     "data": {
      "text/plain": [
       "AnnotationHub with 50515 records\n",
       "# snapshotDate(): 2020-04-27\n",
       "# $dataprovider: BroadInstitute, Ensembl, UCSC, ftp://ftp.ncbi.nlm.nih.gov/g...\n",
       "# $species: Homo sapiens, Mus musculus, Drosophila melanogaster, Bos taurus,...\n",
       "# $rdataclass: GRanges, BigWigFile, TwoBitFile, Rle, EnsDb, OrgDb, ChainFile...\n",
       "# additional mcols(): taxonomyid, genome, description,\n",
       "#   coordinate_1_based, maintainer, rdatadateadded, preparerclass, tags,\n",
       "#   rdatapath, sourceurl, sourcetype \n",
       "# retrieve records with, e.g., 'object[[\"AH5012\"]]' \n",
       "\n",
       "            title                                       \n",
       "  AH5012  | Chromosome Band                             \n",
       "  AH5013  | STS Markers                                 \n",
       "  AH5014  | FISH Clones                                 \n",
       "  AH5015  | Recomb Rate                                 \n",
       "  AH5016  | ENCODE Pilot                                \n",
       "  ...       ...                                         \n",
       "  AH83357 | Ensembl 101 EnsDb for Xiphophorus couchianus\n",
       "  AH83358 | Ensembl 101 EnsDb for Xiphophorus maculatus \n",
       "  AH83359 | Ensembl 101 EnsDb for Xenopus tropicalis    \n",
       "  AH83360 | Ensembl 101 EnsDb for Zonotrichia albicollis\n",
       "  AH83361 | Ensembl 101 EnsDb for Zalophus californianus"
      ]
     },
     "metadata": {},
     "output_type": "display_data"
    }
   ],
   "source": [
    "ah <- AnnotationHub()\n",
    "ah"
   ]
  },
  {
   "cell_type": "markdown",
   "metadata": {},
   "source": [
    "This is the power of AnnotationHub -- there's many data providers, data classes, and organisms represented in the hub. You can access these elements using `$` accessor:"
   ]
  },
  {
   "cell_type": "code",
   "execution_count": 103,
   "metadata": {},
   "outputs": [
    {
     "data": {
      "text/html": [
       "<style>\n",
       ".list-inline {list-style: none; margin:0; padding: 0}\n",
       ".list-inline>li {display: inline-block}\n",
       ".list-inline>li:not(:last-child)::after {content: \"\\00b7\"; padding: 0 .5ex}\n",
       "</style>\n",
       "<ol class=list-inline><li>'UCSC'</li><li>'Ensembl'</li><li>'RefNet'</li><li>'Inparanoid8'</li><li>'NHLBI'</li><li>'ChEA'</li><li>'Pazar'</li><li>'NIH Pathway Interaction Database'</li><li>'Haemcode'</li><li>'BroadInstitute'</li><li>'PRIDE'</li><li>'Gencode'</li><li>'CRIBI'</li><li>'Genoscope'</li><li>'MISO, VAST-TOOLS, UCSC'</li><li>'UWashington'</li><li>'Stanford'</li><li>'dbSNP'</li><li>'BioMart'</li><li>'GeneOntology'</li><li>'KEGG'</li><li>'URGI'</li><li>'EMBL-EBI'</li><li>'MicrosporidiaDB'</li><li>'FungiDB'</li><li>'TriTrypDB'</li><li>'ToxoDB'</li><li>'AmoebaDB'</li><li>'PlasmoDB'</li><li>'PiroplasmaDB'</li><li>'CryptoDB'</li><li>'TrichDB'</li><li>'GiardiaDB'</li><li>'The Gene Ontology Consortium'</li><li>'ENCODE Project'</li><li>'SchistoDB'</li><li>'NCBI/UniProt'</li><li>'GENCODE'</li><li>'http://www.pantherdb.org'</li><li>'RMBase v2.0'</li><li>'snoRNAdb'</li><li>'tRNAdb'</li><li>'NCBI'</li><li>'ftp://ftp.ncbi.nlm.nih.gov/gene/DATA/'</li></ol>\n"
      ],
      "text/latex": [
       "\\begin{enumerate*}\n",
       "\\item 'UCSC'\n",
       "\\item 'Ensembl'\n",
       "\\item 'RefNet'\n",
       "\\item 'Inparanoid8'\n",
       "\\item 'NHLBI'\n",
       "\\item 'ChEA'\n",
       "\\item 'Pazar'\n",
       "\\item 'NIH Pathway Interaction Database'\n",
       "\\item 'Haemcode'\n",
       "\\item 'BroadInstitute'\n",
       "\\item 'PRIDE'\n",
       "\\item 'Gencode'\n",
       "\\item 'CRIBI'\n",
       "\\item 'Genoscope'\n",
       "\\item 'MISO, VAST-TOOLS, UCSC'\n",
       "\\item 'UWashington'\n",
       "\\item 'Stanford'\n",
       "\\item 'dbSNP'\n",
       "\\item 'BioMart'\n",
       "\\item 'GeneOntology'\n",
       "\\item 'KEGG'\n",
       "\\item 'URGI'\n",
       "\\item 'EMBL-EBI'\n",
       "\\item 'MicrosporidiaDB'\n",
       "\\item 'FungiDB'\n",
       "\\item 'TriTrypDB'\n",
       "\\item 'ToxoDB'\n",
       "\\item 'AmoebaDB'\n",
       "\\item 'PlasmoDB'\n",
       "\\item 'PiroplasmaDB'\n",
       "\\item 'CryptoDB'\n",
       "\\item 'TrichDB'\n",
       "\\item 'GiardiaDB'\n",
       "\\item 'The Gene Ontology Consortium'\n",
       "\\item 'ENCODE Project'\n",
       "\\item 'SchistoDB'\n",
       "\\item 'NCBI/UniProt'\n",
       "\\item 'GENCODE'\n",
       "\\item 'http://www.pantherdb.org'\n",
       "\\item 'RMBase v2.0'\n",
       "\\item 'snoRNAdb'\n",
       "\\item 'tRNAdb'\n",
       "\\item 'NCBI'\n",
       "\\item 'ftp://ftp.ncbi.nlm.nih.gov/gene/DATA/'\n",
       "\\end{enumerate*}\n"
      ],
      "text/markdown": [
       "1. 'UCSC'\n",
       "2. 'Ensembl'\n",
       "3. 'RefNet'\n",
       "4. 'Inparanoid8'\n",
       "5. 'NHLBI'\n",
       "6. 'ChEA'\n",
       "7. 'Pazar'\n",
       "8. 'NIH Pathway Interaction Database'\n",
       "9. 'Haemcode'\n",
       "10. 'BroadInstitute'\n",
       "11. 'PRIDE'\n",
       "12. 'Gencode'\n",
       "13. 'CRIBI'\n",
       "14. 'Genoscope'\n",
       "15. 'MISO, VAST-TOOLS, UCSC'\n",
       "16. 'UWashington'\n",
       "17. 'Stanford'\n",
       "18. 'dbSNP'\n",
       "19. 'BioMart'\n",
       "20. 'GeneOntology'\n",
       "21. 'KEGG'\n",
       "22. 'URGI'\n",
       "23. 'EMBL-EBI'\n",
       "24. 'MicrosporidiaDB'\n",
       "25. 'FungiDB'\n",
       "26. 'TriTrypDB'\n",
       "27. 'ToxoDB'\n",
       "28. 'AmoebaDB'\n",
       "29. 'PlasmoDB'\n",
       "30. 'PiroplasmaDB'\n",
       "31. 'CryptoDB'\n",
       "32. 'TrichDB'\n",
       "33. 'GiardiaDB'\n",
       "34. 'The Gene Ontology Consortium'\n",
       "35. 'ENCODE Project'\n",
       "36. 'SchistoDB'\n",
       "37. 'NCBI/UniProt'\n",
       "38. 'GENCODE'\n",
       "39. 'http://www.pantherdb.org'\n",
       "40. 'RMBase v2.0'\n",
       "41. 'snoRNAdb'\n",
       "42. 'tRNAdb'\n",
       "43. 'NCBI'\n",
       "44. 'ftp://ftp.ncbi.nlm.nih.gov/gene/DATA/'\n",
       "\n",
       "\n"
      ],
      "text/plain": [
       " [1] \"UCSC\"                                 \n",
       " [2] \"Ensembl\"                              \n",
       " [3] \"RefNet\"                               \n",
       " [4] \"Inparanoid8\"                          \n",
       " [5] \"NHLBI\"                                \n",
       " [6] \"ChEA\"                                 \n",
       " [7] \"Pazar\"                                \n",
       " [8] \"NIH Pathway Interaction Database\"     \n",
       " [9] \"Haemcode\"                             \n",
       "[10] \"BroadInstitute\"                       \n",
       "[11] \"PRIDE\"                                \n",
       "[12] \"Gencode\"                              \n",
       "[13] \"CRIBI\"                                \n",
       "[14] \"Genoscope\"                            \n",
       "[15] \"MISO, VAST-TOOLS, UCSC\"               \n",
       "[16] \"UWashington\"                          \n",
       "[17] \"Stanford\"                             \n",
       "[18] \"dbSNP\"                                \n",
       "[19] \"BioMart\"                              \n",
       "[20] \"GeneOntology\"                         \n",
       "[21] \"KEGG\"                                 \n",
       "[22] \"URGI\"                                 \n",
       "[23] \"EMBL-EBI\"                             \n",
       "[24] \"MicrosporidiaDB\"                      \n",
       "[25] \"FungiDB\"                              \n",
       "[26] \"TriTrypDB\"                            \n",
       "[27] \"ToxoDB\"                               \n",
       "[28] \"AmoebaDB\"                             \n",
       "[29] \"PlasmoDB\"                             \n",
       "[30] \"PiroplasmaDB\"                         \n",
       "[31] \"CryptoDB\"                             \n",
       "[32] \"TrichDB\"                              \n",
       "[33] \"GiardiaDB\"                            \n",
       "[34] \"The Gene Ontology Consortium\"         \n",
       "[35] \"ENCODE Project\"                       \n",
       "[36] \"SchistoDB\"                            \n",
       "[37] \"NCBI/UniProt\"                         \n",
       "[38] \"GENCODE\"                              \n",
       "[39] \"http://www.pantherdb.org\"             \n",
       "[40] \"RMBase v2.0\"                          \n",
       "[41] \"snoRNAdb\"                             \n",
       "[42] \"tRNAdb\"                               \n",
       "[43] \"NCBI\"                                 \n",
       "[44] \"ftp://ftp.ncbi.nlm.nih.gov/gene/DATA/\""
      ]
     },
     "metadata": {},
     "output_type": "display_data"
    }
   ],
   "source": [
    "unique(ah$dataprovider)"
   ]
  },
  {
   "cell_type": "code",
   "execution_count": 104,
   "metadata": {},
   "outputs": [
    {
     "data": {
      "text/html": [
       "<style>\n",
       ".list-inline {list-style: none; margin:0; padding: 0}\n",
       ".list-inline>li {display: inline-block}\n",
       ".list-inline>li:not(:last-child)::after {content: \"\\00b7\"; padding: 0 .5ex}\n",
       "</style>\n",
       "<ol class=list-inline><li>'GRanges'</li><li>'data.frame'</li><li>'Inparanoid8Db'</li><li>'TwoBitFile'</li><li>'ChainFile'</li><li>'SQLiteConnection'</li><li>'biopax'</li><li>'BigWigFile'</li><li>'AAStringSet'</li><li>'MSnSet'</li><li>'mzRpwiz'</li><li>'mzRident'</li><li>'list'</li><li>'TxDb'</li><li>'Rle'</li><li>'EnsDb'</li><li>'VcfFile'</li><li>'igraph'</li><li>'data.frame, DNAStringSet, GRanges'</li><li>'sqlite'</li><li>'data.table'</li><li>'character'</li><li>'SQLite'</li><li>'SQLiteFile'</li><li>'OrgDb'</li></ol>\n"
      ],
      "text/latex": [
       "\\begin{enumerate*}\n",
       "\\item 'GRanges'\n",
       "\\item 'data.frame'\n",
       "\\item 'Inparanoid8Db'\n",
       "\\item 'TwoBitFile'\n",
       "\\item 'ChainFile'\n",
       "\\item 'SQLiteConnection'\n",
       "\\item 'biopax'\n",
       "\\item 'BigWigFile'\n",
       "\\item 'AAStringSet'\n",
       "\\item 'MSnSet'\n",
       "\\item 'mzRpwiz'\n",
       "\\item 'mzRident'\n",
       "\\item 'list'\n",
       "\\item 'TxDb'\n",
       "\\item 'Rle'\n",
       "\\item 'EnsDb'\n",
       "\\item 'VcfFile'\n",
       "\\item 'igraph'\n",
       "\\item 'data.frame, DNAStringSet, GRanges'\n",
       "\\item 'sqlite'\n",
       "\\item 'data.table'\n",
       "\\item 'character'\n",
       "\\item 'SQLite'\n",
       "\\item 'SQLiteFile'\n",
       "\\item 'OrgDb'\n",
       "\\end{enumerate*}\n"
      ],
      "text/markdown": [
       "1. 'GRanges'\n",
       "2. 'data.frame'\n",
       "3. 'Inparanoid8Db'\n",
       "4. 'TwoBitFile'\n",
       "5. 'ChainFile'\n",
       "6. 'SQLiteConnection'\n",
       "7. 'biopax'\n",
       "8. 'BigWigFile'\n",
       "9. 'AAStringSet'\n",
       "10. 'MSnSet'\n",
       "11. 'mzRpwiz'\n",
       "12. 'mzRident'\n",
       "13. 'list'\n",
       "14. 'TxDb'\n",
       "15. 'Rle'\n",
       "16. 'EnsDb'\n",
       "17. 'VcfFile'\n",
       "18. 'igraph'\n",
       "19. 'data.frame, DNAStringSet, GRanges'\n",
       "20. 'sqlite'\n",
       "21. 'data.table'\n",
       "22. 'character'\n",
       "23. 'SQLite'\n",
       "24. 'SQLiteFile'\n",
       "25. 'OrgDb'\n",
       "\n",
       "\n"
      ],
      "text/plain": [
       " [1] \"GRanges\"                           \"data.frame\"                       \n",
       " [3] \"Inparanoid8Db\"                     \"TwoBitFile\"                       \n",
       " [5] \"ChainFile\"                         \"SQLiteConnection\"                 \n",
       " [7] \"biopax\"                            \"BigWigFile\"                       \n",
       " [9] \"AAStringSet\"                       \"MSnSet\"                           \n",
       "[11] \"mzRpwiz\"                           \"mzRident\"                         \n",
       "[13] \"list\"                              \"TxDb\"                             \n",
       "[15] \"Rle\"                               \"EnsDb\"                            \n",
       "[17] \"VcfFile\"                           \"igraph\"                           \n",
       "[19] \"data.frame, DNAStringSet, GRanges\" \"sqlite\"                           \n",
       "[21] \"data.table\"                        \"character\"                        \n",
       "[23] \"SQLite\"                            \"SQLiteFile\"                       \n",
       "[25] \"OrgDb\"                            "
      ]
     },
     "metadata": {},
     "output_type": "display_data"
    }
   ],
   "source": [
    "unique(ah$rdataclass)"
   ]
  },
  {
   "cell_type": "markdown",
   "metadata": {},
   "source": [
    "## OrgDb objects"
   ]
  },
  {
   "cell_type": "markdown",
   "metadata": {},
   "source": [
    "One of the options you can see here is `OrgDb`, which is an organism-specific, genome wide annotation. We can use it to map between different gene ID types using a central identifier (usually Entrez gene ID). \n",
    "\n",
    "OrgDb names are always of the form: org.<Ab>.<id>.db (e.g.org.Sc.sgd.db) where <Ab> is a 2-letter abbreviation of the organism and <id> is an abbreviation (in lower-case) describing the type of central identifier (`eg` for Entrez Gene ids).\n",
    "\n",
    "Let's see what our options are for `Homo sapiens` and `OrgDb`:"
   ]
  },
  {
   "cell_type": "code",
   "execution_count": 105,
   "metadata": {},
   "outputs": [
    {
     "data": {
      "text/plain": [
       "AnnotationHub with 1 record\n",
       "# snapshotDate(): 2020-04-27\n",
       "# names(): AH79577\n",
       "# $dataprovider: ftp://ftp.ncbi.nlm.nih.gov/gene/DATA/\n",
       "# $species: Homo sapiens\n",
       "# $rdataclass: OrgDb\n",
       "# $rdatadateadded: 2020-05-01\n",
       "# $title: org.Hs.eg.db.sqlite\n",
       "# $description: NCBI gene ID based annotations about Homo sapiens\n",
       "# $taxonomyid: 9606\n",
       "# $genome: NCBI genomes\n",
       "# $sourcetype: NCBI/ensembl\n",
       "# $sourceurl: ftp://ftp.ncbi.nlm.nih.gov/gene/DATA/, ftp://ftp.ensembl.org/p...\n",
       "# $sourcesize: NA\n",
       "# $tags: c(\"NCBI\", \"Gene\", \"Annotation\") \n",
       "# retrieve record with 'object[[\"AH79577\"]]' "
      ]
     },
     "metadata": {},
     "output_type": "display_data"
    }
   ],
   "source": [
    "AnnotationHub::query(ah, pattern = c(\"Homo sapiens\", \"OrgDb\"))"
   ]
  },
  {
   "cell_type": "markdown",
   "metadata": {},
   "source": [
    "So you can see here that there is an OrgDb for Homo sapiens that uses Entrez gene ID as the central identifier."
   ]
  },
  {
   "cell_type": "code",
   "execution_count": 106,
   "metadata": {},
   "outputs": [
    {
     "name": "stderr",
     "output_type": "stream",
     "text": [
      "loading from cache\n",
      "\n"
     ]
    }
   ],
   "source": [
    "#orgdb <- AnnotationHub::query(ah, pattern = c(\"Homo sapiens\", \"OrgDb\"))[['AH84122']]\n",
    "orgdb <- AnnotationHub::query(ah, pattern = c(\"Homo sapiens\", \"OrgDb\"))[[1]]\n"
   ]
  },
  {
   "cell_type": "code",
   "execution_count": 107,
   "metadata": {},
   "outputs": [
    {
     "name": "stderr",
     "output_type": "stream",
     "text": [
      "\n",
      "Please see: help('select') for usage information\n",
      "\n"
     ]
    },
    {
     "data": {
      "text/plain": [
       "OrgDb object:\n",
       "| DBSCHEMAVERSION: 2.1\n",
       "| Db type: OrgDb\n",
       "| Supporting package: AnnotationDbi\n",
       "| DBSCHEMA: HUMAN_DB\n",
       "| ORGANISM: Homo sapiens\n",
       "| SPECIES: Human\n",
       "| EGSOURCEDATE: 2019-Jul10\n",
       "| EGSOURCENAME: Entrez Gene\n",
       "| EGSOURCEURL: ftp://ftp.ncbi.nlm.nih.gov/gene/DATA\n",
       "| CENTRALID: EG\n",
       "| TAXID: 9606\n",
       "| GOSOURCENAME: Gene Ontology\n",
       "| GOSOURCEURL: http://current.geneontology.org/ontology/go.obo\n",
       "| GOSOURCEDATE: 2020-03-23\n",
       "| GOEGSOURCEDATE: 2019-Jul10\n",
       "| GOEGSOURCENAME: Entrez Gene\n",
       "| GOEGSOURCEURL: ftp://ftp.ncbi.nlm.nih.gov/gene/DATA\n",
       "| KEGGSOURCENAME: KEGG GENOME\n",
       "| KEGGSOURCEURL: ftp://ftp.genome.jp/pub/kegg/genomes\n",
       "| KEGGSOURCEDATE: 2011-Mar15\n",
       "| GPSOURCENAME: UCSC Genome Bioinformatics (Homo sapiens)\n",
       "| GPSOURCEURL: \n",
       "| GPSOURCEDATE: 2020-Jan28\n",
       "| ENSOURCEDATE: 2019-Dec11\n",
       "| ENSOURCENAME: Ensembl\n",
       "| ENSOURCEURL: ftp://ftp.ensembl.org/pub/current_fasta\n",
       "| UPSOURCENAME: Uniprot\n",
       "| UPSOURCEURL: http://www.UniProt.org/\n",
       "| UPSOURCEDATE: Fri Apr 24 12:27:04 2020"
      ]
     },
     "metadata": {},
     "output_type": "display_data"
    }
   ],
   "source": [
    "orgdb"
   ]
  },
  {
   "cell_type": "markdown",
   "metadata": {},
   "source": [
    "What types of data can we retrieve from the OrgDb? Let's use `columns()` to find out. "
   ]
  },
  {
   "cell_type": "code",
   "execution_count": 108,
   "metadata": {},
   "outputs": [
    {
     "data": {
      "text/html": [
       "<style>\n",
       ".list-inline {list-style: none; margin:0; padding: 0}\n",
       ".list-inline>li {display: inline-block}\n",
       ".list-inline>li:not(:last-child)::after {content: \"\\00b7\"; padding: 0 .5ex}\n",
       "</style>\n",
       "<ol class=list-inline><li>'ACCNUM'</li><li>'ALIAS'</li><li>'ENSEMBL'</li><li>'ENSEMBLPROT'</li><li>'ENSEMBLTRANS'</li><li>'ENTREZID'</li><li>'ENZYME'</li><li>'EVIDENCE'</li><li>'EVIDENCEALL'</li><li>'GENENAME'</li><li>'GO'</li><li>'GOALL'</li><li>'IPI'</li><li>'MAP'</li><li>'OMIM'</li><li>'ONTOLOGY'</li><li>'ONTOLOGYALL'</li><li>'PATH'</li><li>'PFAM'</li><li>'PMID'</li><li>'PROSITE'</li><li>'REFSEQ'</li><li>'SYMBOL'</li><li>'UCSCKG'</li><li>'UNIGENE'</li><li>'UNIPROT'</li></ol>\n"
      ],
      "text/latex": [
       "\\begin{enumerate*}\n",
       "\\item 'ACCNUM'\n",
       "\\item 'ALIAS'\n",
       "\\item 'ENSEMBL'\n",
       "\\item 'ENSEMBLPROT'\n",
       "\\item 'ENSEMBLTRANS'\n",
       "\\item 'ENTREZID'\n",
       "\\item 'ENZYME'\n",
       "\\item 'EVIDENCE'\n",
       "\\item 'EVIDENCEALL'\n",
       "\\item 'GENENAME'\n",
       "\\item 'GO'\n",
       "\\item 'GOALL'\n",
       "\\item 'IPI'\n",
       "\\item 'MAP'\n",
       "\\item 'OMIM'\n",
       "\\item 'ONTOLOGY'\n",
       "\\item 'ONTOLOGYALL'\n",
       "\\item 'PATH'\n",
       "\\item 'PFAM'\n",
       "\\item 'PMID'\n",
       "\\item 'PROSITE'\n",
       "\\item 'REFSEQ'\n",
       "\\item 'SYMBOL'\n",
       "\\item 'UCSCKG'\n",
       "\\item 'UNIGENE'\n",
       "\\item 'UNIPROT'\n",
       "\\end{enumerate*}\n"
      ],
      "text/markdown": [
       "1. 'ACCNUM'\n",
       "2. 'ALIAS'\n",
       "3. 'ENSEMBL'\n",
       "4. 'ENSEMBLPROT'\n",
       "5. 'ENSEMBLTRANS'\n",
       "6. 'ENTREZID'\n",
       "7. 'ENZYME'\n",
       "8. 'EVIDENCE'\n",
       "9. 'EVIDENCEALL'\n",
       "10. 'GENENAME'\n",
       "11. 'GO'\n",
       "12. 'GOALL'\n",
       "13. 'IPI'\n",
       "14. 'MAP'\n",
       "15. 'OMIM'\n",
       "16. 'ONTOLOGY'\n",
       "17. 'ONTOLOGYALL'\n",
       "18. 'PATH'\n",
       "19. 'PFAM'\n",
       "20. 'PMID'\n",
       "21. 'PROSITE'\n",
       "22. 'REFSEQ'\n",
       "23. 'SYMBOL'\n",
       "24. 'UCSCKG'\n",
       "25. 'UNIGENE'\n",
       "26. 'UNIPROT'\n",
       "\n",
       "\n"
      ],
      "text/plain": [
       " [1] \"ACCNUM\"       \"ALIAS\"        \"ENSEMBL\"      \"ENSEMBLPROT\"  \"ENSEMBLTRANS\"\n",
       " [6] \"ENTREZID\"     \"ENZYME\"       \"EVIDENCE\"     \"EVIDENCEALL\"  \"GENENAME\"    \n",
       "[11] \"GO\"           \"GOALL\"        \"IPI\"          \"MAP\"          \"OMIM\"        \n",
       "[16] \"ONTOLOGY\"     \"ONTOLOGYALL\"  \"PATH\"         \"PFAM\"         \"PMID\"        \n",
       "[21] \"PROSITE\"      \"REFSEQ\"       \"SYMBOL\"       \"UCSCKG\"       \"UNIGENE\"     \n",
       "[26] \"UNIPROT\"     "
      ]
     },
     "metadata": {},
     "output_type": "display_data"
    }
   ],
   "source": [
    "columns(orgdb)"
   ]
  },
  {
   "cell_type": "markdown",
   "metadata": {},
   "source": [
    "`keytypes` is a similar method and will tell you which entries we can use as `keys` with the OrgDb -- these are distinct methods because the keys and the columns aren't always the same (but they can be)."
   ]
  },
  {
   "cell_type": "code",
   "execution_count": 109,
   "metadata": {},
   "outputs": [
    {
     "data": {
      "text/html": [
       "<style>\n",
       ".list-inline {list-style: none; margin:0; padding: 0}\n",
       ".list-inline>li {display: inline-block}\n",
       ".list-inline>li:not(:last-child)::after {content: \"\\00b7\"; padding: 0 .5ex}\n",
       "</style>\n",
       "<ol class=list-inline><li>'ACCNUM'</li><li>'ALIAS'</li><li>'ENSEMBL'</li><li>'ENSEMBLPROT'</li><li>'ENSEMBLTRANS'</li><li>'ENTREZID'</li><li>'ENZYME'</li><li>'EVIDENCE'</li><li>'EVIDENCEALL'</li><li>'GENENAME'</li><li>'GO'</li><li>'GOALL'</li><li>'IPI'</li><li>'MAP'</li><li>'OMIM'</li><li>'ONTOLOGY'</li><li>'ONTOLOGYALL'</li><li>'PATH'</li><li>'PFAM'</li><li>'PMID'</li><li>'PROSITE'</li><li>'REFSEQ'</li><li>'SYMBOL'</li><li>'UCSCKG'</li><li>'UNIGENE'</li><li>'UNIPROT'</li></ol>\n"
      ],
      "text/latex": [
       "\\begin{enumerate*}\n",
       "\\item 'ACCNUM'\n",
       "\\item 'ALIAS'\n",
       "\\item 'ENSEMBL'\n",
       "\\item 'ENSEMBLPROT'\n",
       "\\item 'ENSEMBLTRANS'\n",
       "\\item 'ENTREZID'\n",
       "\\item 'ENZYME'\n",
       "\\item 'EVIDENCE'\n",
       "\\item 'EVIDENCEALL'\n",
       "\\item 'GENENAME'\n",
       "\\item 'GO'\n",
       "\\item 'GOALL'\n",
       "\\item 'IPI'\n",
       "\\item 'MAP'\n",
       "\\item 'OMIM'\n",
       "\\item 'ONTOLOGY'\n",
       "\\item 'ONTOLOGYALL'\n",
       "\\item 'PATH'\n",
       "\\item 'PFAM'\n",
       "\\item 'PMID'\n",
       "\\item 'PROSITE'\n",
       "\\item 'REFSEQ'\n",
       "\\item 'SYMBOL'\n",
       "\\item 'UCSCKG'\n",
       "\\item 'UNIGENE'\n",
       "\\item 'UNIPROT'\n",
       "\\end{enumerate*}\n"
      ],
      "text/markdown": [
       "1. 'ACCNUM'\n",
       "2. 'ALIAS'\n",
       "3. 'ENSEMBL'\n",
       "4. 'ENSEMBLPROT'\n",
       "5. 'ENSEMBLTRANS'\n",
       "6. 'ENTREZID'\n",
       "7. 'ENZYME'\n",
       "8. 'EVIDENCE'\n",
       "9. 'EVIDENCEALL'\n",
       "10. 'GENENAME'\n",
       "11. 'GO'\n",
       "12. 'GOALL'\n",
       "13. 'IPI'\n",
       "14. 'MAP'\n",
       "15. 'OMIM'\n",
       "16. 'ONTOLOGY'\n",
       "17. 'ONTOLOGYALL'\n",
       "18. 'PATH'\n",
       "19. 'PFAM'\n",
       "20. 'PMID'\n",
       "21. 'PROSITE'\n",
       "22. 'REFSEQ'\n",
       "23. 'SYMBOL'\n",
       "24. 'UCSCKG'\n",
       "25. 'UNIGENE'\n",
       "26. 'UNIPROT'\n",
       "\n",
       "\n"
      ],
      "text/plain": [
       " [1] \"ACCNUM\"       \"ALIAS\"        \"ENSEMBL\"      \"ENSEMBLPROT\"  \"ENSEMBLTRANS\"\n",
       " [6] \"ENTREZID\"     \"ENZYME\"       \"EVIDENCE\"     \"EVIDENCEALL\"  \"GENENAME\"    \n",
       "[11] \"GO\"           \"GOALL\"        \"IPI\"          \"MAP\"          \"OMIM\"        \n",
       "[16] \"ONTOLOGY\"     \"ONTOLOGYALL\"  \"PATH\"         \"PFAM\"         \"PMID\"        \n",
       "[21] \"PROSITE\"      \"REFSEQ\"       \"SYMBOL\"       \"UCSCKG\"       \"UNIGENE\"     \n",
       "[26] \"UNIPROT\"     "
      ]
     },
     "metadata": {},
     "output_type": "display_data"
    }
   ],
   "source": [
    "keytypes(orgdb)"
   ]
  },
  {
   "cell_type": "markdown",
   "metadata": {},
   "source": [
    "Let's look at a few examples of what the key entries look like"
   ]
  },
  {
   "cell_type": "code",
   "execution_count": 110,
   "metadata": {},
   "outputs": [
    {
     "data": {
      "text/html": [
       "<style>\n",
       ".list-inline {list-style: none; margin:0; padding: 0}\n",
       ".list-inline>li {display: inline-block}\n",
       ".list-inline>li:not(:last-child)::after {content: \"\\00b7\"; padding: 0 .5ex}\n",
       "</style>\n",
       "<ol class=list-inline><li>'A1BG'</li><li>'A2M'</li><li>'A2MP1'</li><li>'NAT1'</li><li>'NAT2'</li><li>'NATP'</li></ol>\n"
      ],
      "text/latex": [
       "\\begin{enumerate*}\n",
       "\\item 'A1BG'\n",
       "\\item 'A2M'\n",
       "\\item 'A2MP1'\n",
       "\\item 'NAT1'\n",
       "\\item 'NAT2'\n",
       "\\item 'NATP'\n",
       "\\end{enumerate*}\n"
      ],
      "text/markdown": [
       "1. 'A1BG'\n",
       "2. 'A2M'\n",
       "3. 'A2MP1'\n",
       "4. 'NAT1'\n",
       "5. 'NAT2'\n",
       "6. 'NATP'\n",
       "\n",
       "\n"
      ],
      "text/plain": [
       "[1] \"A1BG\"  \"A2M\"   \"A2MP1\" \"NAT1\"  \"NAT2\"  \"NATP\" "
      ]
     },
     "metadata": {},
     "output_type": "display_data"
    }
   ],
   "source": [
    "head(keys(orgdb, keytype=\"SYMBOL\"))"
   ]
  },
  {
   "cell_type": "markdown",
   "metadata": {},
   "source": [
    "The more likely use case is that you are hoping to convert between different ID types (like we did with biomaRt). One way to do this is the `select()` function."
   ]
  },
  {
   "cell_type": "code",
   "execution_count": 111,
   "metadata": {},
   "outputs": [
    {
     "name": "stderr",
     "output_type": "stream",
     "text": [
      "'select()' returned 1:1 mapping between keys and columns\n",
      "\n"
     ]
    },
    {
     "data": {
      "text/html": [
       "<table>\n",
       "<caption>A data.frame: 5 × 3</caption>\n",
       "<thead>\n",
       "\t<tr><th scope=col>SYMBOL</th><th scope=col>ENSEMBL</th><th scope=col>ENTREZID</th></tr>\n",
       "\t<tr><th scope=col>&lt;chr&gt;</th><th scope=col>&lt;chr&gt;</th><th scope=col>&lt;chr&gt;</th></tr>\n",
       "</thead>\n",
       "<tbody>\n",
       "\t<tr><td>PCBP1</td><td>ENSG00000169564</td><td>5093 </td></tr>\n",
       "\t<tr><td>RER1 </td><td>ENSG00000157916</td><td>11079</td></tr>\n",
       "\t<tr><td>RPN1 </td><td>ENSG00000163902</td><td>6184 </td></tr>\n",
       "\t<tr><td>PUM1 </td><td>ENSG00000134644</td><td>9698 </td></tr>\n",
       "\t<tr><td>IPO8 </td><td>ENSG00000133704</td><td>10526</td></tr>\n",
       "</tbody>\n",
       "</table>\n"
      ],
      "text/latex": [
       "A data.frame: 5 × 3\n",
       "\\begin{tabular}{lll}\n",
       " SYMBOL & ENSEMBL & ENTREZID\\\\\n",
       " <chr> & <chr> & <chr>\\\\\n",
       "\\hline\n",
       "\t PCBP1 & ENSG00000169564 & 5093 \\\\\n",
       "\t RER1  & ENSG00000157916 & 11079\\\\\n",
       "\t RPN1  & ENSG00000163902 & 6184 \\\\\n",
       "\t PUM1  & ENSG00000134644 & 9698 \\\\\n",
       "\t IPO8  & ENSG00000133704 & 10526\\\\\n",
       "\\end{tabular}\n"
      ],
      "text/markdown": [
       "\n",
       "A data.frame: 5 × 3\n",
       "\n",
       "| SYMBOL &lt;chr&gt; | ENSEMBL &lt;chr&gt; | ENTREZID &lt;chr&gt; |\n",
       "|---|---|---|\n",
       "| PCBP1 | ENSG00000169564 | 5093  |\n",
       "| RER1  | ENSG00000157916 | 11079 |\n",
       "| RPN1  | ENSG00000163902 | 6184  |\n",
       "| PUM1  | ENSG00000134644 | 9698  |\n",
       "| IPO8  | ENSG00000133704 | 10526 |\n",
       "\n"
      ],
      "text/plain": [
       "  SYMBOL ENSEMBL         ENTREZID\n",
       "1 PCBP1  ENSG00000169564 5093    \n",
       "2 RER1   ENSG00000157916 11079   \n",
       "3 RPN1   ENSG00000163902 6184    \n",
       "4 PUM1   ENSG00000134644 9698    \n",
       "5 IPO8   ENSG00000133704 10526   "
      ]
     },
     "metadata": {},
     "output_type": "display_data"
    }
   ],
   "source": [
    "select(orgdb, keys=housekeeping, \n",
    "       columns=c(\"ENSEMBL\",\"ENTREZID\"), \n",
    "       keytype=\"SYMBOL\")"
   ]
  },
  {
   "cell_type": "markdown",
   "metadata": {},
   "source": [
    "As you can see, this returned a 1:1 mapping between keys and columns, but this might not always be the case. What happens if we use \"GO\" as one of the columns?"
   ]
  },
  {
   "cell_type": "code",
   "execution_count": 112,
   "metadata": {},
   "outputs": [
    {
     "name": "stderr",
     "output_type": "stream",
     "text": [
      "'select()' returned 1:many mapping between keys and columns\n",
      "\n"
     ]
    },
    {
     "data": {
      "text/html": [
       "<table>\n",
       "<caption>A data.frame: 85 × 5</caption>\n",
       "<thead>\n",
       "\t<tr><th scope=col>SYMBOL</th><th scope=col>ENSEMBL</th><th scope=col>GO</th><th scope=col>EVIDENCE</th><th scope=col>ONTOLOGY</th></tr>\n",
       "\t<tr><th scope=col>&lt;chr&gt;</th><th scope=col>&lt;chr&gt;</th><th scope=col>&lt;chr&gt;</th><th scope=col>&lt;chr&gt;</th><th scope=col>&lt;chr&gt;</th></tr>\n",
       "</thead>\n",
       "<tbody>\n",
       "\t<tr><td>PCBP1</td><td>ENSG00000169564</td><td>GO:0000398</td><td>TAS</td><td>BP</td></tr>\n",
       "\t<tr><td>PCBP1</td><td>ENSG00000169564</td><td>GO:0000981</td><td>IEA</td><td>MF</td></tr>\n",
       "\t<tr><td>PCBP1</td><td>ENSG00000169564</td><td>GO:0003697</td><td>IDA</td><td>MF</td></tr>\n",
       "\t<tr><td>PCBP1</td><td>ENSG00000169564</td><td>GO:0003723</td><td>HDA</td><td>MF</td></tr>\n",
       "\t<tr><td>PCBP1</td><td>ENSG00000169564</td><td>GO:0003723</td><td>IDA</td><td>MF</td></tr>\n",
       "\t<tr><td>PCBP1</td><td>ENSG00000169564</td><td>GO:0003729</td><td>IDA</td><td>MF</td></tr>\n",
       "\t<tr><td>PCBP1</td><td>ENSG00000169564</td><td>GO:0005515</td><td>IPI</td><td>MF</td></tr>\n",
       "\t<tr><td>PCBP1</td><td>ENSG00000169564</td><td>GO:0005654</td><td>IDA</td><td>CC</td></tr>\n",
       "\t<tr><td>PCBP1</td><td>ENSG00000169564</td><td>GO:0005654</td><td>TAS</td><td>CC</td></tr>\n",
       "\t<tr><td>PCBP1</td><td>ENSG00000169564</td><td>GO:0005737</td><td>IDA</td><td>CC</td></tr>\n",
       "\t<tr><td>PCBP1</td><td>ENSG00000169564</td><td>GO:0005829</td><td>IDA</td><td>CC</td></tr>\n",
       "\t<tr><td>PCBP1</td><td>ENSG00000169564</td><td>GO:0016020</td><td>HDA</td><td>CC</td></tr>\n",
       "\t<tr><td>PCBP1</td><td>ENSG00000169564</td><td>GO:0016070</td><td>TAS</td><td>BP</td></tr>\n",
       "\t<tr><td>PCBP1</td><td>ENSG00000169564</td><td>GO:0016607</td><td>IDA</td><td>CC</td></tr>\n",
       "\t<tr><td>PCBP1</td><td>ENSG00000169564</td><td>GO:0036464</td><td>IDA</td><td>CC</td></tr>\n",
       "\t<tr><td>PCBP1</td><td>ENSG00000169564</td><td>GO:0039694</td><td>IDA</td><td>BP</td></tr>\n",
       "\t<tr><td>PCBP1</td><td>ENSG00000169564</td><td>GO:0045296</td><td>HDA</td><td>MF</td></tr>\n",
       "\t<tr><td>PCBP1</td><td>ENSG00000169564</td><td>GO:0045944</td><td>IEA</td><td>BP</td></tr>\n",
       "\t<tr><td>PCBP1</td><td>ENSG00000169564</td><td>GO:0070062</td><td>HDA</td><td>CC</td></tr>\n",
       "\t<tr><td>PCBP1</td><td>ENSG00000169564</td><td>GO:0098847</td><td>IEA</td><td>MF</td></tr>\n",
       "\t<tr><td>RER1 </td><td>ENSG00000157916</td><td>GO:0003674</td><td>ND </td><td>MF</td></tr>\n",
       "\t<tr><td>RER1 </td><td>ENSG00000157916</td><td>GO:0005783</td><td>IEA</td><td>CC</td></tr>\n",
       "\t<tr><td>RER1 </td><td>ENSG00000157916</td><td>GO:0005793</td><td>IEA</td><td>CC</td></tr>\n",
       "\t<tr><td>RER1 </td><td>ENSG00000157916</td><td>GO:0005794</td><td>IDA</td><td>CC</td></tr>\n",
       "\t<tr><td>RER1 </td><td>ENSG00000157916</td><td>GO:0005886</td><td>IEA</td><td>CC</td></tr>\n",
       "\t<tr><td>RER1 </td><td>ENSG00000157916</td><td>GO:0006621</td><td>IBA</td><td>BP</td></tr>\n",
       "\t<tr><td>RER1 </td><td>ENSG00000157916</td><td>GO:0006890</td><td>IBA</td><td>BP</td></tr>\n",
       "\t<tr><td>RER1 </td><td>ENSG00000157916</td><td>GO:0006890</td><td>IDA</td><td>BP</td></tr>\n",
       "\t<tr><td>RER1 </td><td>ENSG00000157916</td><td>GO:0009986</td><td>IEA</td><td>CC</td></tr>\n",
       "\t<tr><td>RER1 </td><td>ENSG00000157916</td><td>GO:0030173</td><td>IBA</td><td>CC</td></tr>\n",
       "\t<tr><td>⋮</td><td>⋮</td><td>⋮</td><td>⋮</td><td>⋮</td></tr>\n",
       "\t<tr><td>PUM1</td><td>ENSG00000134644</td><td>GO:0005634</td><td>IDA</td><td>CC</td></tr>\n",
       "\t<tr><td>PUM1</td><td>ENSG00000134644</td><td>GO:0005654</td><td>IDA</td><td>CC</td></tr>\n",
       "\t<tr><td>PUM1</td><td>ENSG00000134644</td><td>GO:0005829</td><td>IDA</td><td>CC</td></tr>\n",
       "\t<tr><td>PUM1</td><td>ENSG00000134644</td><td>GO:0005829</td><td>TAS</td><td>CC</td></tr>\n",
       "\t<tr><td>PUM1</td><td>ENSG00000134644</td><td>GO:0007283</td><td>ISS</td><td>BP</td></tr>\n",
       "\t<tr><td>PUM1</td><td>ENSG00000134644</td><td>GO:0008344</td><td>ISS</td><td>BP</td></tr>\n",
       "\t<tr><td>PUM1</td><td>ENSG00000134644</td><td>GO:0010494</td><td>IDA</td><td>CC</td></tr>\n",
       "\t<tr><td>PUM1</td><td>ENSG00000134644</td><td>GO:0010608</td><td>IDA</td><td>BP</td></tr>\n",
       "\t<tr><td>PUM1</td><td>ENSG00000134644</td><td>GO:0010608</td><td>IMP</td><td>BP</td></tr>\n",
       "\t<tr><td>PUM1</td><td>ENSG00000134644</td><td>GO:0016441</td><td>ISS</td><td>BP</td></tr>\n",
       "\t<tr><td>PUM1</td><td>ENSG00000134644</td><td>GO:0016607</td><td>IDA</td><td>CC</td></tr>\n",
       "\t<tr><td>PUM1</td><td>ENSG00000134644</td><td>GO:0035196</td><td>IMP</td><td>BP</td></tr>\n",
       "\t<tr><td>PUM1</td><td>ENSG00000134644</td><td>GO:0035198</td><td>IDA</td><td>MF</td></tr>\n",
       "\t<tr><td>PUM1</td><td>ENSG00000134644</td><td>GO:0043488</td><td>IDA</td><td>BP</td></tr>\n",
       "\t<tr><td>PUM1</td><td>ENSG00000134644</td><td>GO:0048863</td><td>ISS</td><td>BP</td></tr>\n",
       "\t<tr><td>PUM1</td><td>ENSG00000134644</td><td>GO:0051726</td><td>IDA</td><td>BP</td></tr>\n",
       "\t<tr><td>PUM1</td><td>ENSG00000134644</td><td>GO:0051983</td><td>IDA</td><td>BP</td></tr>\n",
       "\t<tr><td>PUM1</td><td>ENSG00000134644</td><td>GO:0060964</td><td>TAS</td><td>BP</td></tr>\n",
       "\t<tr><td>PUM1</td><td>ENSG00000134644</td><td>GO:0061157</td><td>ISS</td><td>BP</td></tr>\n",
       "\t<tr><td>PUM1</td><td>ENSG00000134644</td><td>GO:1900246</td><td>IDA</td><td>BP</td></tr>\n",
       "\t<tr><td>PUM1</td><td>ENSG00000134644</td><td>GO:2000637</td><td>IDA</td><td>BP</td></tr>\n",
       "\t<tr><td>IPO8</td><td>ENSG00000133704</td><td>GO:0005515</td><td>IPI</td><td>MF</td></tr>\n",
       "\t<tr><td>IPO8</td><td>ENSG00000133704</td><td>GO:0005635</td><td>IBA</td><td>CC</td></tr>\n",
       "\t<tr><td>IPO8</td><td>ENSG00000133704</td><td>GO:0005654</td><td>TAS</td><td>CC</td></tr>\n",
       "\t<tr><td>IPO8</td><td>ENSG00000133704</td><td>GO:0005829</td><td>IBA</td><td>CC</td></tr>\n",
       "\t<tr><td>IPO8</td><td>ENSG00000133704</td><td>GO:0005829</td><td>TAS</td><td>CC</td></tr>\n",
       "\t<tr><td>IPO8</td><td>ENSG00000133704</td><td>GO:0006606</td><td>IBA</td><td>BP</td></tr>\n",
       "\t<tr><td>IPO8</td><td>ENSG00000133704</td><td>GO:0007165</td><td>TAS</td><td>BP</td></tr>\n",
       "\t<tr><td>IPO8</td><td>ENSG00000133704</td><td>GO:0008536</td><td>IEA</td><td>MF</td></tr>\n",
       "\t<tr><td>IPO8</td><td>ENSG00000133704</td><td>GO:0060964</td><td>TAS</td><td>BP</td></tr>\n",
       "</tbody>\n",
       "</table>\n"
      ],
      "text/latex": [
       "A data.frame: 85 × 5\n",
       "\\begin{tabular}{lllll}\n",
       " SYMBOL & ENSEMBL & GO & EVIDENCE & ONTOLOGY\\\\\n",
       " <chr> & <chr> & <chr> & <chr> & <chr>\\\\\n",
       "\\hline\n",
       "\t PCBP1 & ENSG00000169564 & GO:0000398 & TAS & BP\\\\\n",
       "\t PCBP1 & ENSG00000169564 & GO:0000981 & IEA & MF\\\\\n",
       "\t PCBP1 & ENSG00000169564 & GO:0003697 & IDA & MF\\\\\n",
       "\t PCBP1 & ENSG00000169564 & GO:0003723 & HDA & MF\\\\\n",
       "\t PCBP1 & ENSG00000169564 & GO:0003723 & IDA & MF\\\\\n",
       "\t PCBP1 & ENSG00000169564 & GO:0003729 & IDA & MF\\\\\n",
       "\t PCBP1 & ENSG00000169564 & GO:0005515 & IPI & MF\\\\\n",
       "\t PCBP1 & ENSG00000169564 & GO:0005654 & IDA & CC\\\\\n",
       "\t PCBP1 & ENSG00000169564 & GO:0005654 & TAS & CC\\\\\n",
       "\t PCBP1 & ENSG00000169564 & GO:0005737 & IDA & CC\\\\\n",
       "\t PCBP1 & ENSG00000169564 & GO:0005829 & IDA & CC\\\\\n",
       "\t PCBP1 & ENSG00000169564 & GO:0016020 & HDA & CC\\\\\n",
       "\t PCBP1 & ENSG00000169564 & GO:0016070 & TAS & BP\\\\\n",
       "\t PCBP1 & ENSG00000169564 & GO:0016607 & IDA & CC\\\\\n",
       "\t PCBP1 & ENSG00000169564 & GO:0036464 & IDA & CC\\\\\n",
       "\t PCBP1 & ENSG00000169564 & GO:0039694 & IDA & BP\\\\\n",
       "\t PCBP1 & ENSG00000169564 & GO:0045296 & HDA & MF\\\\\n",
       "\t PCBP1 & ENSG00000169564 & GO:0045944 & IEA & BP\\\\\n",
       "\t PCBP1 & ENSG00000169564 & GO:0070062 & HDA & CC\\\\\n",
       "\t PCBP1 & ENSG00000169564 & GO:0098847 & IEA & MF\\\\\n",
       "\t RER1  & ENSG00000157916 & GO:0003674 & ND  & MF\\\\\n",
       "\t RER1  & ENSG00000157916 & GO:0005783 & IEA & CC\\\\\n",
       "\t RER1  & ENSG00000157916 & GO:0005793 & IEA & CC\\\\\n",
       "\t RER1  & ENSG00000157916 & GO:0005794 & IDA & CC\\\\\n",
       "\t RER1  & ENSG00000157916 & GO:0005886 & IEA & CC\\\\\n",
       "\t RER1  & ENSG00000157916 & GO:0006621 & IBA & BP\\\\\n",
       "\t RER1  & ENSG00000157916 & GO:0006890 & IBA & BP\\\\\n",
       "\t RER1  & ENSG00000157916 & GO:0006890 & IDA & BP\\\\\n",
       "\t RER1  & ENSG00000157916 & GO:0009986 & IEA & CC\\\\\n",
       "\t RER1  & ENSG00000157916 & GO:0030173 & IBA & CC\\\\\n",
       "\t ⋮ & ⋮ & ⋮ & ⋮ & ⋮\\\\\n",
       "\t PUM1 & ENSG00000134644 & GO:0005634 & IDA & CC\\\\\n",
       "\t PUM1 & ENSG00000134644 & GO:0005654 & IDA & CC\\\\\n",
       "\t PUM1 & ENSG00000134644 & GO:0005829 & IDA & CC\\\\\n",
       "\t PUM1 & ENSG00000134644 & GO:0005829 & TAS & CC\\\\\n",
       "\t PUM1 & ENSG00000134644 & GO:0007283 & ISS & BP\\\\\n",
       "\t PUM1 & ENSG00000134644 & GO:0008344 & ISS & BP\\\\\n",
       "\t PUM1 & ENSG00000134644 & GO:0010494 & IDA & CC\\\\\n",
       "\t PUM1 & ENSG00000134644 & GO:0010608 & IDA & BP\\\\\n",
       "\t PUM1 & ENSG00000134644 & GO:0010608 & IMP & BP\\\\\n",
       "\t PUM1 & ENSG00000134644 & GO:0016441 & ISS & BP\\\\\n",
       "\t PUM1 & ENSG00000134644 & GO:0016607 & IDA & CC\\\\\n",
       "\t PUM1 & ENSG00000134644 & GO:0035196 & IMP & BP\\\\\n",
       "\t PUM1 & ENSG00000134644 & GO:0035198 & IDA & MF\\\\\n",
       "\t PUM1 & ENSG00000134644 & GO:0043488 & IDA & BP\\\\\n",
       "\t PUM1 & ENSG00000134644 & GO:0048863 & ISS & BP\\\\\n",
       "\t PUM1 & ENSG00000134644 & GO:0051726 & IDA & BP\\\\\n",
       "\t PUM1 & ENSG00000134644 & GO:0051983 & IDA & BP\\\\\n",
       "\t PUM1 & ENSG00000134644 & GO:0060964 & TAS & BP\\\\\n",
       "\t PUM1 & ENSG00000134644 & GO:0061157 & ISS & BP\\\\\n",
       "\t PUM1 & ENSG00000134644 & GO:1900246 & IDA & BP\\\\\n",
       "\t PUM1 & ENSG00000134644 & GO:2000637 & IDA & BP\\\\\n",
       "\t IPO8 & ENSG00000133704 & GO:0005515 & IPI & MF\\\\\n",
       "\t IPO8 & ENSG00000133704 & GO:0005635 & IBA & CC\\\\\n",
       "\t IPO8 & ENSG00000133704 & GO:0005654 & TAS & CC\\\\\n",
       "\t IPO8 & ENSG00000133704 & GO:0005829 & IBA & CC\\\\\n",
       "\t IPO8 & ENSG00000133704 & GO:0005829 & TAS & CC\\\\\n",
       "\t IPO8 & ENSG00000133704 & GO:0006606 & IBA & BP\\\\\n",
       "\t IPO8 & ENSG00000133704 & GO:0007165 & TAS & BP\\\\\n",
       "\t IPO8 & ENSG00000133704 & GO:0008536 & IEA & MF\\\\\n",
       "\t IPO8 & ENSG00000133704 & GO:0060964 & TAS & BP\\\\\n",
       "\\end{tabular}\n"
      ],
      "text/markdown": [
       "\n",
       "A data.frame: 85 × 5\n",
       "\n",
       "| SYMBOL &lt;chr&gt; | ENSEMBL &lt;chr&gt; | GO &lt;chr&gt; | EVIDENCE &lt;chr&gt; | ONTOLOGY &lt;chr&gt; |\n",
       "|---|---|---|---|---|\n",
       "| PCBP1 | ENSG00000169564 | GO:0000398 | TAS | BP |\n",
       "| PCBP1 | ENSG00000169564 | GO:0000981 | IEA | MF |\n",
       "| PCBP1 | ENSG00000169564 | GO:0003697 | IDA | MF |\n",
       "| PCBP1 | ENSG00000169564 | GO:0003723 | HDA | MF |\n",
       "| PCBP1 | ENSG00000169564 | GO:0003723 | IDA | MF |\n",
       "| PCBP1 | ENSG00000169564 | GO:0003729 | IDA | MF |\n",
       "| PCBP1 | ENSG00000169564 | GO:0005515 | IPI | MF |\n",
       "| PCBP1 | ENSG00000169564 | GO:0005654 | IDA | CC |\n",
       "| PCBP1 | ENSG00000169564 | GO:0005654 | TAS | CC |\n",
       "| PCBP1 | ENSG00000169564 | GO:0005737 | IDA | CC |\n",
       "| PCBP1 | ENSG00000169564 | GO:0005829 | IDA | CC |\n",
       "| PCBP1 | ENSG00000169564 | GO:0016020 | HDA | CC |\n",
       "| PCBP1 | ENSG00000169564 | GO:0016070 | TAS | BP |\n",
       "| PCBP1 | ENSG00000169564 | GO:0016607 | IDA | CC |\n",
       "| PCBP1 | ENSG00000169564 | GO:0036464 | IDA | CC |\n",
       "| PCBP1 | ENSG00000169564 | GO:0039694 | IDA | BP |\n",
       "| PCBP1 | ENSG00000169564 | GO:0045296 | HDA | MF |\n",
       "| PCBP1 | ENSG00000169564 | GO:0045944 | IEA | BP |\n",
       "| PCBP1 | ENSG00000169564 | GO:0070062 | HDA | CC |\n",
       "| PCBP1 | ENSG00000169564 | GO:0098847 | IEA | MF |\n",
       "| RER1  | ENSG00000157916 | GO:0003674 | ND  | MF |\n",
       "| RER1  | ENSG00000157916 | GO:0005783 | IEA | CC |\n",
       "| RER1  | ENSG00000157916 | GO:0005793 | IEA | CC |\n",
       "| RER1  | ENSG00000157916 | GO:0005794 | IDA | CC |\n",
       "| RER1  | ENSG00000157916 | GO:0005886 | IEA | CC |\n",
       "| RER1  | ENSG00000157916 | GO:0006621 | IBA | BP |\n",
       "| RER1  | ENSG00000157916 | GO:0006890 | IBA | BP |\n",
       "| RER1  | ENSG00000157916 | GO:0006890 | IDA | BP |\n",
       "| RER1  | ENSG00000157916 | GO:0009986 | IEA | CC |\n",
       "| RER1  | ENSG00000157916 | GO:0030173 | IBA | CC |\n",
       "| ⋮ | ⋮ | ⋮ | ⋮ | ⋮ |\n",
       "| PUM1 | ENSG00000134644 | GO:0005634 | IDA | CC |\n",
       "| PUM1 | ENSG00000134644 | GO:0005654 | IDA | CC |\n",
       "| PUM1 | ENSG00000134644 | GO:0005829 | IDA | CC |\n",
       "| PUM1 | ENSG00000134644 | GO:0005829 | TAS | CC |\n",
       "| PUM1 | ENSG00000134644 | GO:0007283 | ISS | BP |\n",
       "| PUM1 | ENSG00000134644 | GO:0008344 | ISS | BP |\n",
       "| PUM1 | ENSG00000134644 | GO:0010494 | IDA | CC |\n",
       "| PUM1 | ENSG00000134644 | GO:0010608 | IDA | BP |\n",
       "| PUM1 | ENSG00000134644 | GO:0010608 | IMP | BP |\n",
       "| PUM1 | ENSG00000134644 | GO:0016441 | ISS | BP |\n",
       "| PUM1 | ENSG00000134644 | GO:0016607 | IDA | CC |\n",
       "| PUM1 | ENSG00000134644 | GO:0035196 | IMP | BP |\n",
       "| PUM1 | ENSG00000134644 | GO:0035198 | IDA | MF |\n",
       "| PUM1 | ENSG00000134644 | GO:0043488 | IDA | BP |\n",
       "| PUM1 | ENSG00000134644 | GO:0048863 | ISS | BP |\n",
       "| PUM1 | ENSG00000134644 | GO:0051726 | IDA | BP |\n",
       "| PUM1 | ENSG00000134644 | GO:0051983 | IDA | BP |\n",
       "| PUM1 | ENSG00000134644 | GO:0060964 | TAS | BP |\n",
       "| PUM1 | ENSG00000134644 | GO:0061157 | ISS | BP |\n",
       "| PUM1 | ENSG00000134644 | GO:1900246 | IDA | BP |\n",
       "| PUM1 | ENSG00000134644 | GO:2000637 | IDA | BP |\n",
       "| IPO8 | ENSG00000133704 | GO:0005515 | IPI | MF |\n",
       "| IPO8 | ENSG00000133704 | GO:0005635 | IBA | CC |\n",
       "| IPO8 | ENSG00000133704 | GO:0005654 | TAS | CC |\n",
       "| IPO8 | ENSG00000133704 | GO:0005829 | IBA | CC |\n",
       "| IPO8 | ENSG00000133704 | GO:0005829 | TAS | CC |\n",
       "| IPO8 | ENSG00000133704 | GO:0006606 | IBA | BP |\n",
       "| IPO8 | ENSG00000133704 | GO:0007165 | TAS | BP |\n",
       "| IPO8 | ENSG00000133704 | GO:0008536 | IEA | MF |\n",
       "| IPO8 | ENSG00000133704 | GO:0060964 | TAS | BP |\n",
       "\n"
      ],
      "text/plain": [
       "   SYMBOL ENSEMBL         GO         EVIDENCE ONTOLOGY\n",
       "1  PCBP1  ENSG00000169564 GO:0000398 TAS      BP      \n",
       "2  PCBP1  ENSG00000169564 GO:0000981 IEA      MF      \n",
       "3  PCBP1  ENSG00000169564 GO:0003697 IDA      MF      \n",
       "4  PCBP1  ENSG00000169564 GO:0003723 HDA      MF      \n",
       "5  PCBP1  ENSG00000169564 GO:0003723 IDA      MF      \n",
       "6  PCBP1  ENSG00000169564 GO:0003729 IDA      MF      \n",
       "7  PCBP1  ENSG00000169564 GO:0005515 IPI      MF      \n",
       "8  PCBP1  ENSG00000169564 GO:0005654 IDA      CC      \n",
       "9  PCBP1  ENSG00000169564 GO:0005654 TAS      CC      \n",
       "10 PCBP1  ENSG00000169564 GO:0005737 IDA      CC      \n",
       "11 PCBP1  ENSG00000169564 GO:0005829 IDA      CC      \n",
       "12 PCBP1  ENSG00000169564 GO:0016020 HDA      CC      \n",
       "13 PCBP1  ENSG00000169564 GO:0016070 TAS      BP      \n",
       "14 PCBP1  ENSG00000169564 GO:0016607 IDA      CC      \n",
       "15 PCBP1  ENSG00000169564 GO:0036464 IDA      CC      \n",
       "16 PCBP1  ENSG00000169564 GO:0039694 IDA      BP      \n",
       "17 PCBP1  ENSG00000169564 GO:0045296 HDA      MF      \n",
       "18 PCBP1  ENSG00000169564 GO:0045944 IEA      BP      \n",
       "19 PCBP1  ENSG00000169564 GO:0070062 HDA      CC      \n",
       "20 PCBP1  ENSG00000169564 GO:0098847 IEA      MF      \n",
       "21 RER1   ENSG00000157916 GO:0003674 ND       MF      \n",
       "22 RER1   ENSG00000157916 GO:0005783 IEA      CC      \n",
       "23 RER1   ENSG00000157916 GO:0005793 IEA      CC      \n",
       "24 RER1   ENSG00000157916 GO:0005794 IDA      CC      \n",
       "25 RER1   ENSG00000157916 GO:0005886 IEA      CC      \n",
       "26 RER1   ENSG00000157916 GO:0006621 IBA      BP      \n",
       "27 RER1   ENSG00000157916 GO:0006890 IBA      BP      \n",
       "28 RER1   ENSG00000157916 GO:0006890 IDA      BP      \n",
       "29 RER1   ENSG00000157916 GO:0009986 IEA      CC      \n",
       "30 RER1   ENSG00000157916 GO:0030173 IBA      CC      \n",
       "⋮  ⋮      ⋮               ⋮          ⋮        ⋮       \n",
       "56 PUM1   ENSG00000134644 GO:0005634 IDA      CC      \n",
       "57 PUM1   ENSG00000134644 GO:0005654 IDA      CC      \n",
       "58 PUM1   ENSG00000134644 GO:0005829 IDA      CC      \n",
       "59 PUM1   ENSG00000134644 GO:0005829 TAS      CC      \n",
       "60 PUM1   ENSG00000134644 GO:0007283 ISS      BP      \n",
       "61 PUM1   ENSG00000134644 GO:0008344 ISS      BP      \n",
       "62 PUM1   ENSG00000134644 GO:0010494 IDA      CC      \n",
       "63 PUM1   ENSG00000134644 GO:0010608 IDA      BP      \n",
       "64 PUM1   ENSG00000134644 GO:0010608 IMP      BP      \n",
       "65 PUM1   ENSG00000134644 GO:0016441 ISS      BP      \n",
       "66 PUM1   ENSG00000134644 GO:0016607 IDA      CC      \n",
       "67 PUM1   ENSG00000134644 GO:0035196 IMP      BP      \n",
       "68 PUM1   ENSG00000134644 GO:0035198 IDA      MF      \n",
       "69 PUM1   ENSG00000134644 GO:0043488 IDA      BP      \n",
       "70 PUM1   ENSG00000134644 GO:0048863 ISS      BP      \n",
       "71 PUM1   ENSG00000134644 GO:0051726 IDA      BP      \n",
       "72 PUM1   ENSG00000134644 GO:0051983 IDA      BP      \n",
       "73 PUM1   ENSG00000134644 GO:0060964 TAS      BP      \n",
       "74 PUM1   ENSG00000134644 GO:0061157 ISS      BP      \n",
       "75 PUM1   ENSG00000134644 GO:1900246 IDA      BP      \n",
       "76 PUM1   ENSG00000134644 GO:2000637 IDA      BP      \n",
       "77 IPO8   ENSG00000133704 GO:0005515 IPI      MF      \n",
       "78 IPO8   ENSG00000133704 GO:0005635 IBA      CC      \n",
       "79 IPO8   ENSG00000133704 GO:0005654 TAS      CC      \n",
       "80 IPO8   ENSG00000133704 GO:0005829 IBA      CC      \n",
       "81 IPO8   ENSG00000133704 GO:0005829 TAS      CC      \n",
       "82 IPO8   ENSG00000133704 GO:0006606 IBA      BP      \n",
       "83 IPO8   ENSG00000133704 GO:0007165 TAS      BP      \n",
       "84 IPO8   ENSG00000133704 GO:0008536 IEA      MF      \n",
       "85 IPO8   ENSG00000133704 GO:0060964 TAS      BP      "
      ]
     },
     "metadata": {},
     "output_type": "display_data"
    }
   ],
   "source": [
    "select(orgdb, keys=housekeeping, \n",
    "       columns=c(\"ENSEMBL\",\"GO\"), \n",
    "       keytype=\"SYMBOL\")"
   ]
  },
  {
   "cell_type": "markdown",
   "metadata": {},
   "source": [
    "This might not be the ideal outcome for you. Another approach is to use the `mapIds` function."
   ]
  },
  {
   "cell_type": "code",
   "execution_count": 113,
   "metadata": {},
   "outputs": [
    {
     "name": "stderr",
     "output_type": "stream",
     "text": [
      "'select()' returned 1:many mapping between keys and columns\n",
      "\n"
     ]
    },
    {
     "data": {
      "text/html": [
       "<style>\n",
       ".dl-inline {width: auto; margin:0; padding: 0}\n",
       ".dl-inline>dt, .dl-inline>dd {float: none; width: auto; display: inline-block}\n",
       ".dl-inline>dt::after {content: \":\\0020\"; padding-right: .5ex}\n",
       ".dl-inline>dt:not(:first-of-type) {padding-left: .5ex}\n",
       "</style><dl class=dl-inline><dt>PCBP1</dt><dd>'GO:0000398'</dd><dt>RER1</dt><dd>'GO:0003674'</dd><dt>RPN1</dt><dd>'GO:0003723'</dd><dt>PUM1</dt><dd>'GO:0000932'</dd><dt>IPO8</dt><dd>'GO:0005515'</dd></dl>\n"
      ],
      "text/latex": [
       "\\begin{description*}\n",
       "\\item[PCBP1] 'GO:0000398'\n",
       "\\item[RER1] 'GO:0003674'\n",
       "\\item[RPN1] 'GO:0003723'\n",
       "\\item[PUM1] 'GO:0000932'\n",
       "\\item[IPO8] 'GO:0005515'\n",
       "\\end{description*}\n"
      ],
      "text/markdown": [
       "PCBP1\n",
       ":   'GO:0000398'RER1\n",
       ":   'GO:0003674'RPN1\n",
       ":   'GO:0003723'PUM1\n",
       ":   'GO:0000932'IPO8\n",
       ":   'GO:0005515'\n",
       "\n"
      ],
      "text/plain": [
       "       PCBP1         RER1         RPN1         PUM1         IPO8 \n",
       "\"GO:0000398\" \"GO:0003674\" \"GO:0003723\" \"GO:0000932\" \"GO:0005515\" "
      ]
     },
     "metadata": {},
     "output_type": "display_data"
    }
   ],
   "source": [
    "mapIds(orgdb, keys=housekeeping, \n",
    "       column=\"GO\", \n",
    "       keytype=\"SYMBOL\")"
   ]
  },
  {
   "cell_type": "markdown",
   "metadata": {},
   "source": [
    "By default, `mapIds` will return the first match. Note that with `mapIds` you can specify a single `column` but can's specify multiple `columns`. If you really want all of the GO terms, you can specify the `multiVals` argument. Here's the options for `multiVals`:"
   ]
  },
  {
   "cell_type": "markdown",
   "metadata": {},
   "source": [
    "first:\n",
    "\n",
    "    This value means that when there are multiple matches only the 1st thing that comes back will be returned. This is the default behavior\n",
    "list:\n",
    "\n",
    "    This will just returns a list object to the end user\n",
    "filter:\n",
    "\n",
    "    This will remove all elements that contain multiple matches and will therefore return a shorter vector than what came in whenever some of the keys match more than one value\n",
    "asNA:\n",
    "\n",
    "    This will return an NA value whenever there are multiple matches\n",
    "CharacterList:\n",
    "\n",
    "    This just returns a SimpleCharacterList object\n",
    "FUN:\n",
    "\n",
    "    You can also supply a function to the multiVals argument for custom behaviors. The function must take a single argument and return a single value. This function will be applied to all the elements and will serve a 'rule' that for which thing to keep when there is more than one element. So for example this example function will always grab the last element in each result:  last <- function(x){x[[length(x)]]} \n"
   ]
  },
  {
   "cell_type": "markdown",
   "metadata": {},
   "source": [
    "Let's specify that we want `multiVals=\"list\"`"
   ]
  },
  {
   "cell_type": "code",
   "execution_count": 114,
   "metadata": {},
   "outputs": [
    {
     "name": "stderr",
     "output_type": "stream",
     "text": [
      "'select()' returned 1:many mapping between keys and columns\n",
      "\n"
     ]
    },
    {
     "data": {
      "text/html": [
       "<dl>\n",
       "\t<dt>$PCBP1</dt>\n",
       "\t\t<dd><style>\n",
       ".list-inline {list-style: none; margin:0; padding: 0}\n",
       ".list-inline>li {display: inline-block}\n",
       ".list-inline>li:not(:last-child)::after {content: \"\\00b7\"; padding: 0 .5ex}\n",
       "</style>\n",
       "<ol class=list-inline><li>'GO:0000398'</li><li>'GO:0000981'</li><li>'GO:0003697'</li><li>'GO:0003723'</li><li>'GO:0003723'</li><li>'GO:0003729'</li><li>'GO:0005515'</li><li>'GO:0005654'</li><li>'GO:0005654'</li><li>'GO:0005737'</li><li>'GO:0005829'</li><li>'GO:0016020'</li><li>'GO:0016070'</li><li>'GO:0016607'</li><li>'GO:0036464'</li><li>'GO:0039694'</li><li>'GO:0045296'</li><li>'GO:0045944'</li><li>'GO:0070062'</li><li>'GO:0098847'</li></ol>\n",
       "</dd>\n",
       "\t<dt>$RER1</dt>\n",
       "\t\t<dd><style>\n",
       ".list-inline {list-style: none; margin:0; padding: 0}\n",
       ".list-inline>li {display: inline-block}\n",
       ".list-inline>li:not(:last-child)::after {content: \"\\00b7\"; padding: 0 .5ex}\n",
       "</style>\n",
       "<ol class=list-inline><li>'GO:0003674'</li><li>'GO:0005783'</li><li>'GO:0005793'</li><li>'GO:0005794'</li><li>'GO:0005886'</li><li>'GO:0006621'</li><li>'GO:0006890'</li><li>'GO:0006890'</li><li>'GO:0009986'</li><li>'GO:0030173'</li><li>'GO:0030173'</li><li>'GO:0033130'</li><li>'GO:0071340'</li><li>'GO:1903078'</li></ol>\n",
       "</dd>\n",
       "\t<dt>$RPN1</dt>\n",
       "\t\t<dd><style>\n",
       ".list-inline {list-style: none; margin:0; padding: 0}\n",
       ".list-inline>li {display: inline-block}\n",
       ".list-inline>li:not(:last-child)::after {content: \"\\00b7\"; padding: 0 .5ex}\n",
       "</style>\n",
       "<ol class=list-inline><li>'GO:0003723'</li><li>'GO:0004579'</li><li>'GO:0004579'</li><li>'GO:0005515'</li><li>'GO:0005783'</li><li>'GO:0005789'</li><li>'GO:0005791'</li><li>'GO:0005829'</li><li>'GO:0006464'</li><li>'GO:0008250'</li><li>'GO:0016020'</li><li>'GO:0016021'</li><li>'GO:0018279'</li><li>'GO:0018279'</li><li>'GO:0018279'</li><li>'GO:0042470'</li></ol>\n",
       "</dd>\n",
       "\t<dt>$PUM1</dt>\n",
       "\t\t<dd><style>\n",
       ".list-inline {list-style: none; margin:0; padding: 0}\n",
       ".list-inline>li {display: inline-block}\n",
       ".list-inline>li:not(:last-child)::after {content: \"\\00b7\"; padding: 0 .5ex}\n",
       "</style>\n",
       "<ol class=list-inline><li>'GO:0000932'</li><li>'GO:0003723'</li><li>'GO:0003723'</li><li>'GO:0003730'</li><li>'GO:0005515'</li><li>'GO:0005634'</li><li>'GO:0005654'</li><li>'GO:0005829'</li><li>'GO:0005829'</li><li>'GO:0007283'</li><li>'GO:0008344'</li><li>'GO:0010494'</li><li>'GO:0010608'</li><li>'GO:0010608'</li><li>'GO:0016441'</li><li>'GO:0016607'</li><li>'GO:0035196'</li><li>'GO:0035198'</li><li>'GO:0043488'</li><li>'GO:0048863'</li><li>'GO:0051726'</li><li>'GO:0051983'</li><li>'GO:0060964'</li><li>'GO:0061157'</li><li>'GO:1900246'</li><li>'GO:2000637'</li></ol>\n",
       "</dd>\n",
       "\t<dt>$IPO8</dt>\n",
       "\t\t<dd><style>\n",
       ".list-inline {list-style: none; margin:0; padding: 0}\n",
       ".list-inline>li {display: inline-block}\n",
       ".list-inline>li:not(:last-child)::after {content: \"\\00b7\"; padding: 0 .5ex}\n",
       "</style>\n",
       "<ol class=list-inline><li>'GO:0005515'</li><li>'GO:0005635'</li><li>'GO:0005654'</li><li>'GO:0005829'</li><li>'GO:0005829'</li><li>'GO:0006606'</li><li>'GO:0007165'</li><li>'GO:0008536'</li><li>'GO:0060964'</li></ol>\n",
       "</dd>\n",
       "</dl>\n"
      ],
      "text/latex": [
       "\\begin{description}\n",
       "\\item[\\$PCBP1] \\begin{enumerate*}\n",
       "\\item 'GO:0000398'\n",
       "\\item 'GO:0000981'\n",
       "\\item 'GO:0003697'\n",
       "\\item 'GO:0003723'\n",
       "\\item 'GO:0003723'\n",
       "\\item 'GO:0003729'\n",
       "\\item 'GO:0005515'\n",
       "\\item 'GO:0005654'\n",
       "\\item 'GO:0005654'\n",
       "\\item 'GO:0005737'\n",
       "\\item 'GO:0005829'\n",
       "\\item 'GO:0016020'\n",
       "\\item 'GO:0016070'\n",
       "\\item 'GO:0016607'\n",
       "\\item 'GO:0036464'\n",
       "\\item 'GO:0039694'\n",
       "\\item 'GO:0045296'\n",
       "\\item 'GO:0045944'\n",
       "\\item 'GO:0070062'\n",
       "\\item 'GO:0098847'\n",
       "\\end{enumerate*}\n",
       "\n",
       "\\item[\\$RER1] \\begin{enumerate*}\n",
       "\\item 'GO:0003674'\n",
       "\\item 'GO:0005783'\n",
       "\\item 'GO:0005793'\n",
       "\\item 'GO:0005794'\n",
       "\\item 'GO:0005886'\n",
       "\\item 'GO:0006621'\n",
       "\\item 'GO:0006890'\n",
       "\\item 'GO:0006890'\n",
       "\\item 'GO:0009986'\n",
       "\\item 'GO:0030173'\n",
       "\\item 'GO:0030173'\n",
       "\\item 'GO:0033130'\n",
       "\\item 'GO:0071340'\n",
       "\\item 'GO:1903078'\n",
       "\\end{enumerate*}\n",
       "\n",
       "\\item[\\$RPN1] \\begin{enumerate*}\n",
       "\\item 'GO:0003723'\n",
       "\\item 'GO:0004579'\n",
       "\\item 'GO:0004579'\n",
       "\\item 'GO:0005515'\n",
       "\\item 'GO:0005783'\n",
       "\\item 'GO:0005789'\n",
       "\\item 'GO:0005791'\n",
       "\\item 'GO:0005829'\n",
       "\\item 'GO:0006464'\n",
       "\\item 'GO:0008250'\n",
       "\\item 'GO:0016020'\n",
       "\\item 'GO:0016021'\n",
       "\\item 'GO:0018279'\n",
       "\\item 'GO:0018279'\n",
       "\\item 'GO:0018279'\n",
       "\\item 'GO:0042470'\n",
       "\\end{enumerate*}\n",
       "\n",
       "\\item[\\$PUM1] \\begin{enumerate*}\n",
       "\\item 'GO:0000932'\n",
       "\\item 'GO:0003723'\n",
       "\\item 'GO:0003723'\n",
       "\\item 'GO:0003730'\n",
       "\\item 'GO:0005515'\n",
       "\\item 'GO:0005634'\n",
       "\\item 'GO:0005654'\n",
       "\\item 'GO:0005829'\n",
       "\\item 'GO:0005829'\n",
       "\\item 'GO:0007283'\n",
       "\\item 'GO:0008344'\n",
       "\\item 'GO:0010494'\n",
       "\\item 'GO:0010608'\n",
       "\\item 'GO:0010608'\n",
       "\\item 'GO:0016441'\n",
       "\\item 'GO:0016607'\n",
       "\\item 'GO:0035196'\n",
       "\\item 'GO:0035198'\n",
       "\\item 'GO:0043488'\n",
       "\\item 'GO:0048863'\n",
       "\\item 'GO:0051726'\n",
       "\\item 'GO:0051983'\n",
       "\\item 'GO:0060964'\n",
       "\\item 'GO:0061157'\n",
       "\\item 'GO:1900246'\n",
       "\\item 'GO:2000637'\n",
       "\\end{enumerate*}\n",
       "\n",
       "\\item[\\$IPO8] \\begin{enumerate*}\n",
       "\\item 'GO:0005515'\n",
       "\\item 'GO:0005635'\n",
       "\\item 'GO:0005654'\n",
       "\\item 'GO:0005829'\n",
       "\\item 'GO:0005829'\n",
       "\\item 'GO:0006606'\n",
       "\\item 'GO:0007165'\n",
       "\\item 'GO:0008536'\n",
       "\\item 'GO:0060964'\n",
       "\\end{enumerate*}\n",
       "\n",
       "\\end{description}\n"
      ],
      "text/markdown": [
       "$PCBP1\n",
       ":   1. 'GO:0000398'\n",
       "2. 'GO:0000981'\n",
       "3. 'GO:0003697'\n",
       "4. 'GO:0003723'\n",
       "5. 'GO:0003723'\n",
       "6. 'GO:0003729'\n",
       "7. 'GO:0005515'\n",
       "8. 'GO:0005654'\n",
       "9. 'GO:0005654'\n",
       "10. 'GO:0005737'\n",
       "11. 'GO:0005829'\n",
       "12. 'GO:0016020'\n",
       "13. 'GO:0016070'\n",
       "14. 'GO:0016607'\n",
       "15. 'GO:0036464'\n",
       "16. 'GO:0039694'\n",
       "17. 'GO:0045296'\n",
       "18. 'GO:0045944'\n",
       "19. 'GO:0070062'\n",
       "20. 'GO:0098847'\n",
       "\n",
       "\n",
       "\n",
       "$RER1\n",
       ":   1. 'GO:0003674'\n",
       "2. 'GO:0005783'\n",
       "3. 'GO:0005793'\n",
       "4. 'GO:0005794'\n",
       "5. 'GO:0005886'\n",
       "6. 'GO:0006621'\n",
       "7. 'GO:0006890'\n",
       "8. 'GO:0006890'\n",
       "9. 'GO:0009986'\n",
       "10. 'GO:0030173'\n",
       "11. 'GO:0030173'\n",
       "12. 'GO:0033130'\n",
       "13. 'GO:0071340'\n",
       "14. 'GO:1903078'\n",
       "\n",
       "\n",
       "\n",
       "$RPN1\n",
       ":   1. 'GO:0003723'\n",
       "2. 'GO:0004579'\n",
       "3. 'GO:0004579'\n",
       "4. 'GO:0005515'\n",
       "5. 'GO:0005783'\n",
       "6. 'GO:0005789'\n",
       "7. 'GO:0005791'\n",
       "8. 'GO:0005829'\n",
       "9. 'GO:0006464'\n",
       "10. 'GO:0008250'\n",
       "11. 'GO:0016020'\n",
       "12. 'GO:0016021'\n",
       "13. 'GO:0018279'\n",
       "14. 'GO:0018279'\n",
       "15. 'GO:0018279'\n",
       "16. 'GO:0042470'\n",
       "\n",
       "\n",
       "\n",
       "$PUM1\n",
       ":   1. 'GO:0000932'\n",
       "2. 'GO:0003723'\n",
       "3. 'GO:0003723'\n",
       "4. 'GO:0003730'\n",
       "5. 'GO:0005515'\n",
       "6. 'GO:0005634'\n",
       "7. 'GO:0005654'\n",
       "8. 'GO:0005829'\n",
       "9. 'GO:0005829'\n",
       "10. 'GO:0007283'\n",
       "11. 'GO:0008344'\n",
       "12. 'GO:0010494'\n",
       "13. 'GO:0010608'\n",
       "14. 'GO:0010608'\n",
       "15. 'GO:0016441'\n",
       "16. 'GO:0016607'\n",
       "17. 'GO:0035196'\n",
       "18. 'GO:0035198'\n",
       "19. 'GO:0043488'\n",
       "20. 'GO:0048863'\n",
       "21. 'GO:0051726'\n",
       "22. 'GO:0051983'\n",
       "23. 'GO:0060964'\n",
       "24. 'GO:0061157'\n",
       "25. 'GO:1900246'\n",
       "26. 'GO:2000637'\n",
       "\n",
       "\n",
       "\n",
       "$IPO8\n",
       ":   1. 'GO:0005515'\n",
       "2. 'GO:0005635'\n",
       "3. 'GO:0005654'\n",
       "4. 'GO:0005829'\n",
       "5. 'GO:0005829'\n",
       "6. 'GO:0006606'\n",
       "7. 'GO:0007165'\n",
       "8. 'GO:0008536'\n",
       "9. 'GO:0060964'\n",
       "\n",
       "\n",
       "\n",
       "\n",
       "\n"
      ],
      "text/plain": [
       "$PCBP1\n",
       " [1] \"GO:0000398\" \"GO:0000981\" \"GO:0003697\" \"GO:0003723\" \"GO:0003723\"\n",
       " [6] \"GO:0003729\" \"GO:0005515\" \"GO:0005654\" \"GO:0005654\" \"GO:0005737\"\n",
       "[11] \"GO:0005829\" \"GO:0016020\" \"GO:0016070\" \"GO:0016607\" \"GO:0036464\"\n",
       "[16] \"GO:0039694\" \"GO:0045296\" \"GO:0045944\" \"GO:0070062\" \"GO:0098847\"\n",
       "\n",
       "$RER1\n",
       " [1] \"GO:0003674\" \"GO:0005783\" \"GO:0005793\" \"GO:0005794\" \"GO:0005886\"\n",
       " [6] \"GO:0006621\" \"GO:0006890\" \"GO:0006890\" \"GO:0009986\" \"GO:0030173\"\n",
       "[11] \"GO:0030173\" \"GO:0033130\" \"GO:0071340\" \"GO:1903078\"\n",
       "\n",
       "$RPN1\n",
       " [1] \"GO:0003723\" \"GO:0004579\" \"GO:0004579\" \"GO:0005515\" \"GO:0005783\"\n",
       " [6] \"GO:0005789\" \"GO:0005791\" \"GO:0005829\" \"GO:0006464\" \"GO:0008250\"\n",
       "[11] \"GO:0016020\" \"GO:0016021\" \"GO:0018279\" \"GO:0018279\" \"GO:0018279\"\n",
       "[16] \"GO:0042470\"\n",
       "\n",
       "$PUM1\n",
       " [1] \"GO:0000932\" \"GO:0003723\" \"GO:0003723\" \"GO:0003730\" \"GO:0005515\"\n",
       " [6] \"GO:0005634\" \"GO:0005654\" \"GO:0005829\" \"GO:0005829\" \"GO:0007283\"\n",
       "[11] \"GO:0008344\" \"GO:0010494\" \"GO:0010608\" \"GO:0010608\" \"GO:0016441\"\n",
       "[16] \"GO:0016607\" \"GO:0035196\" \"GO:0035198\" \"GO:0043488\" \"GO:0048863\"\n",
       "[21] \"GO:0051726\" \"GO:0051983\" \"GO:0060964\" \"GO:0061157\" \"GO:1900246\"\n",
       "[26] \"GO:2000637\"\n",
       "\n",
       "$IPO8\n",
       "[1] \"GO:0005515\" \"GO:0005635\" \"GO:0005654\" \"GO:0005829\" \"GO:0005829\"\n",
       "[6] \"GO:0006606\" \"GO:0007165\" \"GO:0008536\" \"GO:0060964\"\n"
      ]
     },
     "metadata": {},
     "output_type": "display_data"
    }
   ],
   "source": [
    "mapIds(orgdb, keys=housekeeping, \n",
    "       column=\"GO\", \n",
    "       keytype=\"SYMBOL\",\n",
    "       multiVals=\"list\")"
   ]
  },
  {
   "cell_type": "markdown",
   "metadata": {},
   "source": [
    "## TxDB Objects"
   ]
  },
  {
   "cell_type": "markdown",
   "metadata": {},
   "source": [
    "One of the other options in AnnotationHub is `TxDb`:"
   ]
  },
  {
   "cell_type": "code",
   "execution_count": 116,
   "metadata": {},
   "outputs": [
    {
     "data": {
      "text/html": [
       "<style>\n",
       ".list-inline {list-style: none; margin:0; padding: 0}\n",
       ".list-inline>li {display: inline-block}\n",
       ".list-inline>li:not(:last-child)::after {content: \"\\00b7\"; padding: 0 .5ex}\n",
       "</style>\n",
       "<ol class=list-inline><li>'GRanges'</li><li>'data.frame'</li><li>'Inparanoid8Db'</li><li>'TwoBitFile'</li><li>'ChainFile'</li><li>'SQLiteConnection'</li><li>'biopax'</li><li>'BigWigFile'</li><li>'AAStringSet'</li><li>'MSnSet'</li><li>'mzRpwiz'</li><li>'mzRident'</li><li>'list'</li><li>'TxDb'</li><li>'Rle'</li><li>'EnsDb'</li><li>'VcfFile'</li><li>'igraph'</li><li>'data.frame, DNAStringSet, GRanges'</li><li>'sqlite'</li><li>'data.table'</li><li>'character'</li><li>'SQLite'</li><li>'SQLiteFile'</li><li>'OrgDb'</li></ol>\n"
      ],
      "text/latex": [
       "\\begin{enumerate*}\n",
       "\\item 'GRanges'\n",
       "\\item 'data.frame'\n",
       "\\item 'Inparanoid8Db'\n",
       "\\item 'TwoBitFile'\n",
       "\\item 'ChainFile'\n",
       "\\item 'SQLiteConnection'\n",
       "\\item 'biopax'\n",
       "\\item 'BigWigFile'\n",
       "\\item 'AAStringSet'\n",
       "\\item 'MSnSet'\n",
       "\\item 'mzRpwiz'\n",
       "\\item 'mzRident'\n",
       "\\item 'list'\n",
       "\\item 'TxDb'\n",
       "\\item 'Rle'\n",
       "\\item 'EnsDb'\n",
       "\\item 'VcfFile'\n",
       "\\item 'igraph'\n",
       "\\item 'data.frame, DNAStringSet, GRanges'\n",
       "\\item 'sqlite'\n",
       "\\item 'data.table'\n",
       "\\item 'character'\n",
       "\\item 'SQLite'\n",
       "\\item 'SQLiteFile'\n",
       "\\item 'OrgDb'\n",
       "\\end{enumerate*}\n"
      ],
      "text/markdown": [
       "1. 'GRanges'\n",
       "2. 'data.frame'\n",
       "3. 'Inparanoid8Db'\n",
       "4. 'TwoBitFile'\n",
       "5. 'ChainFile'\n",
       "6. 'SQLiteConnection'\n",
       "7. 'biopax'\n",
       "8. 'BigWigFile'\n",
       "9. 'AAStringSet'\n",
       "10. 'MSnSet'\n",
       "11. 'mzRpwiz'\n",
       "12. 'mzRident'\n",
       "13. 'list'\n",
       "14. 'TxDb'\n",
       "15. 'Rle'\n",
       "16. 'EnsDb'\n",
       "17. 'VcfFile'\n",
       "18. 'igraph'\n",
       "19. 'data.frame, DNAStringSet, GRanges'\n",
       "20. 'sqlite'\n",
       "21. 'data.table'\n",
       "22. 'character'\n",
       "23. 'SQLite'\n",
       "24. 'SQLiteFile'\n",
       "25. 'OrgDb'\n",
       "\n",
       "\n"
      ],
      "text/plain": [
       " [1] \"GRanges\"                           \"data.frame\"                       \n",
       " [3] \"Inparanoid8Db\"                     \"TwoBitFile\"                       \n",
       " [5] \"ChainFile\"                         \"SQLiteConnection\"                 \n",
       " [7] \"biopax\"                            \"BigWigFile\"                       \n",
       " [9] \"AAStringSet\"                       \"MSnSet\"                           \n",
       "[11] \"mzRpwiz\"                           \"mzRident\"                         \n",
       "[13] \"list\"                              \"TxDb\"                             \n",
       "[15] \"Rle\"                               \"EnsDb\"                            \n",
       "[17] \"VcfFile\"                           \"igraph\"                           \n",
       "[19] \"data.frame, DNAStringSet, GRanges\" \"sqlite\"                           \n",
       "[21] \"data.table\"                        \"character\"                        \n",
       "[23] \"SQLite\"                            \"SQLiteFile\"                       \n",
       "[25] \"OrgDb\"                            "
      ]
     },
     "metadata": {},
     "output_type": "display_data"
    }
   ],
   "source": [
    "unique(ah$rdataclass)"
   ]
  },
  {
   "cell_type": "markdown",
   "metadata": {},
   "source": [
    "A TxDb object connects a set of genomic coordinates to transcript-oriented features. It also contains features IDs for transcripts and genes so TxDb objects can be used to link gene IDs and transcipt IDs.\n",
    "Let's work with the human TxDb object:"
   ]
  },
  {
   "cell_type": "code",
   "execution_count": 119,
   "metadata": {},
   "outputs": [
    {
     "data": {
      "text/plain": [
       "AnnotationHub with 15 records\n",
       "# snapshotDate(): 2020-04-27\n",
       "# $dataprovider: GENCODE, UCSC, NCBI, RMBase v2.0\n",
       "# $species: Homo sapiens\n",
       "# $rdataclass: TxDb, ChainFile, SQLiteFile\n",
       "# additional mcols(): taxonomyid, genome, description,\n",
       "#   coordinate_1_based, maintainer, rdatadateadded, preparerclass, tags,\n",
       "#   rdatapath, sourceurl, sourcetype \n",
       "# retrieve records with, e.g., 'object[[\"AH52258\"]]' \n",
       "\n",
       "            title                                             \n",
       "  AH52258 | TxDb.Hsapiens.UCSC.hg19.knownGene.sqlite          \n",
       "  AH52259 | TxDb.Hsapiens.UCSC.hg19.lincRNAsTranscripts.sqlite\n",
       "  AH75134 | TxDb for Gencode v23 on hg19 coordinates          \n",
       "  AH75140 | TxDb for Gencode v24 on hg19 coordinates          \n",
       "  AH75146 | TxDb for Gencode v25 on hg19 coordinates          \n",
       "  ...       ...                                               \n",
       "  AH75182 | TxDb for Gencode v31 on hg19 coordinates          \n",
       "  AH75188 | TxDb for Gencode v32 on hg19 coordinates          \n",
       "  AH78912 | EpiTxDb RMBase v2.0 for Homo sapiens hg38         \n",
       "  AH78915 | Chain file for Homo sapiens rRNA hg19 to hg38     \n",
       "  AH78916 | Chain file for Homo sapiens rRNA hg38 to hg19     "
      ]
     },
     "metadata": {},
     "output_type": "display_data"
    }
   ],
   "source": [
    "AnnotationHub::query(ah, pattern = c(\"Homo sapiens\", \"TxDb\", \"hg19\"))"
   ]
  },
  {
   "cell_type": "code",
   "execution_count": 122,
   "metadata": {},
   "outputs": [
    {
     "name": "stderr",
     "output_type": "stream",
     "text": [
      "downloading 1 resources\n",
      "\n",
      "retrieving 1 resource\n",
      "\n",
      "loading from cache\n",
      "\n",
      "Loading required package: GenomicFeatures\n",
      "\n"
     ]
    },
    {
     "ename": "ERROR",
     "evalue": "Error: failed to load resource\n  name: AH52258\n  title: TxDb.Hsapiens.UCSC.hg19.knownGene.sqlite\n  reason: this db is of type TxDb and requires the GenomicFeatures package before it can be loaded\n",
     "output_type": "error",
     "traceback": [
      "Error: failed to load resource\n  name: AH52258\n  title: TxDb.Hsapiens.UCSC.hg19.knownGene.sqlite\n  reason: this db is of type TxDb and requires the GenomicFeatures package before it can be loaded\nTraceback:\n",
      "1. AnnotationHub::query(ah, pattern = c(\"Homo sapiens\", \"TxDb\", \n .     \"hg19\"))[[\"AH52258\"]]",
      "2. AnnotationHub::query(ah, pattern = c(\"Homo sapiens\", \"TxDb\", \n .     \"hg19\"))[[\"AH52258\"]]",
      "3. .local(x, i, j = j, ...)",
      "4. .Hub_get1(x[idx], force = force, verbose = verbose)",
      "5. tryCatch({\n .     fls <- cache(getHub(class), force = force, verbose = verbose)\n .     .get1(class)\n . }, error = function(err) {\n .     stop(\"failed to load resource\", \"\\n  name: \", names(x), \"\\n  title: \", \n .         x$title, \"\\n  reason: \", conditionMessage(err), call. = FALSE)\n . })",
      "6. tryCatchList(expr, classes, parentenv, handlers)",
      "7. tryCatchOne(expr, names, parentenv, handlers[[1L]])",
      "8. value[[3L]](cond)",
      "9. stop(\"failed to load resource\", \"\\n  name: \", names(x), \"\\n  title: \", \n .     x$title, \"\\n  reason: \", conditionMessage(err), call. = FALSE)"
     ]
    }
   ],
   "source": [
    "txdb <- AnnotationHub::query(ah, pattern = c(\"Homo sapiens\", \"TxDb\", \"hg19\"))[['AH52258']]"
   ]
  },
  {
   "cell_type": "code",
   "execution_count": null,
   "metadata": {},
   "outputs": [],
   "source": []
  },
  {
   "cell_type": "code",
   "execution_count": null,
   "metadata": {},
   "outputs": [],
   "source": []
  },
  {
   "cell_type": "markdown",
   "metadata": {},
   "source": [
    "# BSGenome\n",
    "# Creating your own annotation objectds"
   ]
  },
  {
   "cell_type": "markdown",
   "metadata": {},
   "source": [
    "# Ontology Analysis"
   ]
  },
  {
   "cell_type": "code",
   "execution_count": 77,
   "metadata": {},
   "outputs": [],
   "source": [
    "??select"
   ]
  },
  {
   "cell_type": "markdown",
   "metadata": {},
   "source": [
    "Once we are at the step where we have genes that are differentially expressed, we can see if there is any enrichment in any functional gene groups. Two commonly used methods to look for enrichment are overrepresentation analysis (ORA) or gene set enrichment analysis (GSEA). **Over Representation Analysis (ORA)** looks for functions or processes that are over-represented (= enriched) in an experimentally-derived gene list. The background used by default is all of the genes that have an annotation. This will find genes where the difference is large, but will not detect a situation where the difference is small but coordinated across a set of genes. **Gene Set Enrichment (GSEA)** aggregates per-gene statistics across genes in a set. It takes a ranked list of genes and determines whether members of a gene set are randomly distributed throughout that list or if they are found primarily at the top or bottom of the list. GSEA will calculate an enrichment score based on whether a gene set is over-represented at the top or bottom fo the list, estimate the significance of the enrichment, and adjust for multiple hypothesis testing. \n",
    "\n",
    "There are many packages for running these types of analyses ([gage](https://www.bioconductor.org/packages/release/bioc/html/gage.html), [EnrichmentBrowser](https://www.bioconductor.org/packages/release/bioc/html/EnrichmentBrowser.html)) and many of them will use similar approaches to test for enrichment. We will use [clusterProfiler](https://www.bioconductor.org/packages/release/bioc/html/clusterProfiler.html).\n",
    "\n",
    "We will use [gene ontologies](http://geneontology.org/docs/ontology-documentation/) to organize the genes into groups based on their role in an organism. Gene Ontology loosely organize genes into three hierarchical graphs that correspond to three large umbrella categories -- **Molecular Function, Cellular Component, and Biological Process**. You can read the formal descriptions of these categories in the documentation linked above. A quote from the documentation illustrates an example of how these categories are related:\n",
    "\n",
    "```\n",
    "In an example of GO annotation, the gene product “cytochrome c” can be described by the molecular function oxidoreductase activity, the biological process oxidative phosphorylation, and the cellular component mitochondrial matrix.\n",
    "```\n",
    "\n",
    "We can use our previously made `orgdb` object to run the enrichment analysis on `res`, which is the `results` object from DESeq2 differential expression analysis run on the `airway` data. We are comparing the dexamethasone treatment conditions, comparing treated to untreated.\n",
    "\n",
    "We will use the functions `gseGO` and `enrichGO` from clusterProfiler.\n",
    "\n",
    "- `gseGO` is a GSEA method, it takes a order ranked geneList as input and uses a Kolmogorov Smirnov test to run Gene Set Enrichment Analysis (GSEA) [Subramanian et al. 2005](https://www.ncbi.nlm.nih.gov/pmc/articles/pmid/16199517/). GSEA is useful in scenarios where the fold changes are subtle but modules of genes are regulated in a coordinated way. \n",
    "\n",
    "- `enrichGO` is an ORA method and takes a list of genes (does not neet to be ranked) and uses Fisher's exact test with a hypergeometric distribution to run Enrichment Analysis [Boyle et al. 2004](https://academic.oup.com/bioinformatics/article/20/18/3710/202612). \n"
   ]
  },
  {
   "cell_type": "markdown",
   "metadata": {},
   "source": [
    "Let's make sure we don't have any NA entries in the `res` object:"
   ]
  },
  {
   "cell_type": "code",
   "execution_count": 51,
   "metadata": {},
   "outputs": [],
   "source": [
    "res <- tidyr::drop_na(data.frame(res))"
   ]
  },
  {
   "cell_type": "markdown",
   "metadata": {},
   "source": [
    "We'll run `gseGO` first. This is a GSEA method and it needs a ranked gene list as input. Let's make that list now. First, get the log2FoldChange -- this is what we will use to rank the genes."
   ]
  },
  {
   "cell_type": "code",
   "execution_count": 54,
   "metadata": {},
   "outputs": [],
   "source": [
    "gene_list <- res$log2FoldChange"
   ]
  },
  {
   "cell_type": "markdown",
   "metadata": {},
   "source": [
    "Now we add names to the gene list:"
   ]
  },
  {
   "cell_type": "code",
   "execution_count": 55,
   "metadata": {},
   "outputs": [],
   "source": [
    "names(gene_list) <- c(rownames(res))"
   ]
  },
  {
   "cell_type": "markdown",
   "metadata": {},
   "source": [
    "Then we can sort the gene list"
   ]
  },
  {
   "cell_type": "code",
   "execution_count": 56,
   "metadata": {},
   "outputs": [],
   "source": [
    "gene_list <- sort(gene_list, decreasing = TRUE)"
   ]
  },
  {
   "cell_type": "markdown",
   "metadata": {},
   "source": [
    "Then we can run gseGO. We are setting a seed and using the seed = TRUE argument because we want gseGO to deal with ties consistently -- otherwise we might get different data every time we run the analysis since gseGO will arbitrarily break ties in the rankings. The ties shouldn't present a huge issue as long as the ties percentage in your data is low."
   ]
  },
  {
   "cell_type": "code",
   "execution_count": 58,
   "metadata": {},
   "outputs": [
    {
     "name": "stderr",
     "output_type": "stream",
     "text": [
      "preparing geneSet collections...\n",
      "\n",
      "GSEA analysis...\n",
      "\n",
      "Warning message in preparePathwaysAndStats(pathways, stats, minSize, maxSize, gseaParam, :\n",
      "“There are ties in the preranked stats (0.06% of the list).\n",
      "The order of those tied genes will be arbitrary, which may produce unexpected results.”\n",
      "leading edge analysis...\n",
      "\n",
      "done...\n",
      "\n"
     ]
    }
   ],
   "source": [
    "set.seed(42)\n",
    "gsea_out <- gseGO(\n",
    "    geneList = gene_list,\n",
    "    OrgDb = orgdb,\n",
    "    ont = 'ALL',\n",
    "    keyType = 'ENSEMBL',\n",
    "    seed = TRUE)"
   ]
  },
  {
   "cell_type": "markdown",
   "metadata": {},
   "source": [
    "- By using `keyType = 'ENSEMBL'` we are telling the function that our gene IDs are in `ENSEMBL` format and by setting `ont = 'ALL'` we are indicating we want to look at all three of the ontologies -- `Biological Process`, `Cellular Component`, and `Molecular Function`. Run `?gseGO` for a full account of the function and its arguments      \n",
    "\n",
    "- There are many options for visualizing the enrichment, you can see more details [here](http://yulab-smu.top/clusterProfiler-book/chapter12.html) -- let's start with a dotplot:"
   ]
  },
  {
   "cell_type": "code",
   "execution_count": null,
   "metadata": {},
   "outputs": [],
   "source": [
    "\n",
    "\n",
    "dotplot(down_ego, showCategory = 5) + ggtitle('Down regulated in dexamethasone')"
   ]
  },
  {
   "cell_type": "code",
   "execution_count": 59,
   "metadata": {},
   "outputs": [
    {
     "data": {
      "image/png": "[encoded data removed]",
      "text/plain": [
       "plot without title"
      ]
     },
     "metadata": {
      "image/png": {
       "height": 300,
       "width": 600
      }
     },
     "output_type": "display_data"
    }
   ],
   "source": [
    "dotplot(gsea_out)"
   ]
  },
  {
   "cell_type": "markdown",
   "metadata": {},
   "source": [
    "The size of the dot indicates how many members of the group are represented in the enrichment and the adjusted p-value is the Benjamini-Hochberg corrected p-value. `GeneRatio` is `k/n`, where for a given category (e.g. 'receptor regulator activity') `k` is the overlap of 'receptor regulator activity' genes in `gene_list` compared to all 'receptor regulator activity' genes in the org.db, where `n` is the overlap of all genes in `gene_list` compares to all genes in the org.db."
   ]
  },
  {
   "cell_type": "markdown",
   "metadata": {},
   "source": [
    "We can also use `enrichGO`, which takes a list of genes that are not ranked. We will separate out the up and down regulated genes from `res` first."
   ]
  },
  {
   "cell_type": "code",
   "execution_count": 61,
   "metadata": {},
   "outputs": [],
   "source": [
    "up_genes <- data.frame(res) %>% dplyr::filter(padj < 0.1 & log2FoldChange > 0)\n",
    "down_genes <- data.frame(res) %>% dplyr::filter(padj < 0.1 & log2FoldChange < 0)"
   ]
  },
  {
   "cell_type": "markdown",
   "metadata": {},
   "source": [
    "Then we can run `enrichGO` on the up and down regulated genes and make dotplots."
   ]
  },
  {
   "cell_type": "code",
   "execution_count": 62,
   "metadata": {},
   "outputs": [
    {
     "data": {
      "image/png": "[encoded data removed]",
      "text/plain": [
       "plot without title"
      ]
     },
     "metadata": {
      "image/png": {
       "height": 300,
       "width": 600
      }
     },
     "output_type": "display_data"
    }
   ],
   "source": [
    "up_ego <- enrichGO(gene = rownames(up_genes),\n",
    "          keyType = 'ENSEMBL',\n",
    "          ont = 'BP',\n",
    "          universe = rownames(res),\n",
    "          OrgDb = orgdb,\n",
    "          readable = TRUE)\n",
    "dotplot(up_ego, showCategory = 5) + ggtitle('Up regulated in dexamethasone')"
   ]
  },
  {
   "cell_type": "code",
   "execution_count": 63,
   "metadata": {},
   "outputs": [
    {
     "data": {
      "image/png": "[encoded data removed]",
      "text/plain": [
       "plot without title"
      ]
     },
     "metadata": {
      "image/png": {
       "height": 300,
       "width": 600
      }
     },
     "output_type": "display_data"
    }
   ],
   "source": [
    "down_ego <- enrichGO(gene = rownames(down_genes),\n",
    "          keyType = 'ENSEMBL',\n",
    "          ont = 'BP',\n",
    "          universe = rownames(res),\n",
    "          OrgDb = orgdb,\n",
    "          readable = TRUE)\n",
    "dotplot(down_ego, showCategory = 5) + ggtitle('Down regulated in dexamethasone')"
   ]
  },
  {
   "cell_type": "markdown",
   "metadata": {},
   "source": [
    "Note that in each of the calls to `enrichGO` above, I have specified the `universe` argument so that we are taking into consideration which genes were actually detected in our experiment. We also used the `ont = 'BP'` argument to tell `enrichGO` that we want to look at genes in the Biological Process category. We can also set the `showCategory = 5` argument in the call to `dotplot` to tell it to only show us the first 5 categories. The enrichment of `response to peptide hormone` in the up regulated genes makes sense, as dexamethasone is a corticosteroid hormone. \n",
    "\n",
    "In this example, we are running `enrichGO` on the up and down regulated genes separately, but it is also valid to run all of the differentially expressed genes together, depending on your research question. https://royalsocietypublishing.org/doi/10.1098/rsif.2013.0950"
   ]
  },
  {
   "cell_type": "markdown",
   "metadata": {},
   "source": [
    "<div class=\"alert alert-block alert-success\"><b>Exercise:</b> Try running `enrichGO` without setting the `universe` argument. How does this change your results? </div>"
   ]
  },
  {
   "cell_type": "markdown",
   "metadata": {},
   "source": [
    "<div class=\"alert alert-block alert-success\"><b>Exercise:</b> Try running `enrichGO` on all of the differentially expressed genes without pre-splitting into up and down regulated genes. How does this change your results? </div>"
   ]
  },
  {
   "cell_type": "code",
   "execution_count": null,
   "metadata": {},
   "outputs": [],
   "source": []
  },
  {
   "cell_type": "code",
   "execution_count": null,
   "metadata": {},
   "outputs": [],
   "source": []
  }
 ],
 "metadata": {
  "kernelspec": {
   "display_name": "R",
   "language": "R",
   "name": "ir"
  },
  "language_info": {
   "codemirror_mode": "r",
   "file_extension": ".r",
   "mimetype": "text/x-r-source",
   "name": "R",
   "pygments_lexer": "r",
   "version": "4.0.3"
  }
 },
 "nbformat": 4,
 "nbformat_minor": 5
}
