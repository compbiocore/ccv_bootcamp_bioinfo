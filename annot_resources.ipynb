{
 "cells": [
  {
   "cell_type": "code",
   "execution_count": null,
   "id": "employed-colon",
   "metadata": {},
   "outputs": [],
   "source": [
    "start_time <- Sys.time()\n",
    "BiocManager::install(\"clusterProfiler\", dependencies=TRUE)\n",
    "BiocManager::install(\"GenomicFeatures\")\n",
    "BiocManager::install(\"enrichplot\", dependencies=TRUE)\n",
    "BiocManager::install(\"DOSE\", dependencies=TRUE)\n",
    "BiocManager::install(\"BSgenome\")\n",
    "BiocManager::install(\"BSgenome.Hsapiens.UCSC.hg19\")\n",
    "end_time <- Sys.time()\n",
    "end_time - start_time"
   ]
  },
  {
   "cell_type": "markdown",
   "id": "enormous-nevada",
   "metadata": {},
   "source": [
    "Let's load some packages:"
   ]
  },
  {
   "cell_type": "code",
   "execution_count": null,
   "id": "obvious-background",
   "metadata": {},
   "outputs": [],
   "source": [
    "library(\"tidyverse\")\n",
    "library(\"ggplot2\")\n",
    "library(\"BiocManager\")\n",
    "library(\"gridExtra\")\n",
    "library(\"airway\")\n",
    "library(\"AnnotationHub\")\n",
    "library(\"clusterProfiler\")\n",
    "library(\"enrichplot\")\n",
    "library(\"biomaRt\")\n",
    "library(\"DESeq2\")\n",
    "library(\"GenomicFeatures\")\n",
    "library(\"enrichplot\")\n",
    "library(\"BSgenome\")\n",
    "library(\"BSgenome.Hsapiens.UCSC.hg19\")"
   ]
  },
  {
   "cell_type": "markdown",
   "id": "individual-microphone",
   "metadata": {},
   "source": [
    "Lets import some data to work with -- `res` is the `results` object and `rld` is the rlog transformed counts from DESeq2 differential expression analysis run on the `airway` data. We are comparing the dexamethasone treatment conditions, comparing treated to untreated.\n"
   ]
  },
  {
   "cell_type": "code",
   "execution_count": null,
   "id": "boolean-composition",
   "metadata": {},
   "outputs": [],
   "source": [
    "res <- readRDS(\"res.rds\")"
   ]
  },
  {
   "cell_type": "code",
   "execution_count": null,
   "id": "acting-banks",
   "metadata": {},
   "outputs": [],
   "source": [
    "res"
   ]
  },
  {
   "cell_type": "code",
   "execution_count": null,
   "id": "chief-charger",
   "metadata": {},
   "outputs": [],
   "source": [
    "rld <- readRDS(\"rld.rds\")"
   ]
  },
  {
   "cell_type": "code",
   "execution_count": null,
   "id": "asian-worse",
   "metadata": {},
   "outputs": [],
   "source": [
    "rld"
   ]
  },
  {
   "cell_type": "markdown",
   "id": "lightweight-journey",
   "metadata": {},
   "source": [
    "Let's work with the `res` results table. We can see that each row is a gene (`ENSG...`) and each column gives us some information about the differential expression analysis. These gene IDs are not particularly informative, but we can use biomaRt to fix that."
   ]
  },
  {
   "cell_type": "markdown",
   "id": "creative-difficulty",
   "metadata": {},
   "source": [
    "# Using biomaRt\n",
    "\n",
    "The [biomaRt](https://bioconductor.org/packages/release/bioc/html/biomaRt.html) package makes it easy to query public repositories of biological data. We can use biomaRt to query Ensembl for annotations so that we can look for 'housekeeping genes' which are typically considered to be stably expressed and shouldn't show large variations across different samples. We have selected a list of genes based on two publications that queried public cancer genome data to find housekeeping genes for use with RNA-seq from cancer cell lines (https://doi.org/10.1186/s12859-019-2809-2, https://doi.org/10.3389/fgene.2019.00097). "
   ]
  },
  {
   "cell_type": "markdown",
   "id": "neutral-blame",
   "metadata": {},
   "source": [
    "First, let's load biomaRt and make a vector of the gene symbols from the published data:"
   ]
  },
  {
   "cell_type": "code",
   "execution_count": null,
   "id": "waiting-winter",
   "metadata": {},
   "outputs": [],
   "source": [
    "housekeeping <- c('PCBP1','RER1', 'RPN1', 'PUM1', 'IPO8')"
   ]
  },
  {
   "cell_type": "markdown",
   "id": "checked-quarterly",
   "metadata": {},
   "source": [
    "Then we can see what BioMarts are available:"
   ]
  },
  {
   "cell_type": "code",
   "execution_count": null,
   "id": "independent-litigation",
   "metadata": {},
   "outputs": [],
   "source": [
    "listMarts()"
   ]
  },
  {
   "cell_type": "markdown",
   "id": "quick-investigation",
   "metadata": {},
   "source": [
    "Let's use `ENSEMBL_MART_ENSEMBL` (you might get an error that says `Ensembl site unresponsive, trying uswest mirror`, run `?useEnsembl` to get more information about available options)."
   ]
  },
  {
   "cell_type": "code",
   "execution_count": null,
   "id": "physical-cameroon",
   "metadata": {},
   "outputs": [],
   "source": [
    "ensembl <- useEnsembl(biomart = 'ENSEMBL_MART_ENSEMBL', mirror = 'uswest')"
   ]
  },
  {
   "cell_type": "markdown",
   "id": "swedish-lender",
   "metadata": {},
   "source": [
    "You can see a list of all available datasets within the mart if you run `listDatasets(ensembl)` -- there are many (~200 of them), so let's narrow it down a little and look only for human data."
   ]
  },
  {
   "cell_type": "code",
   "execution_count": null,
   "id": "lightweight-register",
   "metadata": {},
   "outputs": [],
   "source": [
    "searchDatasets(mart = ensembl, pattern = 'hsapiens')"
   ]
  },
  {
   "cell_type": "markdown",
   "id": "norman-modeling",
   "metadata": {},
   "source": [
    "Now we can put it all together to create a BioMart object: (you might get an error that says `Ensembl site unresponsive, trying uswest mirror`)"
   ]
  },
  {
   "cell_type": "code",
   "execution_count": null,
   "id": "private-assurance",
   "metadata": {},
   "outputs": [],
   "source": [
    "ensembl <- useEnsembl(biomart = 'ENSEMBL_MART_ENSEMBL', dataset='hsapiens_gene_ensembl', mirror = 'uswest')"
   ]
  },
  {
   "cell_type": "markdown",
   "id": "caroline-prior",
   "metadata": {},
   "source": [
    "Later, we will use the `getBM()` function to query BioMart (this is the main function of biomaRt). This function takes the followingarguments:\n",
    "\n",
    "`attributes`: the attributes you want to retrieve                     \n",
    "`filters`: the filters that should be used in the query                    \n",
    "`values`: the values of the filters                    \n",
    "`mart`: the mart object you want to use.   \n",
    "\n",
    "We can use the `listAttributes` function to see what information is available in `ensembl` (limiting it here to the first 5)"
   ]
  },
  {
   "cell_type": "code",
   "execution_count": null,
   "id": "sixth-velvet",
   "metadata": {},
   "outputs": [],
   "source": [
    "attributes = listAttributes(ensembl)\n",
    "attributes[1:5,]"
   ]
  },
  {
   "cell_type": "markdown",
   "id": "colored-ferry",
   "metadata": {},
   "source": [
    "Note that there are ~3000 attributes for this mart! We only care a about two -- `ensembl_gene_id` and `hgnc_symbol`."
   ]
  },
  {
   "cell_type": "markdown",
   "id": "opened-institute",
   "metadata": {},
   "source": [
    "We can use the `listFilters` function to see what our filtering options are (limiting it here to the first 5)"
   ]
  },
  {
   "cell_type": "code",
   "execution_count": null,
   "id": "extreme-library",
   "metadata": {},
   "outputs": [],
   "source": [
    "filters = listFilters(ensembl)\n",
    "filters[1:5,]"
   ]
  },
  {
   "cell_type": "markdown",
   "id": "competent-brief",
   "metadata": {},
   "source": [
    "We can use `getBM` to query the BioMart object                   "
   ]
  },
  {
   "cell_type": "code",
   "execution_count": null,
   "id": "portable-video",
   "metadata": {},
   "outputs": [],
   "source": [
    "ensembl_bm <- getBM(\n",
    "    attributes = c('ensembl_gene_id','hgnc_symbol'),\n",
    "    filters = 'hgnc_symbol',\n",
    "    values = housekeeping, \n",
    "    mart = ensembl)\n",
    "ensembl_bm"
   ]
  },
  {
   "cell_type": "markdown",
   "id": "static-hearing",
   "metadata": {},
   "source": [
    "Let's look at the `rlog` normalized counts for our housekeeping genes:"
   ]
  },
  {
   "cell_type": "code",
   "execution_count": null,
   "id": "lonely-wages",
   "metadata": {},
   "outputs": [],
   "source": [
    "housekeeping_rld <- data.frame(assay(rld)[ensembl_bm$ensembl_gene_id, ])\n",
    "head(housekeeping_rld)"
   ]
  },
  {
   "cell_type": "markdown",
   "id": "greek-requirement",
   "metadata": {},
   "source": [
    "The `ensembl_gene_id` is currently stored as the rownames. Let's go ahead and turn it into a column in the data frame:"
   ]
  },
  {
   "cell_type": "code",
   "execution_count": null,
   "id": "empty-workplace",
   "metadata": {},
   "outputs": [],
   "source": [
    "housekeeping_rld$ensembl_gene_id <- rownames(housekeeping_rld)\n",
    "head(housekeeping_rld)"
   ]
  },
  {
   "cell_type": "markdown",
   "id": "focal-algorithm",
   "metadata": {},
   "source": [
    "Then we use the `gather` function to convert the data to a long format."
   ]
  },
  {
   "cell_type": "code",
   "execution_count": null,
   "id": "swedish-execution",
   "metadata": {},
   "outputs": [],
   "source": [
    "housekeeping_rld_tidy <- gather(housekeeping_rld, key = 'sample', value = 'rlog_counts', SRR1039508:SRR1039521)\n",
    "head(housekeeping_rld_tidy)"
   ]
  },
  {
   "cell_type": "markdown",
   "id": "killing-negotiation",
   "metadata": {},
   "source": [
    "Let's add the annotation information we pulled from biomaRt:"
   ]
  },
  {
   "cell_type": "code",
   "execution_count": null,
   "id": "unable-science",
   "metadata": {},
   "outputs": [],
   "source": [
    "housekeeping_rld_tidy <- inner_join(ensembl_bm, housekeeping_rld_tidy, by = 'ensembl_gene_id')\n",
    "head(housekeeping_rld_tidy)"
   ]
  },
  {
   "cell_type": "markdown",
   "id": "comprehensive-crest",
   "metadata": {},
   "source": [
    "Let's look at the expression of our housekeeping genes to see if they look stably expressed in our data:"
   ]
  },
  {
   "cell_type": "code",
   "execution_count": null,
   "id": "professional-backing",
   "metadata": {},
   "outputs": [],
   "source": [
    "options(repr.plot.width=10, repr.plot.height=5)\n",
    "\n",
    "ggplot(housekeeping_rld_tidy, aes(x=sample, y=rlog_counts)) + \n",
    "geom_bar(stat=\"identity\") +\n",
    "facet_wrap(~hgnc_symbol, nrow = 1) +\n",
    "theme(axis.text.x = element_text(angle = 90))"
   ]
  },
  {
   "cell_type": "markdown",
   "id": "substantial-maple",
   "metadata": {},
   "source": [
    "These housekeeping genes look stably expressed across each sample."
   ]
  },
  {
   "cell_type": "markdown",
   "id": "together-smile",
   "metadata": {},
   "source": [
    "# Using AnnotationHub\n",
    "\n",
    "Now we can try using AnnotationHub to do something similar to what we just did with `biomaRt`.\n",
    "Many of the data types we will work with from AnnotationHub are based on the `AnnotationDb` object class -- including OrgDb, TxDb, and many others. This means that they have many functions and methods in common (http://web.mit.edu/~r/current/arch/i386_linux26/lib/R/library/AnnotationDbi/html/AnnotationDb-class.html).               \n",
    "\n",
    "First, let's connect to the hub using `AnnotationHub` and look at the output."
   ]
  },
  {
   "cell_type": "code",
   "execution_count": null,
   "id": "anticipated-vulnerability",
   "metadata": {},
   "outputs": [],
   "source": [
    "ah <- AnnotationHub()\n",
    "ah"
   ]
  },
  {
   "cell_type": "markdown",
   "id": "female-audit",
   "metadata": {},
   "source": [
    "This is one of the very nice things about using AnnotationHub -- there's many data providers, data classes, and organisms represented in the hub. You can access these elements using `$` accessor:"
   ]
  },
  {
   "cell_type": "code",
   "execution_count": null,
   "id": "reported-facing",
   "metadata": {},
   "outputs": [],
   "source": [
    "head(unique(ah$dataprovider))\n",
    "length(unique(ah$dataprovider))"
   ]
  },
  {
   "cell_type": "code",
   "execution_count": null,
   "id": "outside-desperate",
   "metadata": {},
   "outputs": [],
   "source": [
    "unique(ah$rdataclass)\n"
   ]
  },
  {
   "cell_type": "markdown",
   "id": "wrapped-motion",
   "metadata": {},
   "source": [
    "## OrgDb objects"
   ]
  },
  {
   "cell_type": "markdown",
   "id": "injured-version",
   "metadata": {},
   "source": [
    "One of the options you can see here is `OrgDb`, which is an organism-specific, genome wide annotation. We can use it to map between different gene ID types using a central identifier (usually Entrez gene ID). \n",
    "\n",
    "OrgDb names are always of the form: org.Ab.id.db (e.g.  org.Sc.sgd.db) where Ab is a 2-letter abbreviation of the organism and id is an abbreviation (in lower-case) describing the type of central identifier (`eg` for Entrez Gene ids).\n",
    "\n",
    "Let's see what our options are for `Homo sapiens` and `OrgDb`:"
   ]
  },
  {
   "cell_type": "code",
   "execution_count": null,
   "id": "upper-click",
   "metadata": {},
   "outputs": [],
   "source": [
    "AnnotationHub::query(ah, pattern = c(\"Homo sapiens\", \"OrgDb\"))"
   ]
  },
  {
   "cell_type": "markdown",
   "id": "egyptian-sigma",
   "metadata": {},
   "source": [
    "So you can see here that there is an OrgDb for Homo sapiens that uses Entrez gene ID as the central identifier."
   ]
  },
  {
   "cell_type": "code",
   "execution_count": null,
   "id": "parental-citizen",
   "metadata": {},
   "outputs": [],
   "source": [
    "orgdb <- AnnotationHub::query(ah, pattern = c(\"Homo sapiens\", \"OrgDb\"))[[1]]"
   ]
  },
  {
   "cell_type": "code",
   "execution_count": null,
   "id": "spectacular-parliament",
   "metadata": {},
   "outputs": [],
   "source": [
    "orgdb"
   ]
  },
  {
   "cell_type": "markdown",
   "id": "played-sight",
   "metadata": {},
   "source": [
    "What types of data can we retrieve from the OrgDb? Let's use `keytypes()` to find out. "
   ]
  },
  {
   "cell_type": "markdown",
   "id": "compact-tutorial",
   "metadata": {},
   "source": [
    "The likely use case is that you are hoping to convert between different ID types (like we did with biomaRt). One way to do this is the `select()` function. AnnotationHub imports this function from AnnotationDbi so you can run `?AnnotationDbi::select` to view the help. As I said before, OrgDbs are based on the AnnotationDb object base class and the `select`, `columns`, `keys`, and `keytypes` arguments are used together to query AnnotationDb objects.\n",
    "\n",
    "`select` will retrieve the data as a data.frame based on parameters for selected keys columns and keytype arguments.\n",
    "\n",
    "`columns` shows which kinds of data can be returned for the AnnotationDb object.\n",
    "\n",
    "`keys` returns keys for the database contained in the AnnotationDb object. \n",
    "\n",
    "`keytypes` allows the user to discover which keytypes can be passed in to select or keys and the keytype argument."
   ]
  },
  {
   "cell_type": "markdown",
   "id": "junior-subject",
   "metadata": {},
   "source": [
    "We can view columns and keytypes -- note that these can be the same but are not always the same."
   ]
  },
  {
   "cell_type": "code",
   "execution_count": null,
   "id": "opened-marshall",
   "metadata": {},
   "outputs": [],
   "source": [
    "columns(orgdb)"
   ]
  },
  {
   "cell_type": "code",
   "execution_count": null,
   "id": "smooth-accessory",
   "metadata": {},
   "outputs": [],
   "source": [
    "keytypes(orgdb)"
   ]
  },
  {
   "cell_type": "markdown",
   "id": "classical-gazette",
   "metadata": {},
   "source": [
    "Let's look at a few examples of what the key entries look like"
   ]
  },
  {
   "cell_type": "code",
   "execution_count": null,
   "id": "technical-ownership",
   "metadata": {},
   "outputs": [],
   "source": [
    "head(keys(orgdb, keytype=\"SYMBOL\"))"
   ]
  },
  {
   "cell_type": "markdown",
   "id": "living-singapore",
   "metadata": {},
   "source": [
    "We can try running `select` to look for the housekeeping genes in the OrgDb to retrieve their ENSEMBL and ENTREZIDs:"
   ]
  },
  {
   "cell_type": "code",
   "execution_count": null,
   "id": "administrative-tobacco",
   "metadata": {},
   "outputs": [],
   "source": [
    "ens_entr_orgdb <- select(orgdb, keys=housekeeping, \n",
    "       columns=c(\"ENSEMBL\",\"ENTREZID\"), \n",
    "       keytype=\"SYMBOL\")\n",
    "ens_entr_orgdb"
   ]
  },
  {
   "cell_type": "markdown",
   "id": "charitable-falls",
   "metadata": {},
   "source": [
    "As you can see, this returned a 1:1 mapping between keys and columns, but this might not always be the case. What happens if we use \"GO\" as one of the columns?"
   ]
  },
  {
   "cell_type": "code",
   "execution_count": null,
   "id": "imposed-language",
   "metadata": {},
   "outputs": [],
   "source": [
    "go_orgdb <- select(orgdb, keys=housekeeping, \n",
    "       columns=c(\"ENSEMBL\",\"GO\"), \n",
    "       keytype=\"SYMBOL\")\n",
    "head(go_orgdb)"
   ]
  },
  {
   "cell_type": "markdown",
   "id": "incorporated-blind",
   "metadata": {},
   "source": [
    "This might not be the ideal outcome for you. Another approach is to use the `mapIds` function. `mapIds` is similar to `select` in that it uses `keys` and `keytypes` but it uses `column` instead of `columns` and can only return one column type, "
   ]
  },
  {
   "cell_type": "code",
   "execution_count": null,
   "id": "sexual-technology",
   "metadata": {},
   "outputs": [],
   "source": [
    "mapped_go <- mapIds(orgdb, keys=housekeeping, \n",
    "       column=\"GO\", \n",
    "       keytype=\"SYMBOL\")\n",
    "head(mapped_go)"
   ]
  },
  {
   "cell_type": "markdown",
   "id": "located-characterization",
   "metadata": {},
   "source": [
    "By default, `mapIds` will return the first match. If you really want all of the GO terms, you can specify the `multiVals` argument. Here's the options for `multiVals`:"
   ]
  },
  {
   "cell_type": "markdown",
   "id": "confident-robinson",
   "metadata": {},
   "source": [
    "first:\n",
    "\n",
    "    This value means that when there are multiple matches only the 1st thing that comes back will be returned. This is the default behavior\n",
    "list:\n",
    "\n",
    "    This will just returns a list object to the end user\n",
    "filter:\n",
    "\n",
    "    This will remove all elements that contain multiple matches and will therefore return a shorter vector than what came in whenever some of the keys match more than one value\n",
    "asNA:\n",
    "\n",
    "    This will return an NA value whenever there are multiple matches\n",
    "CharacterList:\n",
    "\n",
    "    This just returns a SimpleCharacterList object\n",
    "FUN:\n",
    "\n",
    "    You can also supply a function to the multiVals argument for custom behaviors. The function must take a single argument and return a single value. This function will be applied to all the elements and will serve a 'rule' that for which thing to keep when there is more than one element. So for example this example function will always grab the last element in each result:  last <- function(x){x[[length(x)]]} \n"
   ]
  },
  {
   "cell_type": "markdown",
   "id": "previous-suffering",
   "metadata": {},
   "source": [
    "Let's specify that we want `multiVals=\"list\"`"
   ]
  },
  {
   "cell_type": "code",
   "execution_count": null,
   "id": "opposite-toronto",
   "metadata": {},
   "outputs": [],
   "source": [
    "mapped_go <- mapIds(orgdb, keys=housekeeping, \n",
    "       column=\"GO\", \n",
    "       keytype=\"SYMBOL\",\n",
    "       multiVals=\"list\")\n",
    "head(mapped_go)"
   ]
  },
  {
   "cell_type": "markdown",
   "id": "tracked-invalid",
   "metadata": {},
   "source": [
    "## TxDB Objects"
   ]
  },
  {
   "cell_type": "markdown",
   "id": "removed-polish",
   "metadata": {},
   "source": [
    "One of the other options in AnnotationHub is`TxDb`. They are also based on the AnnotationDb class and use similar methods."
   ]
  },
  {
   "cell_type": "markdown",
   "id": "thermal-christian",
   "metadata": {},
   "source": [
    "A TxDb object connects a set of genomic coordinates to transcript-oriented features. It also contains feature IDs for transcripts and genes so TxDb objects can be used to link gene IDs and transcipt IDs.\n",
    "Let's work with the human TxDb object:"
   ]
  },
  {
   "cell_type": "code",
   "execution_count": null,
   "id": "latest-estate",
   "metadata": {},
   "outputs": [],
   "source": [
    "AnnotationHub::query(ah, pattern = c(\"Homo sapiens\", \"TxDb\", \"hg19\"))"
   ]
  },
  {
   "cell_type": "markdown",
   "id": "accessible-tennessee",
   "metadata": {},
   "source": [
    "We can query the AnnotationHub and specify which record we'd like to use:"
   ]
  },
  {
   "cell_type": "code",
   "execution_count": null,
   "id": "alternate-contest",
   "metadata": {},
   "outputs": [],
   "source": [
    "txdb <- AnnotationHub::query(ah, pattern = c(\"Homo sapiens\", \"TxDb\", \"hg19\"))[['AH52258']]"
   ]
  },
  {
   "cell_type": "code",
   "execution_count": null,
   "id": "retired-vegetarian",
   "metadata": {},
   "outputs": [],
   "source": [
    "txdb"
   ]
  },
  {
   "cell_type": "markdown",
   "id": "another-application",
   "metadata": {},
   "source": [
    "Just like how we did with the OrgDb, we can look at what keytypes are available to us"
   ]
  },
  {
   "cell_type": "code",
   "execution_count": null,
   "id": "impaired-issue",
   "metadata": {},
   "outputs": [],
   "source": [
    "keytypes(txdb)"
   ]
  },
  {
   "cell_type": "markdown",
   "id": "forbidden-union",
   "metadata": {},
   "source": [
    "We can also use `select` in a similar way:"
   ]
  },
  {
   "cell_type": "code",
   "execution_count": null,
   "id": "terminal-means",
   "metadata": {},
   "outputs": [],
   "source": [
    "select(txdb, keys = c(\"2597\"), columns=c(\"TXNAME\", \"TXID\", \"CDSNAME\"), keytype=\"GENEID\")"
   ]
  },
  {
   "cell_type": "markdown",
   "id": "driving-aquatic",
   "metadata": {},
   "source": [
    "Or `mapIds`"
   ]
  },
  {
   "cell_type": "code",
   "execution_count": null,
   "id": "featured-block",
   "metadata": {},
   "outputs": [],
   "source": [
    "mapIds(txdb, keys = c(\"2597\"), column=\"TXNAME\", keytype=\"GENEID\", multiVals=\"list\")"
   ]
  },
  {
   "cell_type": "markdown",
   "id": "steady-guarantee",
   "metadata": {},
   "source": [
    "We can look at all the transcripts available in the txdb using the `transcripts()` function:"
   ]
  },
  {
   "cell_type": "code",
   "execution_count": null,
   "id": "anonymous-renewal",
   "metadata": {},
   "outputs": [],
   "source": [
    "transcripts(txdb)"
   ]
  },
  {
   "cell_type": "markdown",
   "id": "stuffed-bishop",
   "metadata": {},
   "source": [
    "We get back a GRanges object the location of each transcript, as well as its `tx_name` and `tx_id`. GRanges objects are just a way to show genomic locations (or Genomic Ranges) (https://www.bioconductor.org/packages/release/bioc/vignettes/GenomicRanges/inst/doc/GenomicRangesIntroduction.html).           \n",
    "\n",
    "              \n",
    "We can also look at `exons()`, `cds()`, `genes()` and `promoters()`.         \n",
    "You can also look at transcripts grouped by the genes that they are associated with:"
   ]
  },
  {
   "cell_type": "code",
   "execution_count": null,
   "id": "about-involvement",
   "metadata": {},
   "outputs": [],
   "source": [
    "txby <- transcriptsBy(txdb, by=\"gene\")"
   ]
  },
  {
   "cell_type": "code",
   "execution_count": null,
   "id": "gross-coast",
   "metadata": {},
   "outputs": [],
   "source": [
    "txby"
   ]
  },
  {
   "cell_type": "markdown",
   "id": "collective-florence",
   "metadata": {},
   "source": [
    "Similar functions include `exonsBy()`, `cdsBy()`, `intronsByTranscript()`, `fiveUTRsByTranscript()`, and `threeUTRsByTranscript()`. "
   ]
  },
  {
   "cell_type": "markdown",
   "id": "hazardous-acquisition",
   "metadata": {},
   "source": [
    "We can also use `seqlevelsStyle` function  (exported from `GenomeInfoDb`) to get the current seqlevels style of an object and to rename its seqlevels according to a given style. "
   ]
  },
  {
   "cell_type": "code",
   "execution_count": null,
   "id": "fleet-semiconductor",
   "metadata": {},
   "outputs": [],
   "source": [
    "seqlevelsStyle(txdb)\n",
    "seqinfo(txdb)"
   ]
  },
  {
   "cell_type": "markdown",
   "id": "threaded-rings",
   "metadata": {},
   "source": [
    "We can convert to 'NCBI' style:"
   ]
  },
  {
   "cell_type": "code",
   "execution_count": null,
   "id": "dedicated-tunnel",
   "metadata": {},
   "outputs": [],
   "source": [
    "seqlevelsStyle(txdb) <- \"NCBI\"\n",
    "seqinfo(txdb)"
   ]
  },
  {
   "cell_type": "markdown",
   "id": "urban-correlation",
   "metadata": {},
   "source": [
    "We can see what styles are supported using `genomeStyles`."
   ]
  },
  {
   "cell_type": "code",
   "execution_count": null,
   "id": "worse-spokesman",
   "metadata": {},
   "outputs": [],
   "source": [
    "head(genomeStyles(\"Homo_sapiens\"))"
   ]
  },
  {
   "cell_type": "markdown",
   "id": "handled-ecology",
   "metadata": {},
   "source": [
    "Let's convert back to `UCSC` format:"
   ]
  },
  {
   "cell_type": "code",
   "execution_count": null,
   "id": "dimensional-matthew",
   "metadata": {},
   "outputs": [],
   "source": [
    "seqlevelsStyle(txdb) <- \"UCSC\""
   ]
  },
  {
   "cell_type": "markdown",
   "id": "separate-terry",
   "metadata": {},
   "source": [
    "You could filter the object to only look at a particular chromosome if you wanted to:"
   ]
  },
  {
   "cell_type": "code",
   "execution_count": null,
   "id": "framed-magazine",
   "metadata": {},
   "outputs": [],
   "source": [
    "seqlevels(txdb) <- \"chr15\""
   ]
  },
  {
   "cell_type": "markdown",
   "id": "micro-bridge",
   "metadata": {},
   "source": [
    "# BSGenome"
   ]
  },
  {
   "cell_type": "markdown",
   "id": "falling-glucose",
   "metadata": {},
   "source": [
    "BSGenome is one option if you want to use R to search for actual sequence data. BSGenomes are `Biostrings-based` genomes, meaning that they use the package `BioStrings` to organize the data and facilitate access (https://bioconductor.org/packages/release/bioc/html/Biostrings.html). "
   ]
  },
  {
   "cell_type": "markdown",
   "id": "representative-adobe",
   "metadata": {},
   "source": [
    "We can see which genomes are available:"
   ]
  },
  {
   "cell_type": "code",
   "execution_count": null,
   "id": "tired-dodge",
   "metadata": {},
   "outputs": [],
   "source": [
    "head(available.genomes())"
   ]
  },
  {
   "cell_type": "markdown",
   "id": "finished-graduation",
   "metadata": {},
   "source": [
    "You can load `BSgenome.Hsapiens.UCSC.hg19` or `Hsapiens` into the environment (we did this at the start of the notebook), and quickly confirm txdb and Hsapiens BSGenome are the same genome assembly (they are both hg19)."
   ]
  },
  {
   "cell_type": "code",
   "execution_count": null,
   "id": "prompt-thirty",
   "metadata": {},
   "outputs": [],
   "source": [
    "Hsapiens\n",
    "txdb"
   ]
  },
  {
   "cell_type": "markdown",
   "id": "funny-force",
   "metadata": {},
   "source": [
    "We can extract the exon ranges from `txdb` grouped by transcript:"
   ]
  },
  {
   "cell_type": "code",
   "execution_count": null,
   "id": "comparable-conducting",
   "metadata": {},
   "outputs": [],
   "source": [
    "transcripts <- exonsBy(txdb, by=\"tx\", use.names=TRUE)"
   ]
  },
  {
   "cell_type": "markdown",
   "id": "secure-startup",
   "metadata": {},
   "source": [
    "Then we can extract the transcript sequences from the genome (we'll just use the first transcript to make it faster)."
   ]
  },
  {
   "cell_type": "code",
   "execution_count": null,
   "id": "caroline-better",
   "metadata": {},
   "outputs": [],
   "source": [
    "tx_seqs <- extractTranscriptSeqs(Hsapiens, transcripts[1])"
   ]
  },
  {
   "cell_type": "markdown",
   "id": "ceramic-complaint",
   "metadata": {},
   "source": [
    "Then we can look and see that we have a `DNAStringSet` as the output -- the sequences."
   ]
  },
  {
   "cell_type": "code",
   "execution_count": null,
   "id": "earned-financing",
   "metadata": {},
   "outputs": [],
   "source": [
    "tx_seqs"
   ]
  },
  {
   "cell_type": "markdown",
   "id": "drawn-authentication",
   "metadata": {},
   "source": [
    "# Ontology Analysis"
   ]
  },
  {
   "cell_type": "markdown",
   "id": "generic-minimum",
   "metadata": {},
   "source": [
    "Once we are at the step where we have genes that are differentially expressed, we can see if there is any enrichment in any functional gene groups. Two commonly used methods to look for enrichment are overrepresentation analysis (ORA) or gene set enrichment analysis (GSEA).          \n",
    "- **Over Representation Analysis (ORA)** looks for functions or processes that are over-represented (= enriched) in an experimentally-derived gene list. The background used by default is all of the genes that have an annotation. This will find genes where the difference is large, but will not detect a situation where the difference is small but coordinated across a set of genes.      \n",
    "\n",
    "- **Gene Set Enrichment (GSEA)** aggregates per-gene statistics across genes in a set. It takes a ranked list of genes and determines whether members of a gene set are randomly distributed throughout that list or if they are found primarily at the top or bottom of the list. GSEA will calculate an enrichment score based on whether a gene set is over-represented at the top or bottom fo the list, estimate the significance of the enrichment, and adjust for multiple hypothesis testing.       \n",
    "\n",
    "There are many packages for running these types of analyses ([gage](https://www.bioconductor.org/packages/release/bioc/html/gage.html), [EnrichmentBrowser](https://www.bioconductor.org/packages/release/bioc/html/EnrichmentBrowser.html)) and many of them will use similar approaches to test for enrichment. We will use [clusterProfiler](https://www.bioconductor.org/packages/release/bioc/html/clusterProfiler.html).          \n",
    "\n",
    "We will use [gene ontologies](http://geneontology.org/docs/ontology-documentation/) to organize the genes into groups based on their role in an organism. Gene Ontology loosely organize genes into three hierarchical graphs that correspond to three large umbrella categories -- **Molecular Function, Cellular Component, and Biological Process**. You can read the formal descriptions of these categories in the documentation linked above. A quote from the documentation illustrates an example of how these categories are related:        \n",
    "\n",
    "```\n",
    "In an example of GO annotation, the gene product “cytochrome c” can be described by the molecular function oxidoreductase activity, the biological process oxidative phosphorylation, and the cellular component mitochondrial matrix.\n",
    "```\n",
    "\n",
    "We can use our previously made `orgdb` object to run the enrichment analysis on `res`, which is the `results` object from DESeq2 differential expression analysis run on the `airway` data. We are comparing the dexamethasone treatment conditions, comparing treated to untreated.       \n",
    "\n",
    "We will use the functions `gseGO` and `enrichGO` from clusterProfiler.      \n",
    "\n",
    "- `gseGO` is a GSEA method, it takes a order ranked geneList as input and uses a Kolmogorov Smirnov test to run Gene Set Enrichment Analysis (GSEA) [Subramanian et al. 2005](https://www.ncbi.nlm.nih.gov/pmc/articles/pmid/16199517/). GSEA is useful in scenarios where the fold changes are subtle but modules of genes are regulated in a coordinated way.    \n",
    "- `enrichGO` is an ORA method and takes a list of genes (does not neet to be ranked) and uses Fisher's exact test with a hypergeometric distribution to run Enrichment Analysis [Boyle et al. 2004](https://academic.oup.com/bioinformatics/article/20/18/3710/202612).     \n"
   ]
  },
  {
   "cell_type": "code",
   "execution_count": null,
   "id": "pharmaceutical-firewall",
   "metadata": {},
   "outputs": [],
   "source": [
    "#Might need to re-load some packages at this point:\n",
    "library(\"AnnotationHub\")\n",
    "library(\"clusterProfiler\")\n",
    "ah <- AnnotationHub()\n",
    "orgdb <- AnnotationHub::query(ah, pattern = c(\"Homo sapiens\", \"OrgDb\"))[[1]]"
   ]
  },
  {
   "cell_type": "markdown",
   "id": "simplified-secondary",
   "metadata": {},
   "source": [
    "The DOSE package comes with a pre-made `geneList` for us to work with. Let's pull that data down and make a set of genes with a fold change larger than 2."
   ]
  },
  {
   "cell_type": "code",
   "execution_count": null,
   "id": "flexible-valley",
   "metadata": {},
   "outputs": [],
   "source": [
    "data(geneList, package=\"DOSE\")\n",
    "gene <- names(geneList)[abs(geneList) > 2]"
   ]
  },
  {
   "cell_type": "markdown",
   "id": "vocational-console",
   "metadata": {},
   "source": [
    "Then we can run `enrichGO` which is an ORA method and takes the following arguments:\n",
    "\n",
    "`gene`\ta vector of entrez gene id.\\\n",
    "`OrgDb`\tOrgDb\\\n",
    "`keyType`\tkeytype of input gene\\\n",
    "`ont`\tOne of \"BP\", \"MF\", and \"CC\" subontologies, or \"ALL\" for all three. (Biological Process, Molecular Function, Cellular Compartment\\\n",
    "`pvalueCutoff`\tadjusted pvalue cutoff on enrichment tests to report\\\n",
    "`pAdjustMethod`\tone of \"holm\", \"hochberg\", \"hommel\", \"bonferroni\", \"BH\", \"BY\", \"fdr\", \"none\"\\\n",
    "`universe`\tbackground genes. If missing, the all genes listed in the database (eg TERM2GENE table) will be used as background.\\\n",
    "`qvalueCutoff`\tqvalue cutoff on enrichment tests to report as significant. Tests must pass i) pvalueCutoff on unadjusted pvalues, ii) pvalueCutoff on adjusted pvalues and iii) qvalueCutoff on qvalues to be reported.\\\n",
    "`minGSSize`\tminimal size of genes annotated by Ontology term for testing.\\\n",
    "`maxGSSize`\tmaximal size of genes annotated for testing\\\n",
    "`readable`\twhether mapping gene ID to gene Name\\\n",
    "`pool`\tIf ont='ALL', whether pool 3 GO sub-ontologies\\    "
   ]
  },
  {
   "cell_type": "code",
   "execution_count": null,
   "id": "civilian-institution",
   "metadata": {},
   "outputs": [],
   "source": [
    "ego <- enrichGO(gene          = gene,\n",
    "                universe      = names(geneList),\n",
    "                OrgDb         = orgdb,\n",
    "                ont           = \"CC\",\n",
    "                pAdjustMethod = \"BH\",\n",
    "                pvalueCutoff  = 0.01,\n",
    "                qvalueCutoff  = 0.05,\n",
    "                readable      = TRUE)"
   ]
  },
  {
   "cell_type": "markdown",
   "id": "french-firewall",
   "metadata": {},
   "source": [
    "Then we can visualize the output with a dotplot:"
   ]
  },
  {
   "cell_type": "code",
   "execution_count": null,
   "id": "lonely-fever",
   "metadata": {},
   "outputs": [],
   "source": [
    "dotplot(ego, showCategory = 5)"
   ]
  },
  {
   "cell_type": "markdown",
   "id": "bacterial-friend",
   "metadata": {},
   "source": [
    "The size of the dot indicates how many members of the group are represented in the enrichment and the adjusted p-value is the Benjamini-Hochberg corrected p-value. `GeneRatio` is `k/n`, where for a given category (e.g. 'receptor regulator activity') `k` is the overlap of 'receptor regulator activity' genes in `gene_list` compared to all 'receptor regulator activity' genes in the org.db, where `n` is the overlap of all genes in `gene_list` compares to all genes in the org.db."
   ]
  },
  {
   "cell_type": "markdown",
   "id": "documentary-newcastle",
   "metadata": {},
   "source": [
    "Then we can run `gseGO` which is a GSEA method. It takes the following arguments:\\\n",
    "`geneList`\torder ranked geneList\\\n",
    "`ont`\tone of \"BP\", \"MF\", and \"CC\" subontologies, or \"ALL\" for all three.\\\n",
    "`OrgDb`\tOrgDb\\\n",
    "`keyType`\tkeytype of gene\\\n",
    "`exponent`\tweight of each step\\\n",
    "`minGSSize`\tminimal size of each geneSet for analyzing\\\n",
    "`maxGSSize`\tmaximal size of genes annotated for testing\\\n",
    "`eps`\tThis parameter sets the boundary for calculating the p value.\\\n",
    "`pvalueCutoff`\tpvalue Cutoff\\\n",
    "`pAdjustMethod`\tpvalue adjustment method\\\n",
    "`verbose`\tprint message or not\\\n",
    "`seed`\tlogical\\\n",
    "`by`\tone of 'fgsea' or 'DOSE'       "
   ]
  },
  {
   "cell_type": "code",
   "execution_count": null,
   "id": "earned-siemens",
   "metadata": {},
   "outputs": [],
   "source": [
    "ggo <- gseGO(geneList     = geneList,\n",
    "              OrgDb        = orgdb,\n",
    "              ont          = \"CC\",\n",
    "              minGSSize    = 100,\n",
    "              maxGSSize    = 500,\n",
    "              pvalueCutoff = 0.05,\n",
    "              verbose      = FALSE)"
   ]
  },
  {
   "cell_type": "markdown",
   "id": "voluntary-belgium",
   "metadata": {},
   "source": [
    "Then we can visualize the output with a dotplot:"
   ]
  },
  {
   "cell_type": "code",
   "execution_count": null,
   "id": "experimental-brave",
   "metadata": {},
   "outputs": [],
   "source": [
    "dotplot(ggo, showCategory = 5)"
   ]
  },
  {
   "cell_type": "markdown",
   "id": "municipal-banner",
   "metadata": {},
   "source": [
    "We can also use `enrichKEGG` and `gseKEGG` to get similar tests using KEGG data instead of GO data."
   ]
  },
  {
   "cell_type": "code",
   "execution_count": null,
   "id": "certain-richmond",
   "metadata": {},
   "outputs": [],
   "source": [
    "kk <- enrichKEGG(gene         = gene,\n",
    "                 organism     = 'hsa',\n",
    "                 pvalueCutoff = 0.05)\n",
    "dotplot(kk, showCategory = 5)"
   ]
  },
  {
   "cell_type": "code",
   "execution_count": null,
   "id": "functioning-figure",
   "metadata": {},
   "outputs": [],
   "source": [
    "kk2 <- gseKEGG(geneList     = geneList,\n",
    "               organism     = 'hsa',\n",
    "               minGSSize    = 120,\n",
    "               pvalueCutoff = 0.05,\n",
    "               verbose      = FALSE)\n",
    "dotplot(kk2, showCategory = 5)"
   ]
  }
 ],
 "metadata": {
  "kernelspec": {
   "display_name": "R",
   "language": "R",
   "name": "ir"
  },
  "language_info": {
   "codemirror_mode": "r",
   "file_extension": ".r",
   "mimetype": "text/x-r-source",
   "name": "R",
   "pygments_lexer": "r",
   "version": "4.0.0"
  }
 },
 "nbformat": 4,
 "nbformat_minor": 5
}
